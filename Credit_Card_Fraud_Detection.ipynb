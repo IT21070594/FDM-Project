{
 "cells": [
  {
   "cell_type": "markdown",
   "id": "04545024",
   "metadata": {},
   "source": [
    "# DATA PREPROCESSING"
   ]
  },
  {
   "cell_type": "markdown",
   "id": "1ccdeb67",
   "metadata": {},
   "source": [
    "## Importing the libraries"
   ]
  },
  {
   "cell_type": "code",
   "execution_count": 1,
   "id": "48bc9cb2",
   "metadata": {},
   "outputs": [],
   "source": [
    "import tensorflow as tf\n",
    "import pandas as pd\n",
    "from scipy.stats import chi2_contingency\n",
    "from datetime import datetime\n",
    "import category_encoders as ce\n",
    "import warnings\n",
    "warnings.filterwarnings('ignore')"
   ]
  },
  {
   "cell_type": "code",
   "execution_count": 2,
   "id": "c99c5be7",
   "metadata": {},
   "outputs": [
    {
     "name": "stdout",
     "output_type": "stream",
     "text": [
      "2.14.0\n"
     ]
    }
   ],
   "source": [
    "print(tf.__version__)"
   ]
  },
  {
   "cell_type": "markdown",
   "id": "6ad3fc6b",
   "metadata": {},
   "source": [
    "## Importing the dataset"
   ]
  },
  {
   "cell_type": "code",
   "execution_count": 3,
   "id": "9cbfb4b2",
   "metadata": {},
   "outputs": [
    {
     "data": {
      "text/html": [
       "<div>\n",
       "<style scoped>\n",
       "    .dataframe tbody tr th:only-of-type {\n",
       "        vertical-align: middle;\n",
       "    }\n",
       "\n",
       "    .dataframe tbody tr th {\n",
       "        vertical-align: top;\n",
       "    }\n",
       "\n",
       "    .dataframe thead th {\n",
       "        text-align: right;\n",
       "    }\n",
       "</style>\n",
       "<table border=\"1\" class=\"dataframe\">\n",
       "  <thead>\n",
       "    <tr style=\"text-align: right;\">\n",
       "      <th></th>\n",
       "      <th>trans_date_trans_time</th>\n",
       "      <th>merchant</th>\n",
       "      <th>category</th>\n",
       "      <th>amt</th>\n",
       "      <th>city</th>\n",
       "      <th>state</th>\n",
       "      <th>lat</th>\n",
       "      <th>long</th>\n",
       "      <th>city_pop</th>\n",
       "      <th>job</th>\n",
       "      <th>dob</th>\n",
       "      <th>trans_num</th>\n",
       "      <th>merch_lat</th>\n",
       "      <th>merch_long</th>\n",
       "      <th>is_fraud</th>\n",
       "    </tr>\n",
       "  </thead>\n",
       "  <tbody>\n",
       "    <tr>\n",
       "      <th>0</th>\n",
       "      <td>2019-07-21 17:20:32</td>\n",
       "      <td>Kilback, Nitzsche and Leffle</td>\n",
       "      <td>travel</td>\n",
       "      <td>5.69</td>\n",
       "      <td>Mound City</td>\n",
       "      <td>MO</td>\n",
       "      <td>40.1362</td>\n",
       "      <td>-95.2138</td>\n",
       "      <td>1631</td>\n",
       "      <td>Architect</td>\n",
       "      <td>1953-01-20</td>\n",
       "      <td>657f3b5d8265a7baed9b094f95b93f39</td>\n",
       "      <td>40.591103</td>\n",
       "      <td>-94.445245</td>\n",
       "      <td>0</td>\n",
       "    </tr>\n",
       "    <tr>\n",
       "      <th>1</th>\n",
       "      <td>2019-10-07 12:10:26</td>\n",
       "      <td>Christiansen-Gusikowski</td>\n",
       "      <td>misc_pos</td>\n",
       "      <td>51.20</td>\n",
       "      <td>Rocky Mount</td>\n",
       "      <td>MO</td>\n",
       "      <td>38.2911</td>\n",
       "      <td>-92.7059</td>\n",
       "      <td>1847</td>\n",
       "      <td>Tax inspector</td>\n",
       "      <td>1988-10-26</td>\n",
       "      <td>a0a6120995d90497124eb9117797dc2a</td>\n",
       "      <td>38.682440</td>\n",
       "      <td>-93.288181</td>\n",
       "      <td>0</td>\n",
       "    </tr>\n",
       "    <tr>\n",
       "      <th>2</th>\n",
       "      <td>2020-12-27 12:40:48</td>\n",
       "      <td>Gulgowski LLC</td>\n",
       "      <td>home</td>\n",
       "      <td>225.07</td>\n",
       "      <td>Tomales</td>\n",
       "      <td>CA</td>\n",
       "      <td>38.2427</td>\n",
       "      <td>-122.9145</td>\n",
       "      <td>337</td>\n",
       "      <td>Occupational psychologist</td>\n",
       "      <td>1954-07-05</td>\n",
       "      <td>737b67154bcfb5fa19edfed0b5dc9640</td>\n",
       "      <td>38.593997</td>\n",
       "      <td>-122.226545</td>\n",
       "      <td>0</td>\n",
       "    </tr>\n",
       "    <tr>\n",
       "      <th>3</th>\n",
       "      <td>2020-11-20 03:11:53</td>\n",
       "      <td>Hudson-Ratke</td>\n",
       "      <td>grocery_pos</td>\n",
       "      <td>121.80</td>\n",
       "      <td>Lagrange</td>\n",
       "      <td>WY</td>\n",
       "      <td>41.6423</td>\n",
       "      <td>-104.1974</td>\n",
       "      <td>635</td>\n",
       "      <td>Product/process development scientist</td>\n",
       "      <td>1973-07-13</td>\n",
       "      <td>9bfac49eb4605e0a7560ac91a526164a</td>\n",
       "      <td>41.219040</td>\n",
       "      <td>-104.248942</td>\n",
       "      <td>0</td>\n",
       "    </tr>\n",
       "    <tr>\n",
       "      <th>4</th>\n",
       "      <td>2019-12-08 07:33:54</td>\n",
       "      <td>Hermann-Gaylo</td>\n",
       "      <td>misc_pos</td>\n",
       "      <td>140.93</td>\n",
       "      <td>Littleton</td>\n",
       "      <td>CO</td>\n",
       "      <td>39.5994</td>\n",
       "      <td>-105.0044</td>\n",
       "      <td>320420</td>\n",
       "      <td>Water engineer</td>\n",
       "      <td>1975-07-31</td>\n",
       "      <td>0560bebe84613889bff8924f27538b5b</td>\n",
       "      <td>39.205949</td>\n",
       "      <td>-105.962080</td>\n",
       "      <td>0</td>\n",
       "    </tr>\n",
       "    <tr>\n",
       "      <th>...</th>\n",
       "      <td>...</td>\n",
       "      <td>...</td>\n",
       "      <td>...</td>\n",
       "      <td>...</td>\n",
       "      <td>...</td>\n",
       "      <td>...</td>\n",
       "      <td>...</td>\n",
       "      <td>...</td>\n",
       "      <td>...</td>\n",
       "      <td>...</td>\n",
       "      <td>...</td>\n",
       "      <td>...</td>\n",
       "      <td>...</td>\n",
       "      <td>...</td>\n",
       "      <td>...</td>\n",
       "    </tr>\n",
       "    <tr>\n",
       "      <th>33956</th>\n",
       "      <td>2019-08-04 16:26:10</td>\n",
       "      <td>Gleason-Macejkovic</td>\n",
       "      <td>shopping_net</td>\n",
       "      <td>1.67</td>\n",
       "      <td>Hooper</td>\n",
       "      <td>NE</td>\n",
       "      <td>41.6414</td>\n",
       "      <td>-96.5232</td>\n",
       "      <td>1745</td>\n",
       "      <td>Engineer, automotive</td>\n",
       "      <td>1973-12-26</td>\n",
       "      <td>97d739c12712fb682d9696bc002a6a98</td>\n",
       "      <td>41.905722</td>\n",
       "      <td>-96.442696</td>\n",
       "      <td>0</td>\n",
       "    </tr>\n",
       "    <tr>\n",
       "      <th>33957</th>\n",
       "      <td>2019-10-26 10:50:43</td>\n",
       "      <td>Bins, Balistreri and Beatty</td>\n",
       "      <td>shopping_pos</td>\n",
       "      <td>9.08</td>\n",
       "      <td>Saint Louis</td>\n",
       "      <td>MO</td>\n",
       "      <td>38.6171</td>\n",
       "      <td>-90.4504</td>\n",
       "      <td>927396</td>\n",
       "      <td>Occupational hygienist</td>\n",
       "      <td>1960-03-12</td>\n",
       "      <td>15dd6c4faced8d91b163291f02646e93</td>\n",
       "      <td>39.000982</td>\n",
       "      <td>-91.024037</td>\n",
       "      <td>0</td>\n",
       "    </tr>\n",
       "    <tr>\n",
       "      <th>33958</th>\n",
       "      <td>2020-07-12 05:54:46</td>\n",
       "      <td>Kutch Group</td>\n",
       "      <td>grocery_net</td>\n",
       "      <td>36.88</td>\n",
       "      <td>Hooper</td>\n",
       "      <td>NE</td>\n",
       "      <td>41.6414</td>\n",
       "      <td>-96.5232</td>\n",
       "      <td>1745</td>\n",
       "      <td>Engineer, automotive</td>\n",
       "      <td>1973-12-26</td>\n",
       "      <td>77e01ddbaf0f3ee332d93af948fb275d</td>\n",
       "      <td>41.483717</td>\n",
       "      <td>-96.345731</td>\n",
       "      <td>0</td>\n",
       "    </tr>\n",
       "    <tr>\n",
       "      <th>33959</th>\n",
       "      <td>2019-04-16 21:41:47</td>\n",
       "      <td>Konopelski, Schneider and Hartmann</td>\n",
       "      <td>food_dining</td>\n",
       "      <td>12.83</td>\n",
       "      <td>Tekoa</td>\n",
       "      <td>WA</td>\n",
       "      <td>47.2271</td>\n",
       "      <td>-117.0819</td>\n",
       "      <td>895</td>\n",
       "      <td>Clothing/textile technologist</td>\n",
       "      <td>1999-05-31</td>\n",
       "      <td>f738dc0ff880a1f68293477dde82de26</td>\n",
       "      <td>46.496408</td>\n",
       "      <td>-116.668911</td>\n",
       "      <td>0</td>\n",
       "    </tr>\n",
       "    <tr>\n",
       "      <th>33960</th>\n",
       "      <td>2020-08-25 10:15:46</td>\n",
       "      <td>Rodriguez, Yost and Jenkins</td>\n",
       "      <td>misc_net</td>\n",
       "      <td>3.68</td>\n",
       "      <td>Yellowstone National Park</td>\n",
       "      <td>WY</td>\n",
       "      <td>44.7957</td>\n",
       "      <td>-110.6137</td>\n",
       "      <td>369</td>\n",
       "      <td>Materials engineer</td>\n",
       "      <td>1941-11-16</td>\n",
       "      <td>f810593ede9775a8f6788a8d01fcc5fa</td>\n",
       "      <td>45.465152</td>\n",
       "      <td>-111.207373</td>\n",
       "      <td>0</td>\n",
       "    </tr>\n",
       "  </tbody>\n",
       "</table>\n",
       "<p>33961 rows × 15 columns</p>\n",
       "</div>"
      ],
      "text/plain": [
       "      trans_date_trans_time                            merchant      category  \\\n",
       "0       2019-07-21 17:20:32        Kilback, Nitzsche and Leffle        travel   \n",
       "1       2019-10-07 12:10:26             Christiansen-Gusikowski      misc_pos   \n",
       "2       2020-12-27 12:40:48                       Gulgowski LLC          home   \n",
       "3       2020-11-20 03:11:53                        Hudson-Ratke   grocery_pos   \n",
       "4       2019-12-08 07:33:54                       Hermann-Gaylo      misc_pos   \n",
       "...                     ...                                 ...           ...   \n",
       "33956   2019-08-04 16:26:10                  Gleason-Macejkovic  shopping_net   \n",
       "33957   2019-10-26 10:50:43         Bins, Balistreri and Beatty  shopping_pos   \n",
       "33958   2020-07-12 05:54:46                         Kutch Group   grocery_net   \n",
       "33959   2019-04-16 21:41:47  Konopelski, Schneider and Hartmann   food_dining   \n",
       "33960   2020-08-25 10:15:46         Rodriguez, Yost and Jenkins      misc_net   \n",
       "\n",
       "          amt                       city state      lat      long  city_pop  \\\n",
       "0        5.69                 Mound City    MO  40.1362  -95.2138      1631   \n",
       "1       51.20                Rocky Mount    MO  38.2911  -92.7059      1847   \n",
       "2      225.07                    Tomales    CA  38.2427 -122.9145       337   \n",
       "3      121.80                   Lagrange    WY  41.6423 -104.1974       635   \n",
       "4      140.93                  Littleton    CO  39.5994 -105.0044    320420   \n",
       "...       ...                        ...   ...      ...       ...       ...   \n",
       "33956    1.67                     Hooper    NE  41.6414  -96.5232      1745   \n",
       "33957    9.08                Saint Louis    MO  38.6171  -90.4504    927396   \n",
       "33958   36.88                     Hooper    NE  41.6414  -96.5232      1745   \n",
       "33959   12.83                      Tekoa    WA  47.2271 -117.0819       895   \n",
       "33960    3.68  Yellowstone National Park    WY  44.7957 -110.6137       369   \n",
       "\n",
       "                                         job         dob  \\\n",
       "0                                  Architect  1953-01-20   \n",
       "1                              Tax inspector  1988-10-26   \n",
       "2                  Occupational psychologist  1954-07-05   \n",
       "3      Product/process development scientist  1973-07-13   \n",
       "4                             Water engineer  1975-07-31   \n",
       "...                                      ...         ...   \n",
       "33956                   Engineer, automotive  1973-12-26   \n",
       "33957                 Occupational hygienist  1960-03-12   \n",
       "33958                   Engineer, automotive  1973-12-26   \n",
       "33959          Clothing/textile technologist  1999-05-31   \n",
       "33960                     Materials engineer  1941-11-16   \n",
       "\n",
       "                              trans_num  merch_lat  merch_long  is_fraud  \n",
       "0      657f3b5d8265a7baed9b094f95b93f39  40.591103  -94.445245         0  \n",
       "1      a0a6120995d90497124eb9117797dc2a  38.682440  -93.288181         0  \n",
       "2      737b67154bcfb5fa19edfed0b5dc9640  38.593997 -122.226545         0  \n",
       "3      9bfac49eb4605e0a7560ac91a526164a  41.219040 -104.248942         0  \n",
       "4      0560bebe84613889bff8924f27538b5b  39.205949 -105.962080         0  \n",
       "...                                 ...        ...         ...       ...  \n",
       "33956  97d739c12712fb682d9696bc002a6a98  41.905722  -96.442696         0  \n",
       "33957  15dd6c4faced8d91b163291f02646e93  39.000982  -91.024037         0  \n",
       "33958  77e01ddbaf0f3ee332d93af948fb275d  41.483717  -96.345731         0  \n",
       "33959  f738dc0ff880a1f68293477dde82de26  46.496408 -116.668911         0  \n",
       "33960  f810593ede9775a8f6788a8d01fcc5fa  45.465152 -111.207373         0  \n",
       "\n",
       "[33961 rows x 15 columns]"
      ]
     },
     "execution_count": 3,
     "metadata": {},
     "output_type": "execute_result"
    }
   ],
   "source": [
    "# Dataset with all columns\n",
    "dataset = pd.read_csv(\"Dataset/credit_card_subset.csv\")\n",
    "dataset"
   ]
  },
  {
   "cell_type": "markdown",
   "id": "587dd485",
   "metadata": {},
   "source": [
    "## Data Exploration and Understanding"
   ]
  },
  {
   "cell_type": "code",
   "execution_count": 4,
   "id": "0ae62bf7",
   "metadata": {},
   "outputs": [
    {
     "data": {
      "text/plain": [
       "trans_date_trans_time     object\n",
       "merchant                  object\n",
       "category                  object\n",
       "amt                      float64\n",
       "city                      object\n",
       "state                     object\n",
       "lat                      float64\n",
       "long                     float64\n",
       "city_pop                   int64\n",
       "job                       object\n",
       "dob                       object\n",
       "trans_num                 object\n",
       "merch_lat                float64\n",
       "merch_long               float64\n",
       "is_fraud                   int64\n",
       "dtype: object"
      ]
     },
     "execution_count": 4,
     "metadata": {},
     "output_type": "execute_result"
    }
   ],
   "source": [
    "# Explore the data types of the columns\n",
    "dataset.dtypes"
   ]
  },
  {
   "cell_type": "code",
   "execution_count": 5,
   "id": "52506bc8",
   "metadata": {},
   "outputs": [
    {
     "data": {
      "text/html": [
       "<div>\n",
       "<style scoped>\n",
       "    .dataframe tbody tr th:only-of-type {\n",
       "        vertical-align: middle;\n",
       "    }\n",
       "\n",
       "    .dataframe tbody tr th {\n",
       "        vertical-align: top;\n",
       "    }\n",
       "\n",
       "    .dataframe thead th {\n",
       "        text-align: right;\n",
       "    }\n",
       "</style>\n",
       "<table border=\"1\" class=\"dataframe\">\n",
       "  <thead>\n",
       "    <tr style=\"text-align: right;\">\n",
       "      <th></th>\n",
       "      <th>amt</th>\n",
       "      <th>lat</th>\n",
       "      <th>long</th>\n",
       "      <th>city_pop</th>\n",
       "      <th>merch_lat</th>\n",
       "      <th>merch_long</th>\n",
       "      <th>is_fraud</th>\n",
       "    </tr>\n",
       "  </thead>\n",
       "  <tbody>\n",
       "    <tr>\n",
       "      <th>count</th>\n",
       "      <td>33961.000000</td>\n",
       "      <td>33961.000000</td>\n",
       "      <td>33961.000000</td>\n",
       "      <td>3.396100e+04</td>\n",
       "      <td>33961.000000</td>\n",
       "      <td>33961.000000</td>\n",
       "      <td>33961.000000</td>\n",
       "    </tr>\n",
       "    <tr>\n",
       "      <th>mean</th>\n",
       "      <td>70.760032</td>\n",
       "      <td>39.707463</td>\n",
       "      <td>-110.690501</td>\n",
       "      <td>1.058948e+05</td>\n",
       "      <td>39.706654</td>\n",
       "      <td>-110.700418</td>\n",
       "      <td>0.005094</td>\n",
       "    </tr>\n",
       "    <tr>\n",
       "      <th>std</th>\n",
       "      <td>152.198557</td>\n",
       "      <td>5.126336</td>\n",
       "      <td>12.704703</td>\n",
       "      <td>2.895875e+05</td>\n",
       "      <td>5.160603</td>\n",
       "      <td>12.718162</td>\n",
       "      <td>0.071192</td>\n",
       "    </tr>\n",
       "    <tr>\n",
       "      <th>min</th>\n",
       "      <td>1.000000</td>\n",
       "      <td>20.027100</td>\n",
       "      <td>-165.672300</td>\n",
       "      <td>4.600000e+01</td>\n",
       "      <td>19.027422</td>\n",
       "      <td>-166.670685</td>\n",
       "      <td>0.000000</td>\n",
       "    </tr>\n",
       "    <tr>\n",
       "      <th>25%</th>\n",
       "      <td>9.550000</td>\n",
       "      <td>36.715400</td>\n",
       "      <td>-120.093600</td>\n",
       "      <td>4.710000e+02</td>\n",
       "      <td>36.773361</td>\n",
       "      <td>-119.837639</td>\n",
       "      <td>0.000000</td>\n",
       "    </tr>\n",
       "    <tr>\n",
       "      <th>50%</th>\n",
       "      <td>46.680000</td>\n",
       "      <td>39.599400</td>\n",
       "      <td>-111.029200</td>\n",
       "      <td>1.661000e+03</td>\n",
       "      <td>39.571367</td>\n",
       "      <td>-111.060831</td>\n",
       "      <td>0.000000</td>\n",
       "    </tr>\n",
       "    <tr>\n",
       "      <th>75%</th>\n",
       "      <td>83.970000</td>\n",
       "      <td>41.710000</td>\n",
       "      <td>-101.136000</td>\n",
       "      <td>3.570500e+04</td>\n",
       "      <td>42.168704</td>\n",
       "      <td>-100.553748</td>\n",
       "      <td>0.000000</td>\n",
       "    </tr>\n",
       "    <tr>\n",
       "      <th>max</th>\n",
       "      <td>8895.570000</td>\n",
       "      <td>66.693300</td>\n",
       "      <td>-89.628700</td>\n",
       "      <td>2.383912e+06</td>\n",
       "      <td>66.679297</td>\n",
       "      <td>-88.632541</td>\n",
       "      <td>1.000000</td>\n",
       "    </tr>\n",
       "  </tbody>\n",
       "</table>\n",
       "</div>"
      ],
      "text/plain": [
       "                amt           lat          long      city_pop     merch_lat  \\\n",
       "count  33961.000000  33961.000000  33961.000000  3.396100e+04  33961.000000   \n",
       "mean      70.760032     39.707463   -110.690501  1.058948e+05     39.706654   \n",
       "std      152.198557      5.126336     12.704703  2.895875e+05      5.160603   \n",
       "min        1.000000     20.027100   -165.672300  4.600000e+01     19.027422   \n",
       "25%        9.550000     36.715400   -120.093600  4.710000e+02     36.773361   \n",
       "50%       46.680000     39.599400   -111.029200  1.661000e+03     39.571367   \n",
       "75%       83.970000     41.710000   -101.136000  3.570500e+04     42.168704   \n",
       "max     8895.570000     66.693300    -89.628700  2.383912e+06     66.679297   \n",
       "\n",
       "         merch_long      is_fraud  \n",
       "count  33961.000000  33961.000000  \n",
       "mean    -110.700418      0.005094  \n",
       "std       12.718162      0.071192  \n",
       "min     -166.670685      0.000000  \n",
       "25%     -119.837639      0.000000  \n",
       "50%     -111.060831      0.000000  \n",
       "75%     -100.553748      0.000000  \n",
       "max      -88.632541      1.000000  "
      ]
     },
     "execution_count": 5,
     "metadata": {},
     "output_type": "execute_result"
    }
   ],
   "source": [
    "dataset.describe()"
   ]
  },
  {
   "cell_type": "code",
   "execution_count": 6,
   "id": "ae8c56f7",
   "metadata": {},
   "outputs": [
    {
     "data": {
      "text/plain": [
       "<bound method Series.sort_values of amt           0.227443\n",
       "lat           0.006511\n",
       "long         -0.000097\n",
       "city_pop     -0.007120\n",
       "merch_lat     0.006280\n",
       "merch_long   -0.000182\n",
       "is_fraud      1.000000\n",
       "Name: is_fraud, dtype: float64>"
      ]
     },
     "execution_count": 6,
     "metadata": {},
     "output_type": "execute_result"
    }
   ],
   "source": [
    "#To gets the columns that are most correlated with the class column\n",
    "corr = dataset.corr(numeric_only=True)['is_fraud'].sort_values\n",
    "corr\n"
   ]
  },
  {
   "cell_type": "markdown",
   "id": "88aa0d9f",
   "metadata": {},
   "source": [
    "The 'amt' feature appears to have a positive correlation with 'is_fraud,' suggesting that higher transaction amounts might be associated with a higher likelihood of fraud.\n",
    "\n",
    "The 'city_pop' feature has a very weak correlation with 'is_fraud,' suggesting it may not be a strong predictor."
   ]
  },
  {
   "cell_type": "code",
   "execution_count": 7,
   "id": "ba5fa505",
   "metadata": {},
   "outputs": [
    {
     "name": "stdout",
     "output_type": "stream",
     "text": [
      "                         Chi-Square       p-value\n",
      "city                    3994.086138  0.000000e+00\n",
      "job                     2410.496146  0.000000e+00\n",
      "dob                     4199.467315  0.000000e+00\n",
      "category                 159.135346  2.949278e-27\n",
      "state                     23.607490  2.298958e-02\n",
      "merchant                 756.957218  4.344633e-02\n",
      "trans_date_trans_time  33961.000000  4.806169e-01\n",
      "trans_num              33961.000000  4.974487e-01\n"
     ]
    }
   ],
   "source": [
    "\n",
    "\n",
    "# Select the categorical columns with 'object' data type\n",
    "categorical_columns = dataset.select_dtypes(include=['object']).columns\n",
    "\n",
    "# Create a dictionary to store chi-square statistics and p-values\n",
    "chi2_results = {}\n",
    "\n",
    "# Perform Chi-Square test for each categorical column\n",
    "for col in categorical_columns:\n",
    "    contingency_table = pd.crosstab(dataset[col], dataset['is_fraud'])\n",
    "    chi2, p, _, _ = chi2_contingency(contingency_table)\n",
    "    chi2_results[col] = {'Chi-Square': chi2, 'p-value': p}\n",
    "\n",
    "# Create a DataFrame from the results\n",
    "chi2_results_df = pd.DataFrame(chi2_results).T\n",
    "\n",
    "# Sort by p-value (smaller p-values indicate stronger association)\n",
    "chi2_results_df.sort_values(by='p-value', ascending=True, inplace=True)\n",
    "\n",
    "# Print the results\n",
    "print(chi2_results_df)"
   ]
  },
  {
   "cell_type": "markdown",
   "id": "f384387d",
   "metadata": {},
   "source": [
    "Columns like 'city,' 'job,' 'dob,' 'category,' 'state,' and 'merchant' have very low p-values close to zero, indicating a strong association with the target variable ('isFraud').\n",
    "\n",
    "The 'trans_date_trans_time' column has a p-value of approximately 0.354, indicating that it may not be strongly associated with the target variable.\n",
    "\n",
    "The 'trans_num' column has a p-value of approximately 0.499, indicating no significant association with the target variable."
   ]
  },
  {
   "cell_type": "code",
   "execution_count": 8,
   "id": "10e3a455",
   "metadata": {},
   "outputs": [
    {
     "data": {
      "text/plain": [
       "count           33961\n",
       "unique            693\n",
       "top       Kilback LLC\n",
       "freq              115\n",
       "Name: merchant, dtype: object"
      ]
     },
     "execution_count": 8,
     "metadata": {},
     "output_type": "execute_result"
    }
   ],
   "source": [
    "# To explore a particular column\n",
    "dataset['merchant'].describe()"
   ]
  },
  {
   "cell_type": "code",
   "execution_count": 9,
   "id": "1ba2e7d9",
   "metadata": {},
   "outputs": [
    {
     "data": {
      "text/plain": [
       "count             33961\n",
       "unique               14\n",
       "top       gas_transport\n",
       "freq               3529\n",
       "Name: category, dtype: object"
      ]
     },
     "execution_count": 9,
     "metadata": {},
     "output_type": "execute_result"
    }
   ],
   "source": [
    "# To explore a particular column\n",
    "dataset['category'].describe()"
   ]
  },
  {
   "cell_type": "code",
   "execution_count": 10,
   "id": "ffef5ab5",
   "metadata": {},
   "outputs": [
    {
     "data": {
      "text/plain": [
       "count       33961\n",
       "unique        172\n",
       "top       Phoenix\n",
       "freq          709\n",
       "Name: city, dtype: object"
      ]
     },
     "execution_count": 10,
     "metadata": {},
     "output_type": "execute_result"
    }
   ],
   "source": [
    "# To explore a particular column\n",
    "dataset['city'].describe()"
   ]
  },
  {
   "cell_type": "code",
   "execution_count": 11,
   "id": "469f5654",
   "metadata": {},
   "outputs": [
    {
     "data": {
      "text/plain": [
       "count     33961\n",
       "unique       13\n",
       "top          CA\n",
       "freq       8117\n",
       "Name: state, dtype: object"
      ]
     },
     "execution_count": 11,
     "metadata": {},
     "output_type": "execute_result"
    }
   ],
   "source": [
    "# To explore a particular column\n",
    "dataset['state'].describe()"
   ]
  },
  {
   "cell_type": "code",
   "execution_count": 12,
   "id": "862e64c3",
   "metadata": {},
   "outputs": [
    {
     "data": {
      "text/plain": [
       "count                  33961\n",
       "unique                   157\n",
       "top       Surveyor, minerals\n",
       "freq                     659\n",
       "Name: job, dtype: object"
      ]
     },
     "execution_count": 12,
     "metadata": {},
     "output_type": "execute_result"
    }
   ],
   "source": [
    "# To explore a particular column\n",
    "dataset['job'].describe()"
   ]
  },
  {
   "cell_type": "code",
   "execution_count": 13,
   "id": "f8145e9c",
   "metadata": {},
   "outputs": [
    {
     "data": {
      "text/plain": [
       "count                   33961\n",
       "unique                  33950\n",
       "top       2020-01-16 21:32:45\n",
       "freq                        2\n",
       "Name: trans_date_trans_time, dtype: object"
      ]
     },
     "execution_count": 13,
     "metadata": {},
     "output_type": "execute_result"
    }
   ],
   "source": [
    "# To explore a particular column\n",
    "dataset['trans_date_trans_time'].describe()"
   ]
  },
  {
   "cell_type": "code",
   "execution_count": 14,
   "id": "0cdf236f",
   "metadata": {},
   "outputs": [
    {
     "data": {
      "text/plain": [
       "count          33961\n",
       "unique           180\n",
       "top       1984-09-01\n",
       "freq             469\n",
       "Name: dob, dtype: object"
      ]
     },
     "execution_count": 14,
     "metadata": {},
     "output_type": "execute_result"
    }
   ],
   "source": [
    "# To explore a particular column\n",
    "dataset['dob'].describe()"
   ]
  },
  {
   "cell_type": "code",
   "execution_count": 15,
   "id": "77ce6408",
   "metadata": {
    "scrolled": false
   },
   "outputs": [
    {
     "data": {
      "text/plain": [
       "array(['travel', 'misc_pos', 'home', 'grocery_pos', 'health_fitness',\n",
       "       'kids_pets', 'misc_net', 'shopping_net', 'shopping_pos',\n",
       "       'food_dining', 'gas_transport', 'grocery_net', 'personal_care',\n",
       "       'entertainment'], dtype=object)"
      ]
     },
     "execution_count": 15,
     "metadata": {},
     "output_type": "execute_result"
    }
   ],
   "source": [
    "# It returns the unique values in the column as an array.\n",
    "pd.unique(dataset['category'].values)"
   ]
  },
  {
   "cell_type": "markdown",
   "id": "5f6079bc",
   "metadata": {},
   "source": [
    "## Data Cleaning"
   ]
  },
  {
   "cell_type": "markdown",
   "id": "c6eb5946",
   "metadata": {},
   "source": [
    "### (1) Removing irrelevant columns"
   ]
  },
  {
   "cell_type": "code",
   "execution_count": 16,
   "id": "be2b25ad",
   "metadata": {},
   "outputs": [
    {
     "data": {
      "text/html": [
       "<div>\n",
       "<style scoped>\n",
       "    .dataframe tbody tr th:only-of-type {\n",
       "        vertical-align: middle;\n",
       "    }\n",
       "\n",
       "    .dataframe tbody tr th {\n",
       "        vertical-align: top;\n",
       "    }\n",
       "\n",
       "    .dataframe thead th {\n",
       "        text-align: right;\n",
       "    }\n",
       "</style>\n",
       "<table border=\"1\" class=\"dataframe\">\n",
       "  <thead>\n",
       "    <tr style=\"text-align: right;\">\n",
       "      <th></th>\n",
       "      <th>merchant</th>\n",
       "      <th>category</th>\n",
       "      <th>amt</th>\n",
       "      <th>state</th>\n",
       "      <th>city</th>\n",
       "      <th>job</th>\n",
       "      <th>dob</th>\n",
       "      <th>is_fraud</th>\n",
       "    </tr>\n",
       "  </thead>\n",
       "  <tbody>\n",
       "    <tr>\n",
       "      <th>0</th>\n",
       "      <td>Kilback, Nitzsche and Leffle</td>\n",
       "      <td>travel</td>\n",
       "      <td>5.69</td>\n",
       "      <td>MO</td>\n",
       "      <td>Mound City</td>\n",
       "      <td>Architect</td>\n",
       "      <td>1953-01-20</td>\n",
       "      <td>0</td>\n",
       "    </tr>\n",
       "    <tr>\n",
       "      <th>1</th>\n",
       "      <td>Christiansen-Gusikowski</td>\n",
       "      <td>misc_pos</td>\n",
       "      <td>51.20</td>\n",
       "      <td>MO</td>\n",
       "      <td>Rocky Mount</td>\n",
       "      <td>Tax inspector</td>\n",
       "      <td>1988-10-26</td>\n",
       "      <td>0</td>\n",
       "    </tr>\n",
       "    <tr>\n",
       "      <th>2</th>\n",
       "      <td>Gulgowski LLC</td>\n",
       "      <td>home</td>\n",
       "      <td>225.07</td>\n",
       "      <td>CA</td>\n",
       "      <td>Tomales</td>\n",
       "      <td>Occupational psychologist</td>\n",
       "      <td>1954-07-05</td>\n",
       "      <td>0</td>\n",
       "    </tr>\n",
       "    <tr>\n",
       "      <th>3</th>\n",
       "      <td>Hudson-Ratke</td>\n",
       "      <td>grocery_pos</td>\n",
       "      <td>121.80</td>\n",
       "      <td>WY</td>\n",
       "      <td>Lagrange</td>\n",
       "      <td>Product/process development scientist</td>\n",
       "      <td>1973-07-13</td>\n",
       "      <td>0</td>\n",
       "    </tr>\n",
       "    <tr>\n",
       "      <th>4</th>\n",
       "      <td>Hermann-Gaylo</td>\n",
       "      <td>misc_pos</td>\n",
       "      <td>140.93</td>\n",
       "      <td>CO</td>\n",
       "      <td>Littleton</td>\n",
       "      <td>Water engineer</td>\n",
       "      <td>1975-07-31</td>\n",
       "      <td>0</td>\n",
       "    </tr>\n",
       "    <tr>\n",
       "      <th>...</th>\n",
       "      <td>...</td>\n",
       "      <td>...</td>\n",
       "      <td>...</td>\n",
       "      <td>...</td>\n",
       "      <td>...</td>\n",
       "      <td>...</td>\n",
       "      <td>...</td>\n",
       "      <td>...</td>\n",
       "    </tr>\n",
       "    <tr>\n",
       "      <th>33956</th>\n",
       "      <td>Gleason-Macejkovic</td>\n",
       "      <td>shopping_net</td>\n",
       "      <td>1.67</td>\n",
       "      <td>NE</td>\n",
       "      <td>Hooper</td>\n",
       "      <td>Engineer, automotive</td>\n",
       "      <td>1973-12-26</td>\n",
       "      <td>0</td>\n",
       "    </tr>\n",
       "    <tr>\n",
       "      <th>33957</th>\n",
       "      <td>Bins, Balistreri and Beatty</td>\n",
       "      <td>shopping_pos</td>\n",
       "      <td>9.08</td>\n",
       "      <td>MO</td>\n",
       "      <td>Saint Louis</td>\n",
       "      <td>Occupational hygienist</td>\n",
       "      <td>1960-03-12</td>\n",
       "      <td>0</td>\n",
       "    </tr>\n",
       "    <tr>\n",
       "      <th>33958</th>\n",
       "      <td>Kutch Group</td>\n",
       "      <td>grocery_net</td>\n",
       "      <td>36.88</td>\n",
       "      <td>NE</td>\n",
       "      <td>Hooper</td>\n",
       "      <td>Engineer, automotive</td>\n",
       "      <td>1973-12-26</td>\n",
       "      <td>0</td>\n",
       "    </tr>\n",
       "    <tr>\n",
       "      <th>33959</th>\n",
       "      <td>Konopelski, Schneider and Hartmann</td>\n",
       "      <td>food_dining</td>\n",
       "      <td>12.83</td>\n",
       "      <td>WA</td>\n",
       "      <td>Tekoa</td>\n",
       "      <td>Clothing/textile technologist</td>\n",
       "      <td>1999-05-31</td>\n",
       "      <td>0</td>\n",
       "    </tr>\n",
       "    <tr>\n",
       "      <th>33960</th>\n",
       "      <td>Rodriguez, Yost and Jenkins</td>\n",
       "      <td>misc_net</td>\n",
       "      <td>3.68</td>\n",
       "      <td>WY</td>\n",
       "      <td>Yellowstone National Park</td>\n",
       "      <td>Materials engineer</td>\n",
       "      <td>1941-11-16</td>\n",
       "      <td>0</td>\n",
       "    </tr>\n",
       "  </tbody>\n",
       "</table>\n",
       "<p>33961 rows × 8 columns</p>\n",
       "</div>"
      ],
      "text/plain": [
       "                                 merchant      category     amt state  \\\n",
       "0            Kilback, Nitzsche and Leffle        travel    5.69    MO   \n",
       "1                 Christiansen-Gusikowski      misc_pos   51.20    MO   \n",
       "2                           Gulgowski LLC          home  225.07    CA   \n",
       "3                            Hudson-Ratke   grocery_pos  121.80    WY   \n",
       "4                           Hermann-Gaylo      misc_pos  140.93    CO   \n",
       "...                                   ...           ...     ...   ...   \n",
       "33956                  Gleason-Macejkovic  shopping_net    1.67    NE   \n",
       "33957         Bins, Balistreri and Beatty  shopping_pos    9.08    MO   \n",
       "33958                         Kutch Group   grocery_net   36.88    NE   \n",
       "33959  Konopelski, Schneider and Hartmann   food_dining   12.83    WA   \n",
       "33960         Rodriguez, Yost and Jenkins      misc_net    3.68    WY   \n",
       "\n",
       "                            city                                    job  \\\n",
       "0                     Mound City                              Architect   \n",
       "1                    Rocky Mount                          Tax inspector   \n",
       "2                        Tomales              Occupational psychologist   \n",
       "3                       Lagrange  Product/process development scientist   \n",
       "4                      Littleton                         Water engineer   \n",
       "...                          ...                                    ...   \n",
       "33956                     Hooper                   Engineer, automotive   \n",
       "33957                Saint Louis                 Occupational hygienist   \n",
       "33958                     Hooper                   Engineer, automotive   \n",
       "33959                      Tekoa          Clothing/textile technologist   \n",
       "33960  Yellowstone National Park                     Materials engineer   \n",
       "\n",
       "              dob  is_fraud  \n",
       "0      1953-01-20         0  \n",
       "1      1988-10-26         0  \n",
       "2      1954-07-05         0  \n",
       "3      1973-07-13         0  \n",
       "4      1975-07-31         0  \n",
       "...           ...       ...  \n",
       "33956  1973-12-26         0  \n",
       "33957  1960-03-12         0  \n",
       "33958  1973-12-26         0  \n",
       "33959  1999-05-31         0  \n",
       "33960  1941-11-16         0  \n",
       "\n",
       "[33961 rows x 8 columns]"
      ]
     },
     "execution_count": 16,
     "metadata": {},
     "output_type": "execute_result"
    }
   ],
   "source": [
    "# List of columns we want to keep\n",
    "desired_columns = [ 'merchant', 'category', 'amt', 'state', 'city', 'job', 'dob', 'is_fraud']\n",
    "\n",
    "# Filter the DataFrame to keep only the desired columns\n",
    "filtered = dataset[desired_columns]\n",
    "\n",
    "# 'filtered' now contains only the specified columns, and the rest are removed\n",
    "filtered"
   ]
  },
  {
   "cell_type": "code",
   "execution_count": 17,
   "id": "eebb1c51",
   "metadata": {},
   "outputs": [],
   "source": [
    "# filtered = dataset.drop(['city_pop',lat', 'long', 'trans_num', 'merch_long', 'merch_lat'], axis=1)\n",
    "# filtered"
   ]
  },
  {
   "cell_type": "markdown",
   "id": "4fef4510",
   "metadata": {},
   "source": [
    "### (2) Handling missing data"
   ]
  },
  {
   "cell_type": "code",
   "execution_count": 18,
   "id": "b178e5d8",
   "metadata": {},
   "outputs": [
    {
     "name": "stdout",
     "output_type": "stream",
     "text": [
      "<class 'pandas.core.frame.DataFrame'>\n",
      "RangeIndex: 33961 entries, 0 to 33960\n",
      "Data columns (total 8 columns):\n",
      " #   Column    Non-Null Count  Dtype  \n",
      "---  ------    --------------  -----  \n",
      " 0   merchant  33961 non-null  object \n",
      " 1   category  33961 non-null  object \n",
      " 2   amt       33961 non-null  float64\n",
      " 3   state     33961 non-null  object \n",
      " 4   city      33961 non-null  object \n",
      " 5   job       33961 non-null  object \n",
      " 6   dob       33961 non-null  object \n",
      " 7   is_fraud  33961 non-null  int64  \n",
      "dtypes: float64(1), int64(1), object(6)\n",
      "memory usage: 2.1+ MB\n"
     ]
    }
   ],
   "source": [
    "# Use the “info()” function to have an idea about null columns.\n",
    "filtered.info()"
   ]
  },
  {
   "cell_type": "code",
   "execution_count": 19,
   "id": "237c58a2",
   "metadata": {},
   "outputs": [
    {
     "data": {
      "text/plain": [
       "merchant    0\n",
       "category    0\n",
       "amt         0\n",
       "state       0\n",
       "city        0\n",
       "job         0\n",
       "dob         0\n",
       "is_fraud    0\n",
       "dtype: int64"
      ]
     },
     "execution_count": 19,
     "metadata": {},
     "output_type": "execute_result"
    }
   ],
   "source": [
    "# Check the null values count in the filtered dataset.\n",
    "filtered.isnull().sum()"
   ]
  },
  {
   "cell_type": "markdown",
   "id": "c408a046",
   "metadata": {},
   "source": [
    "### (3) Handling duplicate data "
   ]
  },
  {
   "cell_type": "code",
   "execution_count": 20,
   "id": "697851ae",
   "metadata": {},
   "outputs": [
    {
     "name": "stdout",
     "output_type": "stream",
     "text": [
      "Duplicate Rows:\n",
      "                            merchant      category   amt state       city  \\\n",
      "9778                       Price Inc  shopping_net  2.25    NM  Red River   \n",
      "30837  Bernhard, Grant and Langworth  shopping_pos  9.07    UT       Moab   \n",
      "\n",
      "                            job         dob  is_fraud  \n",
      "9778   Surveyor, land/geomatics  1988-09-06         0  \n",
      "30837          Location manager  1989-11-24         0  \n"
     ]
    }
   ],
   "source": [
    "# Check for duplicate rows\n",
    "duplicate_rows = filtered[filtered.duplicated()]\n",
    "\n",
    "# Print the duplicate rows\n",
    "print(\"Duplicate Rows:\")\n",
    "print(duplicate_rows)"
   ]
  },
  {
   "cell_type": "code",
   "execution_count": 21,
   "id": "a696fcf6",
   "metadata": {},
   "outputs": [
    {
     "data": {
      "text/html": [
       "<div>\n",
       "<style scoped>\n",
       "    .dataframe tbody tr th:only-of-type {\n",
       "        vertical-align: middle;\n",
       "    }\n",
       "\n",
       "    .dataframe tbody tr th {\n",
       "        vertical-align: top;\n",
       "    }\n",
       "\n",
       "    .dataframe thead th {\n",
       "        text-align: right;\n",
       "    }\n",
       "</style>\n",
       "<table border=\"1\" class=\"dataframe\">\n",
       "  <thead>\n",
       "    <tr style=\"text-align: right;\">\n",
       "      <th></th>\n",
       "      <th>merchant</th>\n",
       "      <th>category</th>\n",
       "      <th>amt</th>\n",
       "      <th>state</th>\n",
       "      <th>city</th>\n",
       "      <th>job</th>\n",
       "      <th>dob</th>\n",
       "      <th>is_fraud</th>\n",
       "    </tr>\n",
       "  </thead>\n",
       "  <tbody>\n",
       "    <tr>\n",
       "      <th>0</th>\n",
       "      <td>Kilback, Nitzsche and Leffle</td>\n",
       "      <td>travel</td>\n",
       "      <td>5.69</td>\n",
       "      <td>MO</td>\n",
       "      <td>Mound City</td>\n",
       "      <td>Architect</td>\n",
       "      <td>1953-01-20</td>\n",
       "      <td>0</td>\n",
       "    </tr>\n",
       "    <tr>\n",
       "      <th>1</th>\n",
       "      <td>Christiansen-Gusikowski</td>\n",
       "      <td>misc_pos</td>\n",
       "      <td>51.20</td>\n",
       "      <td>MO</td>\n",
       "      <td>Rocky Mount</td>\n",
       "      <td>Tax inspector</td>\n",
       "      <td>1988-10-26</td>\n",
       "      <td>0</td>\n",
       "    </tr>\n",
       "    <tr>\n",
       "      <th>2</th>\n",
       "      <td>Gulgowski LLC</td>\n",
       "      <td>home</td>\n",
       "      <td>225.07</td>\n",
       "      <td>CA</td>\n",
       "      <td>Tomales</td>\n",
       "      <td>Occupational psychologist</td>\n",
       "      <td>1954-07-05</td>\n",
       "      <td>0</td>\n",
       "    </tr>\n",
       "    <tr>\n",
       "      <th>3</th>\n",
       "      <td>Hudson-Ratke</td>\n",
       "      <td>grocery_pos</td>\n",
       "      <td>121.80</td>\n",
       "      <td>WY</td>\n",
       "      <td>Lagrange</td>\n",
       "      <td>Product/process development scientist</td>\n",
       "      <td>1973-07-13</td>\n",
       "      <td>0</td>\n",
       "    </tr>\n",
       "    <tr>\n",
       "      <th>4</th>\n",
       "      <td>Hermann-Gaylo</td>\n",
       "      <td>misc_pos</td>\n",
       "      <td>140.93</td>\n",
       "      <td>CO</td>\n",
       "      <td>Littleton</td>\n",
       "      <td>Water engineer</td>\n",
       "      <td>1975-07-31</td>\n",
       "      <td>0</td>\n",
       "    </tr>\n",
       "    <tr>\n",
       "      <th>...</th>\n",
       "      <td>...</td>\n",
       "      <td>...</td>\n",
       "      <td>...</td>\n",
       "      <td>...</td>\n",
       "      <td>...</td>\n",
       "      <td>...</td>\n",
       "      <td>...</td>\n",
       "      <td>...</td>\n",
       "    </tr>\n",
       "    <tr>\n",
       "      <th>33956</th>\n",
       "      <td>Gleason-Macejkovic</td>\n",
       "      <td>shopping_net</td>\n",
       "      <td>1.67</td>\n",
       "      <td>NE</td>\n",
       "      <td>Hooper</td>\n",
       "      <td>Engineer, automotive</td>\n",
       "      <td>1973-12-26</td>\n",
       "      <td>0</td>\n",
       "    </tr>\n",
       "    <tr>\n",
       "      <th>33957</th>\n",
       "      <td>Bins, Balistreri and Beatty</td>\n",
       "      <td>shopping_pos</td>\n",
       "      <td>9.08</td>\n",
       "      <td>MO</td>\n",
       "      <td>Saint Louis</td>\n",
       "      <td>Occupational hygienist</td>\n",
       "      <td>1960-03-12</td>\n",
       "      <td>0</td>\n",
       "    </tr>\n",
       "    <tr>\n",
       "      <th>33958</th>\n",
       "      <td>Kutch Group</td>\n",
       "      <td>grocery_net</td>\n",
       "      <td>36.88</td>\n",
       "      <td>NE</td>\n",
       "      <td>Hooper</td>\n",
       "      <td>Engineer, automotive</td>\n",
       "      <td>1973-12-26</td>\n",
       "      <td>0</td>\n",
       "    </tr>\n",
       "    <tr>\n",
       "      <th>33959</th>\n",
       "      <td>Konopelski, Schneider and Hartmann</td>\n",
       "      <td>food_dining</td>\n",
       "      <td>12.83</td>\n",
       "      <td>WA</td>\n",
       "      <td>Tekoa</td>\n",
       "      <td>Clothing/textile technologist</td>\n",
       "      <td>1999-05-31</td>\n",
       "      <td>0</td>\n",
       "    </tr>\n",
       "    <tr>\n",
       "      <th>33960</th>\n",
       "      <td>Rodriguez, Yost and Jenkins</td>\n",
       "      <td>misc_net</td>\n",
       "      <td>3.68</td>\n",
       "      <td>WY</td>\n",
       "      <td>Yellowstone National Park</td>\n",
       "      <td>Materials engineer</td>\n",
       "      <td>1941-11-16</td>\n",
       "      <td>0</td>\n",
       "    </tr>\n",
       "  </tbody>\n",
       "</table>\n",
       "<p>33959 rows × 8 columns</p>\n",
       "</div>"
      ],
      "text/plain": [
       "                                 merchant      category     amt state  \\\n",
       "0            Kilback, Nitzsche and Leffle        travel    5.69    MO   \n",
       "1                 Christiansen-Gusikowski      misc_pos   51.20    MO   \n",
       "2                           Gulgowski LLC          home  225.07    CA   \n",
       "3                            Hudson-Ratke   grocery_pos  121.80    WY   \n",
       "4                           Hermann-Gaylo      misc_pos  140.93    CO   \n",
       "...                                   ...           ...     ...   ...   \n",
       "33956                  Gleason-Macejkovic  shopping_net    1.67    NE   \n",
       "33957         Bins, Balistreri and Beatty  shopping_pos    9.08    MO   \n",
       "33958                         Kutch Group   grocery_net   36.88    NE   \n",
       "33959  Konopelski, Schneider and Hartmann   food_dining   12.83    WA   \n",
       "33960         Rodriguez, Yost and Jenkins      misc_net    3.68    WY   \n",
       "\n",
       "                            city                                    job  \\\n",
       "0                     Mound City                              Architect   \n",
       "1                    Rocky Mount                          Tax inspector   \n",
       "2                        Tomales              Occupational psychologist   \n",
       "3                       Lagrange  Product/process development scientist   \n",
       "4                      Littleton                         Water engineer   \n",
       "...                          ...                                    ...   \n",
       "33956                     Hooper                   Engineer, automotive   \n",
       "33957                Saint Louis                 Occupational hygienist   \n",
       "33958                     Hooper                   Engineer, automotive   \n",
       "33959                      Tekoa          Clothing/textile technologist   \n",
       "33960  Yellowstone National Park                     Materials engineer   \n",
       "\n",
       "              dob  is_fraud  \n",
       "0      1953-01-20         0  \n",
       "1      1988-10-26         0  \n",
       "2      1954-07-05         0  \n",
       "3      1973-07-13         0  \n",
       "4      1975-07-31         0  \n",
       "...           ...       ...  \n",
       "33956  1973-12-26         0  \n",
       "33957  1960-03-12         0  \n",
       "33958  1973-12-26         0  \n",
       "33959  1999-05-31         0  \n",
       "33960  1941-11-16         0  \n",
       "\n",
       "[33959 rows x 8 columns]"
      ]
     },
     "execution_count": 21,
     "metadata": {},
     "output_type": "execute_result"
    }
   ],
   "source": [
    "# Handle duplicates\n",
    "filtered.drop_duplicates(inplace=False)"
   ]
  },
  {
   "cell_type": "markdown",
   "id": "38ce48bc",
   "metadata": {},
   "source": [
    "## Feature Engineering"
   ]
  },
  {
   "cell_type": "markdown",
   "id": "46137de6",
   "metadata": {},
   "source": [
    "### (1) Converting 'dob' from object data type to numeric data type"
   ]
  },
  {
   "cell_type": "code",
   "execution_count": 22,
   "id": "202f8760",
   "metadata": {},
   "outputs": [
    {
     "name": "stdout",
     "output_type": "stream",
     "text": [
      "                                 merchant      category     amt state  \\\n",
      "0            Kilback, Nitzsche and Leffle        travel    5.69    MO   \n",
      "1                 Christiansen-Gusikowski      misc_pos   51.20    MO   \n",
      "2                           Gulgowski LLC          home  225.07    CA   \n",
      "3                            Hudson-Ratke   grocery_pos  121.80    WY   \n",
      "4                           Hermann-Gaylo      misc_pos  140.93    CO   \n",
      "...                                   ...           ...     ...   ...   \n",
      "33956                  Gleason-Macejkovic  shopping_net    1.67    NE   \n",
      "33957         Bins, Balistreri and Beatty  shopping_pos    9.08    MO   \n",
      "33958                         Kutch Group   grocery_net   36.88    NE   \n",
      "33959  Konopelski, Schneider and Hartmann   food_dining   12.83    WA   \n",
      "33960         Rodriguez, Yost and Jenkins      misc_net    3.68    WY   \n",
      "\n",
      "                            city                                    job  \\\n",
      "0                     Mound City                              Architect   \n",
      "1                    Rocky Mount                          Tax inspector   \n",
      "2                        Tomales              Occupational psychologist   \n",
      "3                       Lagrange  Product/process development scientist   \n",
      "4                      Littleton                         Water engineer   \n",
      "...                          ...                                    ...   \n",
      "33956                     Hooper                   Engineer, automotive   \n",
      "33957                Saint Louis                 Occupational hygienist   \n",
      "33958                     Hooper                   Engineer, automotive   \n",
      "33959                      Tekoa          Clothing/textile technologist   \n",
      "33960  Yellowstone National Park                     Materials engineer   \n",
      "\n",
      "             dob  is_fraud  age  \n",
      "0     1953-01-20         0   70  \n",
      "1     1988-10-26         0   35  \n",
      "2     1954-07-05         0   69  \n",
      "3     1973-07-13         0   50  \n",
      "4     1975-07-31         0   48  \n",
      "...          ...       ...  ...  \n",
      "33956 1973-12-26         0   49  \n",
      "33957 1960-03-12         0   63  \n",
      "33958 1973-12-26         0   49  \n",
      "33959 1999-05-31         0   24  \n",
      "33960 1941-11-16         0   81  \n",
      "\n",
      "[33961 rows x 9 columns]\n"
     ]
    }
   ],
   "source": [
    "# Assuming 'dob' column contains date of birth in a valid date format\n",
    "filtered['dob'] = pd.to_datetime(filtered['dob'])\n",
    "\n",
    "# Calculate age based on the current date\n",
    "current_date = datetime.now()\n",
    "filtered.loc[:, 'age'] = (current_date - filtered['dob']).dt.days // 365  # Calculate age in years\n",
    "\n",
    "# 'age' column now contains the age of individuals as numeric values\n",
    "print(filtered)\n"
   ]
  },
  {
   "cell_type": "code",
   "execution_count": 23,
   "id": "5db031b8",
   "metadata": {},
   "outputs": [
    {
     "data": {
      "text/plain": [
       "count    33961.000000\n",
       "mean        51.088042\n",
       "std         17.036769\n",
       "min         22.000000\n",
       "25%         38.000000\n",
       "50%         49.000000\n",
       "75%         62.000000\n",
       "max         96.000000\n",
       "Name: age, dtype: float64"
      ]
     },
     "execution_count": 23,
     "metadata": {},
     "output_type": "execute_result"
    }
   ],
   "source": [
    "filtered['age'].describe()"
   ]
  },
  {
   "cell_type": "code",
   "execution_count": 24,
   "id": "7cd3e1fe",
   "metadata": {},
   "outputs": [
    {
     "data": {
      "text/html": [
       "<div>\n",
       "<style scoped>\n",
       "    .dataframe tbody tr th:only-of-type {\n",
       "        vertical-align: middle;\n",
       "    }\n",
       "\n",
       "    .dataframe tbody tr th {\n",
       "        vertical-align: top;\n",
       "    }\n",
       "\n",
       "    .dataframe thead th {\n",
       "        text-align: right;\n",
       "    }\n",
       "</style>\n",
       "<table border=\"1\" class=\"dataframe\">\n",
       "  <thead>\n",
       "    <tr style=\"text-align: right;\">\n",
       "      <th></th>\n",
       "      <th>merchant</th>\n",
       "      <th>category</th>\n",
       "      <th>job</th>\n",
       "      <th>age</th>\n",
       "      <th>state</th>\n",
       "      <th>city</th>\n",
       "      <th>amt</th>\n",
       "      <th>is_fraud</th>\n",
       "    </tr>\n",
       "  </thead>\n",
       "  <tbody>\n",
       "    <tr>\n",
       "      <th>0</th>\n",
       "      <td>Kilback, Nitzsche and Leffle</td>\n",
       "      <td>travel</td>\n",
       "      <td>Architect</td>\n",
       "      <td>70</td>\n",
       "      <td>MO</td>\n",
       "      <td>Mound City</td>\n",
       "      <td>5.69</td>\n",
       "      <td>0</td>\n",
       "    </tr>\n",
       "    <tr>\n",
       "      <th>1</th>\n",
       "      <td>Christiansen-Gusikowski</td>\n",
       "      <td>misc_pos</td>\n",
       "      <td>Tax inspector</td>\n",
       "      <td>35</td>\n",
       "      <td>MO</td>\n",
       "      <td>Rocky Mount</td>\n",
       "      <td>51.20</td>\n",
       "      <td>0</td>\n",
       "    </tr>\n",
       "    <tr>\n",
       "      <th>2</th>\n",
       "      <td>Gulgowski LLC</td>\n",
       "      <td>home</td>\n",
       "      <td>Occupational psychologist</td>\n",
       "      <td>69</td>\n",
       "      <td>CA</td>\n",
       "      <td>Tomales</td>\n",
       "      <td>225.07</td>\n",
       "      <td>0</td>\n",
       "    </tr>\n",
       "    <tr>\n",
       "      <th>3</th>\n",
       "      <td>Hudson-Ratke</td>\n",
       "      <td>grocery_pos</td>\n",
       "      <td>Product/process development scientist</td>\n",
       "      <td>50</td>\n",
       "      <td>WY</td>\n",
       "      <td>Lagrange</td>\n",
       "      <td>121.80</td>\n",
       "      <td>0</td>\n",
       "    </tr>\n",
       "    <tr>\n",
       "      <th>4</th>\n",
       "      <td>Hermann-Gaylo</td>\n",
       "      <td>misc_pos</td>\n",
       "      <td>Water engineer</td>\n",
       "      <td>48</td>\n",
       "      <td>CO</td>\n",
       "      <td>Littleton</td>\n",
       "      <td>140.93</td>\n",
       "      <td>0</td>\n",
       "    </tr>\n",
       "    <tr>\n",
       "      <th>...</th>\n",
       "      <td>...</td>\n",
       "      <td>...</td>\n",
       "      <td>...</td>\n",
       "      <td>...</td>\n",
       "      <td>...</td>\n",
       "      <td>...</td>\n",
       "      <td>...</td>\n",
       "      <td>...</td>\n",
       "    </tr>\n",
       "    <tr>\n",
       "      <th>33956</th>\n",
       "      <td>Gleason-Macejkovic</td>\n",
       "      <td>shopping_net</td>\n",
       "      <td>Engineer, automotive</td>\n",
       "      <td>49</td>\n",
       "      <td>NE</td>\n",
       "      <td>Hooper</td>\n",
       "      <td>1.67</td>\n",
       "      <td>0</td>\n",
       "    </tr>\n",
       "    <tr>\n",
       "      <th>33957</th>\n",
       "      <td>Bins, Balistreri and Beatty</td>\n",
       "      <td>shopping_pos</td>\n",
       "      <td>Occupational hygienist</td>\n",
       "      <td>63</td>\n",
       "      <td>MO</td>\n",
       "      <td>Saint Louis</td>\n",
       "      <td>9.08</td>\n",
       "      <td>0</td>\n",
       "    </tr>\n",
       "    <tr>\n",
       "      <th>33958</th>\n",
       "      <td>Kutch Group</td>\n",
       "      <td>grocery_net</td>\n",
       "      <td>Engineer, automotive</td>\n",
       "      <td>49</td>\n",
       "      <td>NE</td>\n",
       "      <td>Hooper</td>\n",
       "      <td>36.88</td>\n",
       "      <td>0</td>\n",
       "    </tr>\n",
       "    <tr>\n",
       "      <th>33959</th>\n",
       "      <td>Konopelski, Schneider and Hartmann</td>\n",
       "      <td>food_dining</td>\n",
       "      <td>Clothing/textile technologist</td>\n",
       "      <td>24</td>\n",
       "      <td>WA</td>\n",
       "      <td>Tekoa</td>\n",
       "      <td>12.83</td>\n",
       "      <td>0</td>\n",
       "    </tr>\n",
       "    <tr>\n",
       "      <th>33960</th>\n",
       "      <td>Rodriguez, Yost and Jenkins</td>\n",
       "      <td>misc_net</td>\n",
       "      <td>Materials engineer</td>\n",
       "      <td>81</td>\n",
       "      <td>WY</td>\n",
       "      <td>Yellowstone National Park</td>\n",
       "      <td>3.68</td>\n",
       "      <td>0</td>\n",
       "    </tr>\n",
       "  </tbody>\n",
       "</table>\n",
       "<p>33961 rows × 8 columns</p>\n",
       "</div>"
      ],
      "text/plain": [
       "                                 merchant      category  \\\n",
       "0            Kilback, Nitzsche and Leffle        travel   \n",
       "1                 Christiansen-Gusikowski      misc_pos   \n",
       "2                           Gulgowski LLC          home   \n",
       "3                            Hudson-Ratke   grocery_pos   \n",
       "4                           Hermann-Gaylo      misc_pos   \n",
       "...                                   ...           ...   \n",
       "33956                  Gleason-Macejkovic  shopping_net   \n",
       "33957         Bins, Balistreri and Beatty  shopping_pos   \n",
       "33958                         Kutch Group   grocery_net   \n",
       "33959  Konopelski, Schneider and Hartmann   food_dining   \n",
       "33960         Rodriguez, Yost and Jenkins      misc_net   \n",
       "\n",
       "                                         job  age state  \\\n",
       "0                                  Architect   70    MO   \n",
       "1                              Tax inspector   35    MO   \n",
       "2                  Occupational psychologist   69    CA   \n",
       "3      Product/process development scientist   50    WY   \n",
       "4                             Water engineer   48    CO   \n",
       "...                                      ...  ...   ...   \n",
       "33956                   Engineer, automotive   49    NE   \n",
       "33957                 Occupational hygienist   63    MO   \n",
       "33958                   Engineer, automotive   49    NE   \n",
       "33959          Clothing/textile technologist   24    WA   \n",
       "33960                     Materials engineer   81    WY   \n",
       "\n",
       "                            city     amt  is_fraud  \n",
       "0                     Mound City    5.69         0  \n",
       "1                    Rocky Mount   51.20         0  \n",
       "2                        Tomales  225.07         0  \n",
       "3                       Lagrange  121.80         0  \n",
       "4                      Littleton  140.93         0  \n",
       "...                          ...     ...       ...  \n",
       "33956                     Hooper    1.67         0  \n",
       "33957                Saint Louis    9.08         0  \n",
       "33958                     Hooper   36.88         0  \n",
       "33959                      Tekoa   12.83         0  \n",
       "33960  Yellowstone National Park    3.68         0  \n",
       "\n",
       "[33961 rows x 8 columns]"
      ]
     },
     "execution_count": 24,
     "metadata": {},
     "output_type": "execute_result"
    }
   ],
   "source": [
    "# List of columns we want to keep\n",
    "desired_columns = [  'merchant', 'category', 'job', 'age', 'state', 'city','amt', 'is_fraud']\n",
    "\n",
    "# Filter the DataFrame to keep only the desired columns\n",
    "filtered = filtered[desired_columns]\n",
    "\n",
    "# 'filtered_df' now contains only the specified columns, and the rest are removed\n",
    "filtered"
   ]
  },
  {
   "cell_type": "markdown",
   "id": "7c3e130c",
   "metadata": {},
   "source": [
    "### (2)  Encode categorical variables"
   ]
  },
  {
   "cell_type": "code",
   "execution_count": 25,
   "id": "34c87d1b",
   "metadata": {},
   "outputs": [
    {
     "data": {
      "text/html": [
       "<div>\n",
       "<style scoped>\n",
       "    .dataframe tbody tr th:only-of-type {\n",
       "        vertical-align: middle;\n",
       "    }\n",
       "\n",
       "    .dataframe tbody tr th {\n",
       "        vertical-align: top;\n",
       "    }\n",
       "\n",
       "    .dataframe thead th {\n",
       "        text-align: right;\n",
       "    }\n",
       "</style>\n",
       "<table border=\"1\" class=\"dataframe\">\n",
       "  <thead>\n",
       "    <tr style=\"text-align: right;\">\n",
       "      <th></th>\n",
       "      <th>merchant_0</th>\n",
       "      <th>merchant_1</th>\n",
       "      <th>merchant_2</th>\n",
       "      <th>merchant_3</th>\n",
       "      <th>merchant_4</th>\n",
       "      <th>merchant_5</th>\n",
       "      <th>merchant_6</th>\n",
       "      <th>merchant_7</th>\n",
       "      <th>merchant_8</th>\n",
       "      <th>merchant_9</th>\n",
       "      <th>...</th>\n",
       "      <th>city_0</th>\n",
       "      <th>city_1</th>\n",
       "      <th>city_2</th>\n",
       "      <th>city_3</th>\n",
       "      <th>city_4</th>\n",
       "      <th>city_5</th>\n",
       "      <th>city_6</th>\n",
       "      <th>city_7</th>\n",
       "      <th>amt</th>\n",
       "      <th>is_fraud</th>\n",
       "    </tr>\n",
       "  </thead>\n",
       "  <tbody>\n",
       "    <tr>\n",
       "      <th>0</th>\n",
       "      <td>0</td>\n",
       "      <td>0</td>\n",
       "      <td>0</td>\n",
       "      <td>0</td>\n",
       "      <td>0</td>\n",
       "      <td>0</td>\n",
       "      <td>0</td>\n",
       "      <td>0</td>\n",
       "      <td>0</td>\n",
       "      <td>1</td>\n",
       "      <td>...</td>\n",
       "      <td>0</td>\n",
       "      <td>0</td>\n",
       "      <td>0</td>\n",
       "      <td>0</td>\n",
       "      <td>0</td>\n",
       "      <td>0</td>\n",
       "      <td>0</td>\n",
       "      <td>1</td>\n",
       "      <td>5.69</td>\n",
       "      <td>0</td>\n",
       "    </tr>\n",
       "    <tr>\n",
       "      <th>1</th>\n",
       "      <td>0</td>\n",
       "      <td>0</td>\n",
       "      <td>0</td>\n",
       "      <td>0</td>\n",
       "      <td>0</td>\n",
       "      <td>0</td>\n",
       "      <td>0</td>\n",
       "      <td>0</td>\n",
       "      <td>1</td>\n",
       "      <td>0</td>\n",
       "      <td>...</td>\n",
       "      <td>0</td>\n",
       "      <td>0</td>\n",
       "      <td>0</td>\n",
       "      <td>0</td>\n",
       "      <td>0</td>\n",
       "      <td>0</td>\n",
       "      <td>1</td>\n",
       "      <td>0</td>\n",
       "      <td>51.20</td>\n",
       "      <td>0</td>\n",
       "    </tr>\n",
       "    <tr>\n",
       "      <th>2</th>\n",
       "      <td>0</td>\n",
       "      <td>0</td>\n",
       "      <td>0</td>\n",
       "      <td>0</td>\n",
       "      <td>0</td>\n",
       "      <td>0</td>\n",
       "      <td>0</td>\n",
       "      <td>0</td>\n",
       "      <td>1</td>\n",
       "      <td>1</td>\n",
       "      <td>...</td>\n",
       "      <td>0</td>\n",
       "      <td>0</td>\n",
       "      <td>0</td>\n",
       "      <td>0</td>\n",
       "      <td>0</td>\n",
       "      <td>0</td>\n",
       "      <td>1</td>\n",
       "      <td>1</td>\n",
       "      <td>225.07</td>\n",
       "      <td>0</td>\n",
       "    </tr>\n",
       "    <tr>\n",
       "      <th>3</th>\n",
       "      <td>0</td>\n",
       "      <td>0</td>\n",
       "      <td>0</td>\n",
       "      <td>0</td>\n",
       "      <td>0</td>\n",
       "      <td>0</td>\n",
       "      <td>0</td>\n",
       "      <td>1</td>\n",
       "      <td>0</td>\n",
       "      <td>0</td>\n",
       "      <td>...</td>\n",
       "      <td>0</td>\n",
       "      <td>0</td>\n",
       "      <td>0</td>\n",
       "      <td>0</td>\n",
       "      <td>0</td>\n",
       "      <td>1</td>\n",
       "      <td>0</td>\n",
       "      <td>0</td>\n",
       "      <td>121.80</td>\n",
       "      <td>0</td>\n",
       "    </tr>\n",
       "    <tr>\n",
       "      <th>4</th>\n",
       "      <td>0</td>\n",
       "      <td>0</td>\n",
       "      <td>0</td>\n",
       "      <td>0</td>\n",
       "      <td>0</td>\n",
       "      <td>0</td>\n",
       "      <td>0</td>\n",
       "      <td>1</td>\n",
       "      <td>0</td>\n",
       "      <td>1</td>\n",
       "      <td>...</td>\n",
       "      <td>0</td>\n",
       "      <td>0</td>\n",
       "      <td>0</td>\n",
       "      <td>0</td>\n",
       "      <td>0</td>\n",
       "      <td>1</td>\n",
       "      <td>0</td>\n",
       "      <td>1</td>\n",
       "      <td>140.93</td>\n",
       "      <td>0</td>\n",
       "    </tr>\n",
       "    <tr>\n",
       "      <th>...</th>\n",
       "      <td>...</td>\n",
       "      <td>...</td>\n",
       "      <td>...</td>\n",
       "      <td>...</td>\n",
       "      <td>...</td>\n",
       "      <td>...</td>\n",
       "      <td>...</td>\n",
       "      <td>...</td>\n",
       "      <td>...</td>\n",
       "      <td>...</td>\n",
       "      <td>...</td>\n",
       "      <td>...</td>\n",
       "      <td>...</td>\n",
       "      <td>...</td>\n",
       "      <td>...</td>\n",
       "      <td>...</td>\n",
       "      <td>...</td>\n",
       "      <td>...</td>\n",
       "      <td>...</td>\n",
       "      <td>...</td>\n",
       "      <td>...</td>\n",
       "    </tr>\n",
       "    <tr>\n",
       "      <th>33956</th>\n",
       "      <td>0</td>\n",
       "      <td>1</td>\n",
       "      <td>0</td>\n",
       "      <td>1</td>\n",
       "      <td>1</td>\n",
       "      <td>0</td>\n",
       "      <td>1</td>\n",
       "      <td>0</td>\n",
       "      <td>0</td>\n",
       "      <td>0</td>\n",
       "      <td>...</td>\n",
       "      <td>0</td>\n",
       "      <td>1</td>\n",
       "      <td>0</td>\n",
       "      <td>1</td>\n",
       "      <td>1</td>\n",
       "      <td>1</td>\n",
       "      <td>1</td>\n",
       "      <td>0</td>\n",
       "      <td>1.67</td>\n",
       "      <td>0</td>\n",
       "    </tr>\n",
       "    <tr>\n",
       "      <th>33957</th>\n",
       "      <td>0</td>\n",
       "      <td>0</td>\n",
       "      <td>0</td>\n",
       "      <td>0</td>\n",
       "      <td>1</td>\n",
       "      <td>1</td>\n",
       "      <td>1</td>\n",
       "      <td>1</td>\n",
       "      <td>0</td>\n",
       "      <td>1</td>\n",
       "      <td>...</td>\n",
       "      <td>0</td>\n",
       "      <td>0</td>\n",
       "      <td>0</td>\n",
       "      <td>1</td>\n",
       "      <td>1</td>\n",
       "      <td>1</td>\n",
       "      <td>1</td>\n",
       "      <td>0</td>\n",
       "      <td>9.08</td>\n",
       "      <td>0</td>\n",
       "    </tr>\n",
       "    <tr>\n",
       "      <th>33958</th>\n",
       "      <td>0</td>\n",
       "      <td>1</td>\n",
       "      <td>0</td>\n",
       "      <td>1</td>\n",
       "      <td>0</td>\n",
       "      <td>1</td>\n",
       "      <td>1</td>\n",
       "      <td>1</td>\n",
       "      <td>1</td>\n",
       "      <td>1</td>\n",
       "      <td>...</td>\n",
       "      <td>0</td>\n",
       "      <td>1</td>\n",
       "      <td>0</td>\n",
       "      <td>1</td>\n",
       "      <td>1</td>\n",
       "      <td>1</td>\n",
       "      <td>1</td>\n",
       "      <td>0</td>\n",
       "      <td>36.88</td>\n",
       "      <td>0</td>\n",
       "    </tr>\n",
       "    <tr>\n",
       "      <th>33959</th>\n",
       "      <td>0</td>\n",
       "      <td>0</td>\n",
       "      <td>1</td>\n",
       "      <td>0</td>\n",
       "      <td>1</td>\n",
       "      <td>0</td>\n",
       "      <td>0</td>\n",
       "      <td>1</td>\n",
       "      <td>0</td>\n",
       "      <td>1</td>\n",
       "      <td>...</td>\n",
       "      <td>0</td>\n",
       "      <td>1</td>\n",
       "      <td>0</td>\n",
       "      <td>1</td>\n",
       "      <td>0</td>\n",
       "      <td>1</td>\n",
       "      <td>1</td>\n",
       "      <td>0</td>\n",
       "      <td>12.83</td>\n",
       "      <td>0</td>\n",
       "    </tr>\n",
       "    <tr>\n",
       "      <th>33960</th>\n",
       "      <td>0</td>\n",
       "      <td>0</td>\n",
       "      <td>0</td>\n",
       "      <td>0</td>\n",
       "      <td>0</td>\n",
       "      <td>0</td>\n",
       "      <td>1</td>\n",
       "      <td>1</td>\n",
       "      <td>0</td>\n",
       "      <td>1</td>\n",
       "      <td>...</td>\n",
       "      <td>1</td>\n",
       "      <td>0</td>\n",
       "      <td>0</td>\n",
       "      <td>0</td>\n",
       "      <td>0</td>\n",
       "      <td>1</td>\n",
       "      <td>1</td>\n",
       "      <td>1</td>\n",
       "      <td>3.68</td>\n",
       "      <td>0</td>\n",
       "    </tr>\n",
       "  </tbody>\n",
       "</table>\n",
       "<p>33961 rows × 37 columns</p>\n",
       "</div>"
      ],
      "text/plain": [
       "       merchant_0  merchant_1  merchant_2  merchant_3  merchant_4  merchant_5  \\\n",
       "0               0           0           0           0           0           0   \n",
       "1               0           0           0           0           0           0   \n",
       "2               0           0           0           0           0           0   \n",
       "3               0           0           0           0           0           0   \n",
       "4               0           0           0           0           0           0   \n",
       "...           ...         ...         ...         ...         ...         ...   \n",
       "33956           0           1           0           1           1           0   \n",
       "33957           0           0           0           0           1           1   \n",
       "33958           0           1           0           1           0           1   \n",
       "33959           0           0           1           0           1           0   \n",
       "33960           0           0           0           0           0           0   \n",
       "\n",
       "       merchant_6  merchant_7  merchant_8  merchant_9  ...  city_0  city_1  \\\n",
       "0               0           0           0           1  ...       0       0   \n",
       "1               0           0           1           0  ...       0       0   \n",
       "2               0           0           1           1  ...       0       0   \n",
       "3               0           1           0           0  ...       0       0   \n",
       "4               0           1           0           1  ...       0       0   \n",
       "...           ...         ...         ...         ...  ...     ...     ...   \n",
       "33956           1           0           0           0  ...       0       1   \n",
       "33957           1           1           0           1  ...       0       0   \n",
       "33958           1           1           1           1  ...       0       1   \n",
       "33959           0           1           0           1  ...       0       1   \n",
       "33960           1           1           0           1  ...       1       0   \n",
       "\n",
       "       city_2  city_3  city_4  city_5  city_6  city_7     amt  is_fraud  \n",
       "0           0       0       0       0       0       1    5.69         0  \n",
       "1           0       0       0       0       1       0   51.20         0  \n",
       "2           0       0       0       0       1       1  225.07         0  \n",
       "3           0       0       0       1       0       0  121.80         0  \n",
       "4           0       0       0       1       0       1  140.93         0  \n",
       "...       ...     ...     ...     ...     ...     ...     ...       ...  \n",
       "33956       0       1       1       1       1       0    1.67         0  \n",
       "33957       0       1       1       1       1       0    9.08         0  \n",
       "33958       0       1       1       1       1       0   36.88         0  \n",
       "33959       0       1       0       1       1       0   12.83         0  \n",
       "33960       0       0       0       1       1       1    3.68         0  \n",
       "\n",
       "[33961 rows x 37 columns]"
      ]
     },
     "execution_count": 25,
     "metadata": {},
     "output_type": "execute_result"
    }
   ],
   "source": [
    "# Encode categorical variables (using binary encoding)\n",
    "\n",
    "categorical_columns = ['city', 'state', 'job', 'merchant', 'category']\n",
    "encoder = ce.BinaryEncoder(cols=categorical_columns)\n",
    "data = encoder.fit_transform(filtered)\n",
    "data"
   ]
  },
  {
   "cell_type": "code",
   "execution_count": 26,
   "id": "1f7172cc",
   "metadata": {},
   "outputs": [
    {
     "data": {
      "text/plain": [
       "merchant_0      int64\n",
       "merchant_1      int64\n",
       "merchant_2      int64\n",
       "merchant_3      int64\n",
       "merchant_4      int64\n",
       "merchant_5      int64\n",
       "merchant_6      int64\n",
       "merchant_7      int64\n",
       "merchant_8      int64\n",
       "merchant_9      int64\n",
       "category_0      int64\n",
       "category_1      int64\n",
       "category_2      int64\n",
       "category_3      int64\n",
       "job_0           int64\n",
       "job_1           int64\n",
       "job_2           int64\n",
       "job_3           int64\n",
       "job_4           int64\n",
       "job_5           int64\n",
       "job_6           int64\n",
       "job_7           int64\n",
       "age             int64\n",
       "state_0         int64\n",
       "state_1         int64\n",
       "state_2         int64\n",
       "state_3         int64\n",
       "city_0          int64\n",
       "city_1          int64\n",
       "city_2          int64\n",
       "city_3          int64\n",
       "city_4          int64\n",
       "city_5          int64\n",
       "city_6          int64\n",
       "city_7          int64\n",
       "amt           float64\n",
       "is_fraud        int64\n",
       "dtype: object"
      ]
     },
     "execution_count": 26,
     "metadata": {},
     "output_type": "execute_result"
    }
   ],
   "source": [
    "data.dtypes"
   ]
  },
  {
   "cell_type": "markdown",
   "id": "c96092f5",
   "metadata": {},
   "source": [
    "## Formatting data"
   ]
  },
  {
   "cell_type": "code",
   "execution_count": 27,
   "id": "6f1d2984",
   "metadata": {
    "scrolled": false
   },
   "outputs": [
    {
     "data": {
      "text/html": [
       "<div>\n",
       "<style scoped>\n",
       "    .dataframe tbody tr th:only-of-type {\n",
       "        vertical-align: middle;\n",
       "    }\n",
       "\n",
       "    .dataframe tbody tr th {\n",
       "        vertical-align: top;\n",
       "    }\n",
       "\n",
       "    .dataframe thead th {\n",
       "        text-align: right;\n",
       "    }\n",
       "</style>\n",
       "<table border=\"1\" class=\"dataframe\">\n",
       "  <thead>\n",
       "    <tr style=\"text-align: right;\">\n",
       "      <th></th>\n",
       "      <th>merchant_0</th>\n",
       "      <th>merchant_1</th>\n",
       "      <th>merchant_2</th>\n",
       "      <th>merchant_3</th>\n",
       "      <th>merchant_4</th>\n",
       "      <th>merchant_5</th>\n",
       "      <th>merchant_6</th>\n",
       "      <th>merchant_7</th>\n",
       "      <th>merchant_8</th>\n",
       "      <th>merchant_9</th>\n",
       "      <th>...</th>\n",
       "      <th>city_0</th>\n",
       "      <th>city_1</th>\n",
       "      <th>city_2</th>\n",
       "      <th>city_3</th>\n",
       "      <th>city_4</th>\n",
       "      <th>city_5</th>\n",
       "      <th>city_6</th>\n",
       "      <th>city_7</th>\n",
       "      <th>amount</th>\n",
       "      <th>is_fraud</th>\n",
       "    </tr>\n",
       "  </thead>\n",
       "  <tbody>\n",
       "    <tr>\n",
       "      <th>0</th>\n",
       "      <td>0</td>\n",
       "      <td>0</td>\n",
       "      <td>0</td>\n",
       "      <td>0</td>\n",
       "      <td>0</td>\n",
       "      <td>0</td>\n",
       "      <td>0</td>\n",
       "      <td>0</td>\n",
       "      <td>0</td>\n",
       "      <td>1</td>\n",
       "      <td>...</td>\n",
       "      <td>0</td>\n",
       "      <td>0</td>\n",
       "      <td>0</td>\n",
       "      <td>0</td>\n",
       "      <td>0</td>\n",
       "      <td>0</td>\n",
       "      <td>0</td>\n",
       "      <td>1</td>\n",
       "      <td>5.69</td>\n",
       "      <td>0</td>\n",
       "    </tr>\n",
       "    <tr>\n",
       "      <th>1</th>\n",
       "      <td>0</td>\n",
       "      <td>0</td>\n",
       "      <td>0</td>\n",
       "      <td>0</td>\n",
       "      <td>0</td>\n",
       "      <td>0</td>\n",
       "      <td>0</td>\n",
       "      <td>0</td>\n",
       "      <td>1</td>\n",
       "      <td>0</td>\n",
       "      <td>...</td>\n",
       "      <td>0</td>\n",
       "      <td>0</td>\n",
       "      <td>0</td>\n",
       "      <td>0</td>\n",
       "      <td>0</td>\n",
       "      <td>0</td>\n",
       "      <td>1</td>\n",
       "      <td>0</td>\n",
       "      <td>51.20</td>\n",
       "      <td>0</td>\n",
       "    </tr>\n",
       "    <tr>\n",
       "      <th>2</th>\n",
       "      <td>0</td>\n",
       "      <td>0</td>\n",
       "      <td>0</td>\n",
       "      <td>0</td>\n",
       "      <td>0</td>\n",
       "      <td>0</td>\n",
       "      <td>0</td>\n",
       "      <td>0</td>\n",
       "      <td>1</td>\n",
       "      <td>1</td>\n",
       "      <td>...</td>\n",
       "      <td>0</td>\n",
       "      <td>0</td>\n",
       "      <td>0</td>\n",
       "      <td>0</td>\n",
       "      <td>0</td>\n",
       "      <td>0</td>\n",
       "      <td>1</td>\n",
       "      <td>1</td>\n",
       "      <td>225.07</td>\n",
       "      <td>0</td>\n",
       "    </tr>\n",
       "    <tr>\n",
       "      <th>3</th>\n",
       "      <td>0</td>\n",
       "      <td>0</td>\n",
       "      <td>0</td>\n",
       "      <td>0</td>\n",
       "      <td>0</td>\n",
       "      <td>0</td>\n",
       "      <td>0</td>\n",
       "      <td>1</td>\n",
       "      <td>0</td>\n",
       "      <td>0</td>\n",
       "      <td>...</td>\n",
       "      <td>0</td>\n",
       "      <td>0</td>\n",
       "      <td>0</td>\n",
       "      <td>0</td>\n",
       "      <td>0</td>\n",
       "      <td>1</td>\n",
       "      <td>0</td>\n",
       "      <td>0</td>\n",
       "      <td>121.80</td>\n",
       "      <td>0</td>\n",
       "    </tr>\n",
       "    <tr>\n",
       "      <th>4</th>\n",
       "      <td>0</td>\n",
       "      <td>0</td>\n",
       "      <td>0</td>\n",
       "      <td>0</td>\n",
       "      <td>0</td>\n",
       "      <td>0</td>\n",
       "      <td>0</td>\n",
       "      <td>1</td>\n",
       "      <td>0</td>\n",
       "      <td>1</td>\n",
       "      <td>...</td>\n",
       "      <td>0</td>\n",
       "      <td>0</td>\n",
       "      <td>0</td>\n",
       "      <td>0</td>\n",
       "      <td>0</td>\n",
       "      <td>1</td>\n",
       "      <td>0</td>\n",
       "      <td>1</td>\n",
       "      <td>140.93</td>\n",
       "      <td>0</td>\n",
       "    </tr>\n",
       "    <tr>\n",
       "      <th>...</th>\n",
       "      <td>...</td>\n",
       "      <td>...</td>\n",
       "      <td>...</td>\n",
       "      <td>...</td>\n",
       "      <td>...</td>\n",
       "      <td>...</td>\n",
       "      <td>...</td>\n",
       "      <td>...</td>\n",
       "      <td>...</td>\n",
       "      <td>...</td>\n",
       "      <td>...</td>\n",
       "      <td>...</td>\n",
       "      <td>...</td>\n",
       "      <td>...</td>\n",
       "      <td>...</td>\n",
       "      <td>...</td>\n",
       "      <td>...</td>\n",
       "      <td>...</td>\n",
       "      <td>...</td>\n",
       "      <td>...</td>\n",
       "      <td>...</td>\n",
       "    </tr>\n",
       "    <tr>\n",
       "      <th>33956</th>\n",
       "      <td>0</td>\n",
       "      <td>1</td>\n",
       "      <td>0</td>\n",
       "      <td>1</td>\n",
       "      <td>1</td>\n",
       "      <td>0</td>\n",
       "      <td>1</td>\n",
       "      <td>0</td>\n",
       "      <td>0</td>\n",
       "      <td>0</td>\n",
       "      <td>...</td>\n",
       "      <td>0</td>\n",
       "      <td>1</td>\n",
       "      <td>0</td>\n",
       "      <td>1</td>\n",
       "      <td>1</td>\n",
       "      <td>1</td>\n",
       "      <td>1</td>\n",
       "      <td>0</td>\n",
       "      <td>1.67</td>\n",
       "      <td>0</td>\n",
       "    </tr>\n",
       "    <tr>\n",
       "      <th>33957</th>\n",
       "      <td>0</td>\n",
       "      <td>0</td>\n",
       "      <td>0</td>\n",
       "      <td>0</td>\n",
       "      <td>1</td>\n",
       "      <td>1</td>\n",
       "      <td>1</td>\n",
       "      <td>1</td>\n",
       "      <td>0</td>\n",
       "      <td>1</td>\n",
       "      <td>...</td>\n",
       "      <td>0</td>\n",
       "      <td>0</td>\n",
       "      <td>0</td>\n",
       "      <td>1</td>\n",
       "      <td>1</td>\n",
       "      <td>1</td>\n",
       "      <td>1</td>\n",
       "      <td>0</td>\n",
       "      <td>9.08</td>\n",
       "      <td>0</td>\n",
       "    </tr>\n",
       "    <tr>\n",
       "      <th>33958</th>\n",
       "      <td>0</td>\n",
       "      <td>1</td>\n",
       "      <td>0</td>\n",
       "      <td>1</td>\n",
       "      <td>0</td>\n",
       "      <td>1</td>\n",
       "      <td>1</td>\n",
       "      <td>1</td>\n",
       "      <td>1</td>\n",
       "      <td>1</td>\n",
       "      <td>...</td>\n",
       "      <td>0</td>\n",
       "      <td>1</td>\n",
       "      <td>0</td>\n",
       "      <td>1</td>\n",
       "      <td>1</td>\n",
       "      <td>1</td>\n",
       "      <td>1</td>\n",
       "      <td>0</td>\n",
       "      <td>36.88</td>\n",
       "      <td>0</td>\n",
       "    </tr>\n",
       "    <tr>\n",
       "      <th>33959</th>\n",
       "      <td>0</td>\n",
       "      <td>0</td>\n",
       "      <td>1</td>\n",
       "      <td>0</td>\n",
       "      <td>1</td>\n",
       "      <td>0</td>\n",
       "      <td>0</td>\n",
       "      <td>1</td>\n",
       "      <td>0</td>\n",
       "      <td>1</td>\n",
       "      <td>...</td>\n",
       "      <td>0</td>\n",
       "      <td>1</td>\n",
       "      <td>0</td>\n",
       "      <td>1</td>\n",
       "      <td>0</td>\n",
       "      <td>1</td>\n",
       "      <td>1</td>\n",
       "      <td>0</td>\n",
       "      <td>12.83</td>\n",
       "      <td>0</td>\n",
       "    </tr>\n",
       "    <tr>\n",
       "      <th>33960</th>\n",
       "      <td>0</td>\n",
       "      <td>0</td>\n",
       "      <td>0</td>\n",
       "      <td>0</td>\n",
       "      <td>0</td>\n",
       "      <td>0</td>\n",
       "      <td>1</td>\n",
       "      <td>1</td>\n",
       "      <td>0</td>\n",
       "      <td>1</td>\n",
       "      <td>...</td>\n",
       "      <td>1</td>\n",
       "      <td>0</td>\n",
       "      <td>0</td>\n",
       "      <td>0</td>\n",
       "      <td>0</td>\n",
       "      <td>1</td>\n",
       "      <td>1</td>\n",
       "      <td>1</td>\n",
       "      <td>3.68</td>\n",
       "      <td>0</td>\n",
       "    </tr>\n",
       "  </tbody>\n",
       "</table>\n",
       "<p>33961 rows × 37 columns</p>\n",
       "</div>"
      ],
      "text/plain": [
       "       merchant_0  merchant_1  merchant_2  merchant_3  merchant_4  merchant_5  \\\n",
       "0               0           0           0           0           0           0   \n",
       "1               0           0           0           0           0           0   \n",
       "2               0           0           0           0           0           0   \n",
       "3               0           0           0           0           0           0   \n",
       "4               0           0           0           0           0           0   \n",
       "...           ...         ...         ...         ...         ...         ...   \n",
       "33956           0           1           0           1           1           0   \n",
       "33957           0           0           0           0           1           1   \n",
       "33958           0           1           0           1           0           1   \n",
       "33959           0           0           1           0           1           0   \n",
       "33960           0           0           0           0           0           0   \n",
       "\n",
       "       merchant_6  merchant_7  merchant_8  merchant_9  ...  city_0  city_1  \\\n",
       "0               0           0           0           1  ...       0       0   \n",
       "1               0           0           1           0  ...       0       0   \n",
       "2               0           0           1           1  ...       0       0   \n",
       "3               0           1           0           0  ...       0       0   \n",
       "4               0           1           0           1  ...       0       0   \n",
       "...           ...         ...         ...         ...  ...     ...     ...   \n",
       "33956           1           0           0           0  ...       0       1   \n",
       "33957           1           1           0           1  ...       0       0   \n",
       "33958           1           1           1           1  ...       0       1   \n",
       "33959           0           1           0           1  ...       0       1   \n",
       "33960           1           1           0           1  ...       1       0   \n",
       "\n",
       "       city_2  city_3  city_4  city_5  city_6  city_7  amount  is_fraud  \n",
       "0           0       0       0       0       0       1    5.69         0  \n",
       "1           0       0       0       0       1       0   51.20         0  \n",
       "2           0       0       0       0       1       1  225.07         0  \n",
       "3           0       0       0       1       0       0  121.80         0  \n",
       "4           0       0       0       1       0       1  140.93         0  \n",
       "...       ...     ...     ...     ...     ...     ...     ...       ...  \n",
       "33956       0       1       1       1       1       0    1.67         0  \n",
       "33957       0       1       1       1       1       0    9.08         0  \n",
       "33958       0       1       1       1       1       0   36.88         0  \n",
       "33959       0       1       0       1       1       0   12.83         0  \n",
       "33960       0       0       0       1       1       1    3.68         0  \n",
       "\n",
       "[33961 rows x 37 columns]"
      ]
     },
     "execution_count": 27,
     "metadata": {},
     "output_type": "execute_result"
    }
   ],
   "source": [
    "# Create a dictionary with the mapping of old column names to new column names\n",
    "column_mapping = {'amt': 'amount'}\n",
    "\n",
    "# Use the 'rename()' method to rename the columns\n",
    "data.rename(columns=column_mapping, inplace=True)\n",
    "\n",
    "# 'data' now has the columns with the new names\n",
    "data"
   ]
  },
  {
   "cell_type": "code",
   "execution_count": 28,
   "id": "a05b9aa3",
   "metadata": {},
   "outputs": [],
   "source": [
    "#Save to a csv\n",
    "#data.to_csv(\"cleaned_dataset.csv\",index=False)"
   ]
  },
  {
   "cell_type": "markdown",
   "id": "741ef13f",
   "metadata": {},
   "source": [
    "## Feature Selection"
   ]
  },
  {
   "cell_type": "code",
   "execution_count": 29,
   "id": "aea3f337",
   "metadata": {},
   "outputs": [],
   "source": [
    "X = data.drop(columns=['is_fraud']) #feature variables\n",
    "y = data['is_fraud'] #target variables\n"
   ]
  },
  {
   "cell_type": "markdown",
   "id": "186e069a",
   "metadata": {},
   "source": [
    "## Handling Class Imbalance (using oversampling)"
   ]
  },
  {
   "cell_type": "code",
   "execution_count": 30,
   "id": "df47dfa7",
   "metadata": {},
   "outputs": [],
   "source": [
    "#from imblearn.over_sampling import RandomOverSampler\n",
    "\n",
    "#oversampler = RandomOverSampler(sampling_strategy='minority')\n",
    "#X_resampled, y_resampled = oversampler.fit_resample(X, y)\n"
   ]
  },
  {
   "cell_type": "code",
   "execution_count": 31,
   "id": "efb3ce3d",
   "metadata": {
    "scrolled": true
   },
   "outputs": [
    {
     "data": {
      "image/png": "[encoded data removed]",
      "text/plain": [
       "<Figure size 640x480 with 1 Axes>"
      ]
     },
     "metadata": {},
     "output_type": "display_data"
    }
   ],
   "source": [
    "from imblearn.over_sampling import SMOTE\n",
    "import numpy as np\n",
    "import matplotlib.pyplot as plt\n",
    "\n",
    "# Create an instance of the SMOTE class for oversampling\n",
    "smote = SMOTE(sampling_strategy=0.03, random_state=42)\n",
    "\n",
    "# Oversample the training data using SMOTE\n",
    "X_sm, y_sm = smote.fit_resample(X, y)\n",
    "\n",
    "# Count the number of samples in each class after oversampling\n",
    "unique, counts = np.unique(y_sm, return_counts=True)\n",
    "\n",
    "# Plot the class distribution after SMOTE\n",
    "plt.bar(unique, counts)\n",
    "plt.xlabel('Class')\n",
    "plt.ylabel('Count')\n",
    "plt.title('Class Distribution After SMOTE')\n",
    "plt.show()\n"
   ]
  },
  {
   "cell_type": "markdown",
   "id": "0bf8c114",
   "metadata": {},
   "source": [
    "# IMPLEMENTATION OF THE MODELS"
   ]
  },
  {
   "cell_type": "markdown",
   "id": "d9198f9a",
   "metadata": {},
   "source": [
    "## 1. Random Forest Model"
   ]
  },
  {
   "cell_type": "markdown",
   "id": "bf4eaaa2",
   "metadata": {},
   "source": [
    "### No-parameter tuning"
   ]
  },
  {
   "cell_type": "code",
   "execution_count": 54,
   "id": "ae5500f5",
   "metadata": {},
   "outputs": [
    {
     "name": "stdout",
     "output_type": "stream",
     "text": [
      "Mean Accuracy: 0.9944258487765169\n",
      "Cross-Validation Accuracy: 0.99\n"
     ]
    },
    {
     "data": {
      "image/png": "[encoded data removed]",
      "text/plain": [
       "<Figure size 400x400 with 1 Axes>"
      ]
     },
     "metadata": {},
     "output_type": "display_data"
    },
    {
     "name": "stdout",
     "output_type": "stream",
     "text": [
      "Classification Report (Cross-Validation):\n",
      "               precision    recall  f1-score   support\n",
      "\n",
      "           0       0.99      1.00      1.00     33788\n",
      "           1       0.99      0.82      0.90      1013\n",
      "\n",
      "    accuracy                           0.99     34801\n",
      "   macro avg       0.99      0.91      0.95     34801\n",
      "weighted avg       0.99      0.99      0.99     34801\n",
      "\n"
     ]
    }
   ],
   "source": [
    "from sklearn.ensemble import RandomForestClassifier\n",
    "from sklearn.metrics import accuracy_score\n",
    "from sklearn.model_selection import GridSearchCV\n",
    "from sklearn.model_selection import cross_val_predict,cross_val_score\n",
    "from sklearn.metrics import confusion_matrix\n",
    "from sklearn.metrics import classification_report,roc_curve,auc\n",
    "import matplotlib.pyplot as plt\n",
    "import seaborn as sns\n",
    "import scikitplot as skplt\n",
    "\n",
    "# Create a Random Forest classifier with default parameters\n",
    "rf_classifier = RandomForestClassifier(random_state=42)\n",
    "\n",
    "# Perform cross-validation and generate predictions\n",
    "y_pred_cv = cross_val_predict(rf_classifier, X_sm, y_sm, cv=5)\n",
    "\n",
    "scores = cross_val_score(rf_classifier, X_sm, y_sm, cv=5, scoring='accuracy')\n",
    "# Calculate the average accuracy from cross-validation\n",
    "mean_accuracy = np.mean(scores)\n",
    "print('Mean Accuracy:', mean_accuracy)\n",
    "\n",
    "# Calculate the cross-validation accuracy score\n",
    "cross_val_accuracy = accuracy_score(y_sm, y_pred_cv)\n",
    "print(f'Cross-Validation Accuracy: {cross_val_accuracy:.2f}')\n",
    "\n",
    "\n",
    "# Calculate and print the confusion matrix\n",
    "conf_matrix = confusion_matrix(y_sm, y_pred_cv)\n",
    "\n",
    "# Define a custom color palette for the heatmap\n",
    "color_palette = sns.color_palette(\"Set2\")\n",
    "\n",
    "# Create a heatmap\n",
    "plt.figure(figsize=(4, 4))\n",
    "sns.heatmap(conf_matrix, annot=True, fmt=\"d\", cmap=color_palette, cbar=False)\n",
    "plt.xlabel('Predicted Labels')\n",
    "plt.ylabel('True Labels')\n",
    "plt.title('Confusion Matrix')\n",
    "plt.show()\n",
    "\n",
    "# Evaluate the classifier's performance using classification report\n",
    "classification_report_result = classification_report(y_sm, y_pred_cv)\n",
    "\n",
    "# Print the classification report\n",
    "print('Classification Report (Cross-Validation):\\n', classification_report_result)\n",
    "\n",
    "\n"
   ]
  },
  {
   "cell_type": "markdown",
   "id": "dbe279ec",
   "metadata": {},
   "source": [
    "### Hyperparameter tuning"
   ]
  },
  {
   "cell_type": "code",
   "execution_count": 55,
   "id": "504010a2",
   "metadata": {},
   "outputs": [
    {
     "name": "stdout",
     "output_type": "stream",
     "text": [
      "Best Hyperparameters: {'class_weight': None, 'max_depth': None, 'max_features': 'sqrt', 'min_samples_leaf': 1, 'min_samples_split': 2, 'n_estimators': 50}\n",
      "Mean Accuracy: 0.9944833076566157\n",
      "Cross-Validation Accuracy: 0.99\n"
     ]
    },
    {
     "data": {
      "text/plain": [
       "<Figure size 300x300 with 0 Axes>"
      ]
     },
     "metadata": {},
     "output_type": "display_data"
    },
    {
     "data": {
      "image/png": "[encoded data removed]",
      "text/plain": [
       "<Figure size 640x480 with 2 Axes>"
      ]
     },
     "metadata": {},
     "output_type": "display_data"
    },
    {
     "name": "stdout",
     "output_type": "stream",
     "text": [
      "Classification Report (Cross-Validation):\n",
      "               precision    recall  f1-score   support\n",
      "\n",
      "           0       0.99      1.00      1.00     33788\n",
      "           1       0.98      0.83      0.90      1013\n",
      "\n",
      "    accuracy                           0.99     34801\n",
      "   macro avg       0.99      0.91      0.95     34801\n",
      "weighted avg       0.99      0.99      0.99     34801\n",
      "\n"
     ]
    }
   ],
   "source": [
    "# Define a grid of hyperparameters to search\n",
    "param_grid = {\n",
    "    'n_estimators': [50, 100, 200],\n",
    "    'max_depth': [None, 10, 20],\n",
    "    'min_samples_split': [2, 5, 10],\n",
    "    'min_samples_leaf': [1, 2, 4],\n",
    "    'max_features': ['sqrt', 'log2'],\n",
    "    'class_weight': ['balanced', 'balanced_subsample', None]\n",
    "}\n",
    "# Create a GridSearchCV object with cross-validation\n",
    "grid_search = GridSearchCV(estimator=rf_classifier, param_grid=param_grid, cv=5, scoring='accuracy', n_jobs=-1)\n",
    "\n",
    "# Fit the grid search to the resampled training data\n",
    "grid_search.fit(X_sm, y_sm)\n",
    "\n",
    "best_params = grid_search.best_params_\n",
    "print('Best Hyperparameters:', best_params)\n",
    "\n",
    "# Create the Random Forest classifier with the best hyperparameters\n",
    "best_rf_classifier = RandomForestClassifier(random_state=42, **best_params)\n",
    "\n",
    "# Perform cross-validation and generate predictions with the best classifier\n",
    "y_pred_cv = cross_val_predict(best_rf_classifier, X_sm, y_sm, cv=5)\n",
    "\n",
    "\n",
    "scores = cross_val_score(best_rf_classifier, X_sm, y_sm, cv=5, scoring='accuracy')\n",
    "# Calculate the average accuracy from cross-validation\n",
    "mean_accuracy = np.mean(scores)\n",
    "print('Mean Accuracy:', mean_accuracy)\n",
    "\n",
    "# Calculate the cross-validation accuracy score\n",
    "cross_val_accuracy = accuracy_score(y_sm, y_pred_cv)\n",
    "print(f'Cross-Validation Accuracy: {cross_val_accuracy:.2f}')\n",
    "\n",
    "# Plot confusion matrix\n",
    "plt.figure(figsize=(3, 3))\n",
    "skplt.metrics.plot_confusion_matrix(y_sm, y_pred_cv)\n",
    "plt.show()\n",
    "\n",
    "# Generate a classification report with precision, recall, F1-score, and support\n",
    "classification_rep = classification_report(y_sm, y_pred_cv)\n",
    "print('Classification Report (Cross-Validation):\\n', classification_rep)\n",
    "\n"
   ]
  },
  {
   "cell_type": "code",
   "execution_count": 56,
   "id": "0c0eb5af",
   "metadata": {},
   "outputs": [
    {
     "data": {
      "image/png": "[encoded data removed]",
      "text/plain": [
       "<Figure size 800x600 with 1 Axes>"
      ]
     },
     "metadata": {},
     "output_type": "display_data"
    }
   ],
   "source": [
    "from sklearn.metrics import roc_auc_score\n",
    "from sklearn.metrics import roc_curve\n",
    "import matplotlib.pyplot as plt\n",
    "\n",
    "# Fit the best Random Forest classifier on your data\n",
    "best_rf_classifier.fit(X_sm, y_sm)\n",
    "\n",
    "# Calculate the ROC AUC score\n",
    "roc_auc_rf = roc_auc_score(y_sm, best_rf_classifier.predict_proba(X_sm)[:, 1])\n",
    "\n",
    "# Compute ROC curve values\n",
    "fpr_rf, tpr_rf, _ = roc_curve(y_sm, best_rf_classifier.predict_proba(X_sm)[:, 1])\n",
    "\n",
    "# Plot the ROC curve\n",
    "plt.figure(figsize=(8, 6))\n",
    "plt.plot(fpr_rf, tpr_rf, color='darkorange', lw=2, label='ROC curve (area = {:.2f})'.format(roc_auc_rf))\n",
    "plt.plot([0, 1], [0, 1], color='navy', lw=2, linestyle='--')\n",
    "plt.xlim([0.0, 1.0])\n",
    "plt.ylim([0.0, 1.05])\n",
    "plt.xlabel('False Positive Rate')\n",
    "plt.ylabel('True Positive Rate')\n",
    "plt.title('Receiver Operating Characteristic (ROC) - Random Forest')\n",
    "plt.legend(loc='lower right')\n",
    "plt.show()\n"
   ]
  },
  {
   "cell_type": "code",
   "execution_count": 61,
   "id": "e36bd2f0",
   "metadata": {},
   "outputs": [
    {
     "data": {
      "text/plain": [
       "['random_forest_model.pkl']"
      ]
     },
     "execution_count": 61,
     "metadata": {},
     "output_type": "execute_result"
    }
   ],
   "source": [
    "import joblib\n",
    "\n",
    "#Random Forest model\n",
    "joblib.dump('best_rf_classifier', \"random_forest_model.pkl\")\n"
   ]
  },
  {
   "cell_type": "markdown",
   "id": "34199b79",
   "metadata": {},
   "source": [
    "## 2. Naive Bayes Model"
   ]
  },
  {
   "cell_type": "markdown",
   "id": "4cff2b4f",
   "metadata": {},
   "source": [
    "###  No-parameter tuning"
   ]
  },
  {
   "cell_type": "code",
   "execution_count": 36,
   "id": "0b5ad030",
   "metadata": {},
   "outputs": [
    {
     "name": "stdout",
     "output_type": "stream",
     "text": [
      "Mean Accuracy: 0.9831618690008537\n",
      "Cross-Validation Accuracy: 0.98\n"
     ]
    },
    {
     "data": {
      "image/png": "[encoded data removed]",
      "text/plain": [
       "<Figure size 400x400 with 1 Axes>"
      ]
     },
     "metadata": {},
     "output_type": "display_data"
    },
    {
     "name": "stdout",
     "output_type": "stream",
     "text": [
      "Classification Report (Cross-Validation):\n",
      "               precision    recall  f1-score   support\n",
      "\n",
      "           0       0.99      0.99      0.99     33788\n",
      "           1       0.69      0.77      0.73      1013\n",
      "\n",
      "    accuracy                           0.98     34801\n",
      "   macro avg       0.84      0.88      0.86     34801\n",
      "weighted avg       0.98      0.98      0.98     34801\n",
      "\n"
     ]
    }
   ],
   "source": [
    "from sklearn.naive_bayes import GaussianNB\n",
    "from sklearn.model_selection import cross_val_predict,cross_val_score\n",
    "from sklearn.metrics import accuracy_score\n",
    "from sklearn.metrics import classification_report, confusion_matrix,roc_curve,auc\n",
    "import seaborn as sns\n",
    "import matplotlib.pyplot as plt\n",
    "from sklearn.model_selection import GridSearchCV\n",
    "import numpy as np\n",
    "from sklearn.model_selection import RepeatedStratifiedKFold\n",
    "import scikitplot as skplt\n",
    "\n",
    "# Create a Gaussian Naive Bayes classifier\n",
    "naive_bayes_classifier = GaussianNB()\n",
    "\n",
    "# Perform cross-validation and generate predictions\n",
    "y_pred_cv = cross_val_predict(naive_bayes_classifier, X_sm, y_sm, cv=5)\n",
    "\n",
    "\n",
    "scores = cross_val_score(naive_bayes_classifier, X_sm, y_sm, cv=5, scoring='accuracy')\n",
    "# Calculate the average accuracy from cross-validation\n",
    "mean_accuracy = np.mean(scores)\n",
    "print('Mean Accuracy:', mean_accuracy)\n",
    "\n",
    "# Calculate the cross-validation accuracy score\n",
    "cross_val_accuracy = accuracy_score(y_sm, y_pred_cv)\n",
    "print(f'Cross-Validation Accuracy: {cross_val_accuracy:.2f}')\n",
    "\n",
    "\n",
    "# Calculate and print the confusion matrix\n",
    "conf_matrix = confusion_matrix(y_sm, y_pred_cv)\n",
    "\n",
    "# Define a custom color palette for the heatmap\n",
    "color_palette = sns.color_palette(\"Set2\")\n",
    "\n",
    "# Create a heatmap\n",
    "plt.figure(figsize=(4, 4))\n",
    "sns.heatmap(conf_matrix, annot=True, fmt=\"d\", cmap=color_palette, cbar=False)\n",
    "plt.xlabel('Predicted Labels')\n",
    "plt.ylabel('True Labels')\n",
    "plt.title('Confusion Matrix')\n",
    "plt.show()\n",
    "\n",
    "# Evaluate the classifier's performance using classification report\n",
    "classification_report_result = classification_report(y_sm, y_pred_cv)\n",
    "\n",
    "# Print the classification report\n",
    "print('Classification Report (Cross-Validation):\\n', classification_report_result)\n"
   ]
  },
  {
   "cell_type": "markdown",
   "id": "00a61304",
   "metadata": {},
   "source": [
    "# Hyperparameter tuning"
   ]
  },
  {
   "cell_type": "code",
   "execution_count": 37,
   "id": "6f4b59f4",
   "metadata": {},
   "outputs": [
    {
     "name": "stdout",
     "output_type": "stream",
     "text": [
      "Mean Accuracy: 0.9835065933848188\n",
      "Cross-Validation Accuracy: 0.98\n"
     ]
    },
    {
     "data": {
      "text/plain": [
       "<Figure size 300x300 with 0 Axes>"
      ]
     },
     "metadata": {},
     "output_type": "display_data"
    },
    {
     "data": {
      "image/png": "[encoded data removed]",
      "text/plain": [
       "<Figure size 640x480 with 2 Axes>"
      ]
     },
     "metadata": {},
     "output_type": "display_data"
    },
    {
     "name": "stdout",
     "output_type": "stream",
     "text": [
      "Classification Report (Cross-Validation):\n",
      "               precision    recall  f1-score   support\n",
      "\n",
      "           0       0.99      0.99      0.99     33788\n",
      "           1       0.71      0.80      0.75      1013\n",
      "\n",
      "    accuracy                           0.98     34801\n",
      "   macro avg       0.85      0.90      0.87     34801\n",
      "weighted avg       0.99      0.98      0.99     34801\n",
      "\n"
     ]
    }
   ],
   "source": [
    "# Define the hyperparameter grid to search\n",
    "param_grid = {\n",
    "    'var_smoothing': [1e-9, 1e-8, 1e-7, 1e-6, 1e-5]\n",
    "}\n",
    "\n",
    "\n",
    "# Create the Repeated Stratified K-Fold cross-validator\n",
    "# Define the number of splits and repeats (e.g., 5 splits, 3 repeats)\n",
    "cv = RepeatedStratifiedKFold(n_splits=5, n_repeats=3, random_state=42)\n",
    "\n",
    "# Create the GridSearchCV object\n",
    "grid_search_1 = GridSearchCV(estimator=naive_bayes_classifier, param_grid=param_grid, cv=cv, scoring='accuracy', n_jobs=-1)\n",
    "\n",
    "# Fit the GridSearchCV to your data\n",
    "grid_search_1.fit(X_sm,y_sm)\n",
    "\n",
    "\n",
    "# Get the best parameters and the best estimator\n",
    "best_params_nb = grid_search_1.best_params_\n",
    "best_nb_classifier = grid_search_1.best_estimator_\n",
    "\n",
    "# Evaluate the model on the test set\n",
    "y_pred_nb = best_nb_classifier.predict(X_sm)\n",
    "\n",
    "\n",
    "scores = cross_val_score(best_nb_classifier, X_sm, y_sm, cv=5, scoring='accuracy')\n",
    "# Calculate the average accuracy from cross-validation\n",
    "mean_accuracy = np.mean(scores)\n",
    "print('Mean Accuracy:', mean_accuracy)\n",
    "\n",
    "# Calculate the cross-validation accuracy score\n",
    "cross_val_accuracy = accuracy_score(y_sm, y_pred_nb)\n",
    "print(f'Cross-Validation Accuracy: {cross_val_accuracy:.2f}')\n",
    "\n",
    "# Plot confusion matrix\n",
    "plt.figure(figsize=(3, 3))\n",
    "skplt.metrics.plot_confusion_matrix(y_sm, y_pred_nb)\n",
    "plt.show()\n",
    "\n",
    "# Generate a classification report with precision, recall, F1-score, and support\n",
    "classification_rep = classification_report(y_sm, y_pred_nb)\n",
    "print('Classification Report (Cross-Validation):\\n', classification_rep)\n",
    "\n",
    "\n",
    "\n"
   ]
  },
  {
   "cell_type": "code",
   "execution_count": 38,
   "id": "a8cac21c",
   "metadata": {},
   "outputs": [
    {
     "data": {
      "image/png": "[encoded data removed]",
      "text/plain": [
       "<Figure size 800x600 with 1 Axes>"
      ]
     },
     "metadata": {},
     "output_type": "display_data"
    }
   ],
   "source": [
    "from sklearn.metrics import roc_auc_score\n",
    "\n",
    "roc_auc_rf = roc_auc_score(y_sm, best_nb_classifier.predict_proba(X_sm)[:, 1])\n",
    "fpr_rf, tpr_rf, _ = roc_curve(y_sm, best_nb_classifier.predict_proba(X_sm)[:, 1])\n",
    "\n",
    "plt.figure(figsize=(8, 6))\n",
    "plt.plot(fpr_rf, tpr_rf, color='darkorange', lw=2, label='ROC curve (area = {:.2f})'.format(roc_auc_rf))\n",
    "plt.plot([0, 1], [0, 1], color='navy', lw=2, linestyle='--')\n",
    "plt.xlim([0.0, 1.0])\n",
    "plt.ylim([0.0, 1.05])\n",
    "plt.xlabel('False Positive Rate')\n",
    "plt.ylabel('True Positive Rate')\n",
    "plt.title('Receiver Operating Characteristic (ROC) - Naive Bayes')\n",
    "plt.legend(loc='lower right')\n",
    "plt.show()"
   ]
  },
  {
   "cell_type": "code",
   "execution_count": 54,
   "id": "9e14472f",
   "metadata": {},
   "outputs": [
    {
     "data": {
      "text/plain": [
       "['naive_bayes_model.pkl']"
      ]
     },
     "execution_count": 54,
     "metadata": {},
     "output_type": "execute_result"
    }
   ],
   "source": [
    "import joblib\n",
    "\n",
    "# Naive Bayes Model\n",
    "joblib.dump('best_nb_classifier', \"naive_bayes_model.pkl\")"
   ]
  },
  {
   "cell_type": "markdown",
   "id": "a4a14f29",
   "metadata": {},
   "source": [
    "## 3. Logistics Regression"
   ]
  },
  {
   "cell_type": "markdown",
   "id": "a77d155d",
   "metadata": {},
   "source": [
    "### No-parameter tuning"
   ]
  },
  {
   "cell_type": "code",
   "execution_count": 39,
   "id": "c137876d",
   "metadata": {},
   "outputs": [
    {
     "name": "stdout",
     "output_type": "stream",
     "text": [
      "Mean Accuracy: 0.9864950495948692\n",
      "Cross-Validation Accuracy: 0.99\n",
      "              precision    recall  f1-score   support\n",
      "\n",
      "           0       0.99      1.00      0.99     33788\n",
      "           1       0.89      0.61      0.72      1013\n",
      "\n",
      "    accuracy                           0.99     34801\n",
      "   macro avg       0.94      0.80      0.86     34801\n",
      "weighted avg       0.99      0.99      0.99     34801\n",
      "\n"
     ]
    },
    {
     "data": {
      "image/png": "[encoded data removed]",
      "text/plain": [
       "<Figure size 640x480 with 2 Axes>"
      ]
     },
     "metadata": {},
     "output_type": "display_data"
    }
   ],
   "source": [
    "import matplotlib.pyplot as plt\n",
    "from sklearn.linear_model import LogisticRegression\n",
    "import seaborn as sns\n",
    "from sklearn.metrics import accuracy_score,roc_curve,auc, classification_report, confusion_matrix\n",
    "from sklearn.model_selection import cross_val_predict, cross_val_score\n",
    "from sklearn.model_selection import GridSearchCV\n",
    "import pickle\n",
    "import scikitplot as skplt\n",
    "\n",
    "# Define your Logistic Regression model\n",
    "logistic_model = LogisticRegression()\n",
    "\n",
    "# Perform cross-validation to get cross-validated predictions\n",
    "y_pred_cv = cross_val_predict(logistic_model, X_sm, y_sm, cv=5)\n",
    "\n",
    "scores = cross_val_score(logistic_model, X_sm, y_sm, cv=5, scoring='accuracy')\n",
    "# Calculate the average accuracy from cross-validation\n",
    "mean_accuracy = np.mean(scores)\n",
    "print('Mean Accuracy:', mean_accuracy)\n",
    "\n",
    "# Calculate the cross-validation accuracy score\n",
    "cross_val_accuracy = accuracy_score(y_sm, y_pred_cv)\n",
    "print(f'Cross-Validation Accuracy: {cross_val_accuracy:.2f}')\n",
    "\n",
    "\n",
    "# Print classification report for cross-validated predictions\n",
    "print(classification_report(y_sm, y_pred_cv))\n",
    "\n",
    "# Create and display a confusion matrix for cross-validated predictions\n",
    "sns.heatmap(confusion_matrix(y_sm, y_pred_cv), annot=True, fmt=\"g\")\n",
    "plt.xlabel(\"Predicted\")\n",
    "plt.show()\n"
   ]
  },
  {
   "cell_type": "markdown",
   "id": "92e21cdb",
   "metadata": {},
   "source": [
    "### Hyperparameter tuning"
   ]
  },
  {
   "cell_type": "code",
   "execution_count": 40,
   "id": "e822e5cc",
   "metadata": {},
   "outputs": [
    {
     "name": "stdout",
     "output_type": "stream",
     "text": [
      "Best Hyperparameters: {'C': 10, 'penalty': 'l2'}\n",
      "Mean Accuracy: 0.9867823976605289\n",
      "Cross-Validation Accuracy: 0.99\n"
     ]
    },
    {
     "data": {
      "text/plain": [
       "<Figure size 300x300 with 0 Axes>"
      ]
     },
     "metadata": {},
     "output_type": "display_data"
    },
    {
     "data": {
      "image/png": "[encoded data removed]",
      "text/plain": [
       "<Figure size 640x480 with 2 Axes>"
      ]
     },
     "metadata": {},
     "output_type": "display_data"
    },
    {
     "name": "stdout",
     "output_type": "stream",
     "text": [
      "Classification Report (Cross-Validation):\n",
      "               precision    recall  f1-score   support\n",
      "\n",
      "           0       0.99      1.00      0.99     33788\n",
      "           1       0.90      0.62      0.73      1013\n",
      "\n",
      "    accuracy                           0.99     34801\n",
      "   macro avg       0.94      0.81      0.86     34801\n",
      "weighted avg       0.99      0.99      0.99     34801\n",
      "\n"
     ]
    }
   ],
   "source": [
    "\n",
    "\n",
    "# Define the hyperparameter grid\n",
    "param_grid = {\n",
    "    'C': [0.001, 0.01, 0.1, 1, 10,100],\n",
    "    'penalty': ['l1', 'l2']\n",
    "}\n",
    "\n",
    "# Create a GridSearchCV object with cross-validation\n",
    "grid_search = GridSearchCV(logistic_model, param_grid, cv=5, scoring='accuracy')\n",
    "\n",
    "# Fit the grid search to the resampled training data\n",
    "grid_search.fit(X_sm, y_sm)\n",
    "\n",
    "# Get the best hyperparameters\n",
    "best_params = grid_search.best_params_\n",
    "print('Best Hyperparameters:', best_params)\n",
    "\n",
    "# Create the logistic regression classifier with the best hyperparameters\n",
    "best_logistic_regression = LogisticRegression(C=best_params['C'], penalty=best_params['penalty'])\n",
    "\n",
    "\n",
    "# Make predictions using cross-validation\n",
    "y_pred_cv = cross_val_predict(best_logistic_regression, X_sm, y_sm, cv=5)\n",
    "\n",
    "scores = cross_val_score(best_logistic_regression, X_sm, y_sm, cv=5, scoring='accuracy')\n",
    "# Calculate the average accuracy from cross-validation\n",
    "mean_accuracy = np.mean(scores)\n",
    "print('Mean Accuracy:', mean_accuracy)\n",
    "\n",
    "# Calculate the cross-validation accuracy score\n",
    "cross_val_accuracy = accuracy_score(y_sm, y_pred_cv)\n",
    "print(f'Cross-Validation Accuracy: {cross_val_accuracy:.2f}')\n",
    "\n",
    "# Plot confusion matrix\n",
    "plt.figure(figsize=(3, 3))\n",
    "skplt.metrics.plot_confusion_matrix(y_sm, y_pred_cv)\n",
    "plt.show()\n",
    "\n",
    "# Generate a classification report with precision, recall, F1-score, and support\n",
    "classification_rep = classification_report(y_sm, y_pred_cv)\n",
    "print('Classification Report (Cross-Validation):\\n', classification_rep)\n",
    "\n",
    "\n"
   ]
  },
  {
   "cell_type": "code",
   "execution_count": 41,
   "id": "ae027f01",
   "metadata": {},
   "outputs": [],
   "source": [
    "# Calculate ROC curve and AUC\n",
    "fpr, tpr, thresholds = roc_curve(y_sm, y_pred_cv)\n",
    "roc_auc = auc(fpr, tpr)"
   ]
  },
  {
   "cell_type": "code",
   "execution_count": 42,
   "id": "14fa1927",
   "metadata": {},
   "outputs": [
    {
     "data": {
      "image/png": "[encoded data removed]",
      "text/plain": [
       "<Figure size 300x300 with 1 Axes>"
      ]
     },
     "metadata": {},
     "output_type": "display_data"
    }
   ],
   "source": [
    "# Plot ROC curve\n",
    "plt.figure(figsize=(3, 3)) \n",
    "plt.plot(fpr, tpr, color='darkorange', lw=2, label='ROC curve (area = {:.2f})'.format(roc_auc))\n",
    "plt.plot([0, 1], [0, 1], color='navy', lw=2, linestyle='--')\n",
    "plt.xlim([0.0, 1.0])\n",
    "plt.ylim([0.0, 1.05])\n",
    "plt.xlabel('False Positive Rate')\n",
    "plt.ylabel('True Positive Rate')\n",
    "plt.title('Receiver Operating Characteristic (ROC) Curve')\n",
    "plt.legend(loc='lower right')\n",
    "plt.show()"
   ]
  },
  {
   "cell_type": "code",
   "execution_count": 43,
   "id": "e5d3b0b3",
   "metadata": {},
   "outputs": [
    {
     "name": "stdout",
     "output_type": "stream",
     "text": [
      "Specificity: 0.9978690659405706\n"
     ]
    }
   ],
   "source": [
    "# Calculate specificity\n",
    "tn, fp, fn, tp = confusion_matrix(y_sm, y_pred_cv).ravel()\n",
    "specificity = tn / (tn + fp)\n",
    "print('Specificity:', specificity)"
   ]
  },
  {
   "cell_type": "code",
   "execution_count": 49,
   "id": "95f88a3c",
   "metadata": {},
   "outputs": [
    {
     "data": {
      "text/plain": [
       "['logistic_regression_model.pkl']"
      ]
     },
     "execution_count": 49,
     "metadata": {},
     "output_type": "execute_result"
    }
   ],
   "source": [
    "import joblib\n",
    "\n",
    "#Logistic Regression model\n",
    "joblib.dump('best_logistic_regression', \"logistic_regression_model.pkl\")\n"
   ]
  },
  {
   "cell_type": "markdown",
   "id": "9308c77c",
   "metadata": {},
   "source": [
    "## 4. Support Vector Machine Model"
   ]
  },
  {
   "cell_type": "markdown",
   "id": "cf99214e",
   "metadata": {},
   "source": [
    "### No-parameter tuning"
   ]
  },
  {
   "cell_type": "code",
   "execution_count": 49,
   "id": "a92119af",
   "metadata": {},
   "outputs": [
    {
     "name": "stdout",
     "output_type": "stream",
     "text": [
      "Mean Accuracy: 0.991121366661878\n",
      "Cross-Validation Accuracy: 0.99\n"
     ]
    },
    {
     "data": {
      "text/plain": [
       "<Figure size 300x300 with 0 Axes>"
      ]
     },
     "metadata": {},
     "output_type": "display_data"
    },
    {
     "data": {
      "image/png": "[encoded data removed]",
      "text/plain": [
       "<Figure size 640x480 with 2 Axes>"
      ]
     },
     "metadata": {},
     "output_type": "display_data"
    },
    {
     "name": "stdout",
     "output_type": "stream",
     "text": [
      "Classification Report (Cross-Validation):\n",
      "               precision    recall  f1-score   support\n",
      "\n",
      "           0       0.99      1.00      1.00     33788\n",
      "           1       0.86      0.83      0.85      1013\n",
      "\n",
      "    accuracy                           0.99     34801\n",
      "   macro avg       0.93      0.91      0.92     34801\n",
      "weighted avg       0.99      0.99      0.99     34801\n",
      "\n"
     ]
    }
   ],
   "source": [
    "import numpy as np\n",
    "import pandas as pd\n",
    "import matplotlib.pyplot as plt\n",
    "from sklearn.svm import SVC\n",
    "from sklearn.metrics import classification_report,accuracy_score\n",
    "from sklearn.preprocessing import StandardScaler\n",
    "from sklearn.model_selection import cross_val_score\n",
    "from sklearn.model_selection import cross_val_predict\n",
    "import scikitplot as skplt\n",
    "\n",
    "# Standardize the features\n",
    "scaler = StandardScaler()\n",
    "X_resampled = scaler.fit_transform(X_sm)\n",
    "\n",
    "# Create an SVM classifier with balanced class weights\n",
    "svm_classifier = SVC(random_state=42, class_weight='balanced', probability=True)\n",
    "\n",
    "# Perform cross-validation and generate predictions\n",
    "y_pred_cv = cross_val_predict(svm_classifier, X_resampled, y_sm, cv=5)\n",
    "\n",
    "scores = cross_val_score(svm_classifier, X_resampled, y_sm, cv=5, scoring='accuracy')\n",
    "# Calculate the average accuracy from cross-validation\n",
    "mean_accuracy = np.mean(scores)\n",
    "print('Mean Accuracy:', mean_accuracy)\n",
    "\n",
    "# Calculate the cross-validation accuracy score\n",
    "cross_val_accuracy = accuracy_score(y_sm, y_pred_cv)\n",
    "print(f'Cross-Validation Accuracy: {cross_val_accuracy:.2f}')\n",
    "\n",
    "# Plot confusion matrix\n",
    "plt.figure(figsize=(3, 3))\n",
    "skplt.metrics.plot_confusion_matrix(y_sm, y_pred_cv)\n",
    "plt.show()\n",
    "\n",
    "# Generate classification report with precision, recall, F1-score, and support\n",
    "classification_rep = classification_report(y_sm, y_pred_cv)\n",
    "print('Classification Report (Cross-Validation):\\n', classification_rep)\n"
   ]
  },
  {
   "cell_type": "markdown",
   "id": "57a81c4f",
   "metadata": {},
   "source": [
    "### Hyperparameter tuning"
   ]
  },
  {
   "cell_type": "code",
   "execution_count": 50,
   "id": "d24e7750",
   "metadata": {},
   "outputs": [
    {
     "name": "stdout",
     "output_type": "stream",
     "text": [
      "Best Hyperparameters: {'C': 10, 'kernel': 'rbf'}\n",
      "Mean Accuracy: 0.9935351556372366\n",
      "Cross-Validation Accuracy: 0.99\n"
     ]
    },
    {
     "data": {
      "text/plain": [
       "<Figure size 300x300 with 0 Axes>"
      ]
     },
     "metadata": {},
     "output_type": "display_data"
    },
    {
     "data": {
      "image/png": "[encoded data removed]",
      "text/plain": [
       "<Figure size 640x480 with 2 Axes>"
      ]
     },
     "metadata": {},
     "output_type": "display_data"
    },
    {
     "name": "stdout",
     "output_type": "stream",
     "text": [
      "Classification Report (Cross-Validation):\n",
      "               precision    recall  f1-score   support\n",
      "\n",
      "           0       0.99      1.00      1.00     33788\n",
      "           1       0.95      0.83      0.88      1013\n",
      "\n",
      "    accuracy                           0.99     34801\n",
      "   macro avg       0.97      0.91      0.94     34801\n",
      "weighted avg       0.99      0.99      0.99     34801\n",
      "\n"
     ]
    }
   ],
   "source": [
    "from sklearn.model_selection import GridSearchCV\n",
    "# Define the hyperparameters to search\n",
    "param_grid = {\n",
    "    'kernel': ['linear', 'rbf'],  #Possible kernel functions\n",
    "    'C': [0.1, 1, 10]  # Values of C\n",
    "}\n",
    "\n",
    "# Create a GridSearchCV object with cross-validation\n",
    "grid_search = GridSearchCV(estimator=svm_classifier, param_grid=param_grid, cv=5, scoring='accuracy', n_jobs=-1)\n",
    "\n",
    "# Perform grid search to find the best hyperparameters\n",
    "grid_search.fit(X_resampled, y_sm)\n",
    "\n",
    "# Get the best hyperparameters\n",
    "best_params = grid_search.best_params_\n",
    "print('Best Hyperparameters:', best_params)\n",
    "\n",
    "# Create the SVM classifier with the best hyperparameters\n",
    "best_svm_classifier = SVC(class_weight='balanced', random_state=42, **best_params)\n",
    "\n",
    "# Perform cross-validation and generate predictions with the best SVM classifier\n",
    "y_pred_cv = cross_val_predict(best_svm_classifier, X_resampled, y_sm, cv=5)\n",
    "\n",
    "scores = cross_val_score(best_svm_classifier, X_resampled, y_sm, cv=5, scoring='accuracy')\n",
    "# Calculate the average accuracy from cross-validation\n",
    "mean_accuracy = np.mean(scores)\n",
    "print('Mean Accuracy:', mean_accuracy)\n",
    "\n",
    "# Calculate the cross-validation accuracy score\n",
    "cross_val_accuracy = accuracy_score(y_sm, y_pred_cv)\n",
    "print(f'Cross-Validation Accuracy: {cross_val_accuracy:.2f}')\n",
    "\n",
    "# Plot confusion matrix\n",
    "plt.figure(figsize=(3, 3))\n",
    "skplt.metrics.plot_confusion_matrix(y_sm, y_pred_cv)\n",
    "plt.show()\n",
    "\n",
    "# Generate a classification report with precision, recall, F1-score, and support\n",
    "classification_rep = classification_report(y_sm, y_pred_cv)\n",
    "print('Classification Report (Cross-Validation):\\n', classification_rep)\n"
   ]
  },
  {
   "cell_type": "code",
   "execution_count": 51,
   "id": "a93bfb53",
   "metadata": {},
   "outputs": [
    {
     "data": {
      "text/plain": [
       "['support_vector_machine_model.pkl']"
      ]
     },
     "execution_count": 51,
     "metadata": {},
     "output_type": "execute_result"
    }
   ],
   "source": [
    "import joblib\n",
    "\n",
    "#Support Vector Machine model\n",
    "joblib.dump('best_svm_classifier', \"support_vector_machine_model.pkl\")\n"
   ]
  },
  {
   "cell_type": "code",
   "execution_count": 52,
   "id": "efa72dfc",
   "metadata": {},
   "outputs": [
    {
     "ename": "AttributeError",
     "evalue": "predict_proba is not available when probability=False",
     "output_type": "error",
     "traceback": [
      "\u001b[1;31m---------------------------------------------------------------------------\u001b[0m",
      "\u001b[1;31mAttributeError\u001b[0m                            Traceback (most recent call last)",
      "Cell \u001b[1;32mIn[52], line 3\u001b[0m\n\u001b[0;32m      1\u001b[0m \u001b[38;5;28;01mfrom\u001b[39;00m \u001b[38;5;21;01msklearn\u001b[39;00m\u001b[38;5;21;01m.\u001b[39;00m\u001b[38;5;21;01mmetrics\u001b[39;00m \u001b[38;5;28;01mimport\u001b[39;00m roc_auc_score\n\u001b[1;32m----> 3\u001b[0m roc_auc_rf \u001b[38;5;241m=\u001b[39m roc_auc_score(y_sm, best_svm_classifier\u001b[38;5;241m.\u001b[39mpredict_proba(X_resampled)[:, \u001b[38;5;241m1\u001b[39m])\n\u001b[0;32m      4\u001b[0m fpr_rf, tpr_rf, _ \u001b[38;5;241m=\u001b[39m roc_curve(y_sm, best_svm_classifier\u001b[38;5;241m.\u001b[39mpredict_proba(X_resampled)[:, \u001b[38;5;241m1\u001b[39m])\n\u001b[0;32m      6\u001b[0m plt\u001b[38;5;241m.\u001b[39mfigure(figsize\u001b[38;5;241m=\u001b[39m(\u001b[38;5;241m8\u001b[39m, \u001b[38;5;241m6\u001b[39m))\n",
      "File \u001b[1;32m~\\anaconda3\\Lib\\site-packages\\sklearn\\utils\\_available_if.py:31\u001b[0m, in \u001b[0;36m_AvailableIfDescriptor.__get__\u001b[1;34m(self, obj, owner)\u001b[0m\n\u001b[0;32m     25\u001b[0m attr_err \u001b[38;5;241m=\u001b[39m \u001b[38;5;167;01mAttributeError\u001b[39;00m(\n\u001b[0;32m     26\u001b[0m     \u001b[38;5;124mf\u001b[39m\u001b[38;5;124m\"\u001b[39m\u001b[38;5;124mThis \u001b[39m\u001b[38;5;132;01m{\u001b[39;00m\u001b[38;5;28mrepr\u001b[39m(owner\u001b[38;5;241m.\u001b[39m\u001b[38;5;18m__name__\u001b[39m)\u001b[38;5;132;01m}\u001b[39;00m\u001b[38;5;124m has no attribute \u001b[39m\u001b[38;5;132;01m{\u001b[39;00m\u001b[38;5;28mrepr\u001b[39m(\u001b[38;5;28mself\u001b[39m\u001b[38;5;241m.\u001b[39mattribute_name)\u001b[38;5;132;01m}\u001b[39;00m\u001b[38;5;124m\"\u001b[39m\n\u001b[0;32m     27\u001b[0m )\n\u001b[0;32m     28\u001b[0m \u001b[38;5;28;01mif\u001b[39;00m obj \u001b[38;5;129;01mis\u001b[39;00m \u001b[38;5;129;01mnot\u001b[39;00m \u001b[38;5;28;01mNone\u001b[39;00m:\n\u001b[0;32m     29\u001b[0m     \u001b[38;5;66;03m# delegate only on instances, not the classes.\u001b[39;00m\n\u001b[0;32m     30\u001b[0m     \u001b[38;5;66;03m# this is to allow access to the docstrings.\u001b[39;00m\n\u001b[1;32m---> 31\u001b[0m     \u001b[38;5;28;01mif\u001b[39;00m \u001b[38;5;129;01mnot\u001b[39;00m \u001b[38;5;28mself\u001b[39m\u001b[38;5;241m.\u001b[39mcheck(obj):\n\u001b[0;32m     32\u001b[0m         \u001b[38;5;28;01mraise\u001b[39;00m attr_err\n\u001b[0;32m     33\u001b[0m     out \u001b[38;5;241m=\u001b[39m MethodType(\u001b[38;5;28mself\u001b[39m\u001b[38;5;241m.\u001b[39mfn, obj)\n",
      "File \u001b[1;32m~\\anaconda3\\Lib\\site-packages\\sklearn\\svm\\_base.py:827\u001b[0m, in \u001b[0;36mBaseSVC._check_proba\u001b[1;34m(self)\u001b[0m\n\u001b[0;32m    825\u001b[0m \u001b[38;5;28;01mdef\u001b[39;00m \u001b[38;5;21m_check_proba\u001b[39m(\u001b[38;5;28mself\u001b[39m):\n\u001b[0;32m    826\u001b[0m     \u001b[38;5;28;01mif\u001b[39;00m \u001b[38;5;129;01mnot\u001b[39;00m \u001b[38;5;28mself\u001b[39m\u001b[38;5;241m.\u001b[39mprobability:\n\u001b[1;32m--> 827\u001b[0m         \u001b[38;5;28;01mraise\u001b[39;00m \u001b[38;5;167;01mAttributeError\u001b[39;00m(\n\u001b[0;32m    828\u001b[0m             \u001b[38;5;124m\"\u001b[39m\u001b[38;5;124mpredict_proba is not available when probability=False\u001b[39m\u001b[38;5;124m\"\u001b[39m\n\u001b[0;32m    829\u001b[0m         )\n\u001b[0;32m    830\u001b[0m     \u001b[38;5;28;01mif\u001b[39;00m \u001b[38;5;28mself\u001b[39m\u001b[38;5;241m.\u001b[39m_impl \u001b[38;5;129;01mnot\u001b[39;00m \u001b[38;5;129;01min\u001b[39;00m (\u001b[38;5;124m\"\u001b[39m\u001b[38;5;124mc_svc\u001b[39m\u001b[38;5;124m\"\u001b[39m, \u001b[38;5;124m\"\u001b[39m\u001b[38;5;124mnu_svc\u001b[39m\u001b[38;5;124m\"\u001b[39m):\n\u001b[0;32m    831\u001b[0m         \u001b[38;5;28;01mraise\u001b[39;00m \u001b[38;5;167;01mAttributeError\u001b[39;00m(\u001b[38;5;124m\"\u001b[39m\u001b[38;5;124mpredict_proba only implemented for SVC and NuSVC\u001b[39m\u001b[38;5;124m\"\u001b[39m)\n",
      "\u001b[1;31mAttributeError\u001b[0m: predict_proba is not available when probability=False"
     ]
    }
   ],
   "source": [
    "from sklearn.metrics import roc_auc_score\n",
    "\n",
    "roc_auc_rf = roc_auc_score(y_sm, best_svm_classifier.predict_proba(X_resampled)[:, 1])\n",
    "fpr_rf, tpr_rf, _ = roc_curve(y_sm, best_svm_classifier.predict_proba(X_resampled)[:, 1])\n",
    "\n",
    "plt.figure(figsize=(8, 6))\n",
    "plt.plot(fpr_rf, tpr_rf, color='darkorange', lw=2, label='ROC curve (area = {:.2f})'.format(roc_auc_rf))\n",
    "plt.plot([0, 1], [0, 1], color='navy', lw=2, linestyle='--')\n",
    "plt.xlim([0.0, 1.0])\n",
    "plt.ylim([0.0, 1.05])\n",
    "plt.xlabel('False Positive Rate')\n",
    "plt.ylabel('True Positive Rate')\n",
    "plt.title('Receiver Operating Characteristic (ROC) - Naive Bayes')\n",
    "plt.legend(loc='lower right')\n",
    "plt.show()"
   ]
  },
  {
   "cell_type": "code",
   "execution_count": 53,
   "id": "91c7c42d",
   "metadata": {},
   "outputs": [
    {
     "ename": "NotFittedError",
     "evalue": "This SVC instance is not fitted yet. Call 'fit' with appropriate arguments before using this estimator.",
     "output_type": "error",
     "traceback": [
      "\u001b[1;31m---------------------------------------------------------------------------\u001b[0m",
      "\u001b[1;31mNotFittedError\u001b[0m                            Traceback (most recent call last)",
      "Cell \u001b[1;32mIn[53], line 2\u001b[0m\n\u001b[0;32m      1\u001b[0m \u001b[38;5;66;03m# Get the probability scores for the positive class (class 1)\u001b[39;00m\n\u001b[1;32m----> 2\u001b[0m y_prob \u001b[38;5;241m=\u001b[39m best_svm_classifier\u001b[38;5;241m.\u001b[39mdecision_function(X_resampled)\n\u001b[0;32m      4\u001b[0m \u001b[38;5;66;03m# Compute the ROC curve\u001b[39;00m\n\u001b[0;32m      5\u001b[0m fpr, tpr, thresholds \u001b[38;5;241m=\u001b[39m roc_curve(y_sm, y_prob)\n",
      "File \u001b[1;32m~\\anaconda3\\Lib\\site-packages\\sklearn\\svm\\_base.py:783\u001b[0m, in \u001b[0;36mBaseSVC.decision_function\u001b[1;34m(self, X)\u001b[0m\n\u001b[0;32m    756\u001b[0m \u001b[38;5;28;01mdef\u001b[39;00m \u001b[38;5;21mdecision_function\u001b[39m(\u001b[38;5;28mself\u001b[39m, X):\n\u001b[0;32m    757\u001b[0m \u001b[38;5;250m    \u001b[39m\u001b[38;5;124;03m\"\"\"Evaluate the decision function for the samples in X.\u001b[39;00m\n\u001b[0;32m    758\u001b[0m \n\u001b[0;32m    759\u001b[0m \u001b[38;5;124;03m    Parameters\u001b[39;00m\n\u001b[1;32m   (...)\u001b[0m\n\u001b[0;32m    781\u001b[0m \u001b[38;5;124;03m    transformation of ovo decision function.\u001b[39;00m\n\u001b[0;32m    782\u001b[0m \u001b[38;5;124;03m    \"\"\"\u001b[39;00m\n\u001b[1;32m--> 783\u001b[0m     dec \u001b[38;5;241m=\u001b[39m \u001b[38;5;28mself\u001b[39m\u001b[38;5;241m.\u001b[39m_decision_function(X)\n\u001b[0;32m    784\u001b[0m     \u001b[38;5;28;01mif\u001b[39;00m \u001b[38;5;28mself\u001b[39m\u001b[38;5;241m.\u001b[39mdecision_function_shape \u001b[38;5;241m==\u001b[39m \u001b[38;5;124m\"\u001b[39m\u001b[38;5;124movr\u001b[39m\u001b[38;5;124m\"\u001b[39m \u001b[38;5;129;01mand\u001b[39;00m \u001b[38;5;28mlen\u001b[39m(\u001b[38;5;28mself\u001b[39m\u001b[38;5;241m.\u001b[39mclasses_) \u001b[38;5;241m>\u001b[39m \u001b[38;5;241m2\u001b[39m:\n\u001b[0;32m    785\u001b[0m         \u001b[38;5;28;01mreturn\u001b[39;00m _ovr_decision_function(dec \u001b[38;5;241m<\u001b[39m \u001b[38;5;241m0\u001b[39m, \u001b[38;5;241m-\u001b[39mdec, \u001b[38;5;28mlen\u001b[39m(\u001b[38;5;28mself\u001b[39m\u001b[38;5;241m.\u001b[39mclasses_))\n",
      "File \u001b[1;32m~\\anaconda3\\Lib\\site-packages\\sklearn\\svm\\_base.py:532\u001b[0m, in \u001b[0;36mBaseLibSVM._decision_function\u001b[1;34m(self, X)\u001b[0m\n\u001b[0;32m    518\u001b[0m \u001b[38;5;250m\u001b[39m\u001b[38;5;124;03m\"\"\"Evaluates the decision function for the samples in X.\u001b[39;00m\n\u001b[0;32m    519\u001b[0m \n\u001b[0;32m    520\u001b[0m \u001b[38;5;124;03mParameters\u001b[39;00m\n\u001b[1;32m   (...)\u001b[0m\n\u001b[0;32m    528\u001b[0m \u001b[38;5;124;03m    in the model.\u001b[39;00m\n\u001b[0;32m    529\u001b[0m \u001b[38;5;124;03m\"\"\"\u001b[39;00m\n\u001b[0;32m    530\u001b[0m \u001b[38;5;66;03m# NOTE: _validate_for_predict contains check for is_fitted\u001b[39;00m\n\u001b[0;32m    531\u001b[0m \u001b[38;5;66;03m# hence must be placed before any other attributes are used.\u001b[39;00m\n\u001b[1;32m--> 532\u001b[0m X \u001b[38;5;241m=\u001b[39m \u001b[38;5;28mself\u001b[39m\u001b[38;5;241m.\u001b[39m_validate_for_predict(X)\n\u001b[0;32m    533\u001b[0m X \u001b[38;5;241m=\u001b[39m \u001b[38;5;28mself\u001b[39m\u001b[38;5;241m.\u001b[39m_compute_kernel(X)\n\u001b[0;32m    535\u001b[0m \u001b[38;5;28;01mif\u001b[39;00m \u001b[38;5;28mself\u001b[39m\u001b[38;5;241m.\u001b[39m_sparse:\n",
      "File \u001b[1;32m~\\anaconda3\\Lib\\site-packages\\sklearn\\svm\\_base.py:608\u001b[0m, in \u001b[0;36mBaseLibSVM._validate_for_predict\u001b[1;34m(self, X)\u001b[0m\n\u001b[0;32m    607\u001b[0m \u001b[38;5;28;01mdef\u001b[39;00m \u001b[38;5;21m_validate_for_predict\u001b[39m(\u001b[38;5;28mself\u001b[39m, X):\n\u001b[1;32m--> 608\u001b[0m     check_is_fitted(\u001b[38;5;28mself\u001b[39m)\n\u001b[0;32m    610\u001b[0m     \u001b[38;5;28;01mif\u001b[39;00m \u001b[38;5;129;01mnot\u001b[39;00m \u001b[38;5;28mcallable\u001b[39m(\u001b[38;5;28mself\u001b[39m\u001b[38;5;241m.\u001b[39mkernel):\n\u001b[0;32m    611\u001b[0m         X \u001b[38;5;241m=\u001b[39m \u001b[38;5;28mself\u001b[39m\u001b[38;5;241m.\u001b[39m_validate_data(\n\u001b[0;32m    612\u001b[0m             X,\n\u001b[0;32m    613\u001b[0m             accept_sparse\u001b[38;5;241m=\u001b[39m\u001b[38;5;124m\"\u001b[39m\u001b[38;5;124mcsr\u001b[39m\u001b[38;5;124m\"\u001b[39m,\n\u001b[1;32m   (...)\u001b[0m\n\u001b[0;32m    617\u001b[0m             reset\u001b[38;5;241m=\u001b[39m\u001b[38;5;28;01mFalse\u001b[39;00m,\n\u001b[0;32m    618\u001b[0m         )\n",
      "File \u001b[1;32m~\\anaconda3\\Lib\\site-packages\\sklearn\\utils\\validation.py:1461\u001b[0m, in \u001b[0;36mcheck_is_fitted\u001b[1;34m(estimator, attributes, msg, all_or_any)\u001b[0m\n\u001b[0;32m   1458\u001b[0m     \u001b[38;5;28;01mraise\u001b[39;00m \u001b[38;5;167;01mTypeError\u001b[39;00m(\u001b[38;5;124m\"\u001b[39m\u001b[38;5;132;01m%s\u001b[39;00m\u001b[38;5;124m is not an estimator instance.\u001b[39m\u001b[38;5;124m\"\u001b[39m \u001b[38;5;241m%\u001b[39m (estimator))\n\u001b[0;32m   1460\u001b[0m \u001b[38;5;28;01mif\u001b[39;00m \u001b[38;5;129;01mnot\u001b[39;00m _is_fitted(estimator, attributes, all_or_any):\n\u001b[1;32m-> 1461\u001b[0m     \u001b[38;5;28;01mraise\u001b[39;00m NotFittedError(msg \u001b[38;5;241m%\u001b[39m {\u001b[38;5;124m\"\u001b[39m\u001b[38;5;124mname\u001b[39m\u001b[38;5;124m\"\u001b[39m: \u001b[38;5;28mtype\u001b[39m(estimator)\u001b[38;5;241m.\u001b[39m\u001b[38;5;18m__name__\u001b[39m})\n",
      "\u001b[1;31mNotFittedError\u001b[0m: This SVC instance is not fitted yet. Call 'fit' with appropriate arguments before using this estimator."
     ]
    }
   ],
   "source": [
    "# Get the probability scores for the positive class (class 1)\n",
    "y_prob = best_svm_classifier.decision_function(X_resampled)\n",
    "\n",
    "# Compute the ROC curve\n",
    "fpr, tpr, thresholds = roc_curve(y_sm, y_prob)\n",
    "\n",
    "# Calculate the AUC (Area Under the Curve)\n",
    "roc_auc = roc_auc_score(y_sm, y_prob)\n",
    "\n",
    "# Plot the ROC curve\n",
    "plt.figure(figsize=(8, 6))\n",
    "plt.plot(fpr, tpr, color='darkorange', lw=2, label=f'ROC curve (AUC = {roc_auc:.2f})')\n",
    "plt.plot([0, 1], [0, 1], color='navy', lw=2, linestyle='--')\n",
    "plt.xlim([0.0, 1.0])\n",
    "plt.ylim([0.0, 1.05])\n",
    "plt.xlabel('False Positive Rate')\n",
    "plt.ylabel('True Positive Rate')\n",
    "plt.title('Receiver Operating Characteristic (ROC) Curve')\n",
    "plt.legend(loc='lower right')\n",
    "plt.show()"
   ]
  },
  {
   "cell_type": "markdown",
   "id": "259671bc",
   "metadata": {},
   "source": [
    "## 5. KNN (K - Nearest Neighbors)"
   ]
  },
  {
   "cell_type": "markdown",
   "id": "e54f4123",
   "metadata": {},
   "source": [
    "### No-parameter tuning"
   ]
  },
  {
   "cell_type": "code",
   "execution_count": 46,
   "id": "40798b07",
   "metadata": {},
   "outputs": [
    {
     "name": "stdout",
     "output_type": "stream",
     "text": [
      "Mean Accuracy: 0.9887647476003416\n",
      "Cross-Validation Accuracy: 0.99\n",
      "Classification Report (Cross-Validation):\n",
      "               precision    recall  f1-score   support\n",
      "\n",
      "           0       0.99      0.99      0.99     33788\n",
      "           1       0.80      0.82      0.81      1013\n",
      "\n",
      "    accuracy                           0.99     34801\n",
      "   macro avg       0.90      0.91      0.90     34801\n",
      "weighted avg       0.99      0.99      0.99     34801\n",
      "\n"
     ]
    },
    {
     "data": {
      "image/png": "[encoded data removed]",
      "text/plain": [
       "<Figure size 640x480 with 2 Axes>"
      ]
     },
     "metadata": {},
     "output_type": "display_data"
    }
   ],
   "source": [
    "import numpy as np\n",
    "import matplotlib.pyplot as plt\n",
    "from sklearn.neighbors import KNeighborsClassifier\n",
    "from sklearn.metrics import classification_report,accuracy_score\n",
    "from sklearn.model_selection import cross_val_score\n",
    "from sklearn.model_selection import cross_val_predict\n",
    "import seaborn as sns\n",
    "import scikitplot as skplt\n",
    "from sklearn.model_selection import GridSearchCV\n",
    "\n",
    "# Create a KNN classifier\n",
    "knn_classifier = KNeighborsClassifier(n_neighbors=5)  # You can adjust the number of neighbors as needed\n",
    "\n",
    "# Perform cross-validation and generate a classification report\n",
    "y_pred_cv = cross_val_predict(knn_classifier, X_sm, y_sm, cv=5)  # X is your feature matrix, y is your target variable\n",
    "\n",
    "scores = cross_val_score(knn_classifier, X_sm, y_sm, cv=5, scoring='accuracy')\n",
    "# Calculate the average accuracy from cross-validation\n",
    "mean_accuracy = np.mean(scores)\n",
    "print('Mean Accuracy:', mean_accuracy)\n",
    "\n",
    "# Calculate the cross-validation accuracy score\n",
    "cross_val_accuracy = accuracy_score(y_sm, y_pred_cv)\n",
    "print(f'Cross-Validation Accuracy: {cross_val_accuracy:.2f}')\n",
    "\n",
    "\n",
    "\n",
    "# Generate a classification report for the cross-validated predictions\n",
    "report_cv = classification_report(y_sm, y_pred_cv)\n",
    "print('Classification Report (Cross-Validation):\\n', report_cv)\n",
    "\n",
    "# If you want to create a heatmap of the confusion matrix, you can do so:\n",
    "cm_cv = confusion_matrix(y_sm, y_pred_cv)\n",
    "sns.heatmap(cm_cv, annot=True, fmt=\"g\")\n",
    "plt.xlabel(\"Predicted\")\n",
    "plt.ylabel('Actual')\n",
    "plt.title('Confusion Matrix (Cross-Validation)')\n",
    "plt.show()\n"
   ]
  },
  {
   "cell_type": "markdown",
   "id": "50189419",
   "metadata": {},
   "source": [
    "### Hyper Parameter Tuning"
   ]
  },
  {
   "cell_type": "code",
   "execution_count": 47,
   "id": "37611c78",
   "metadata": {
    "scrolled": true
   },
   "outputs": [
    {
     "name": "stdout",
     "output_type": "stream",
     "text": [
      "Best Hyperparameters: {'n_neighbors': 3, 'p': 1, 'weights': 'distance'}\n",
      "Mean Accuracy: 0.9933336635805068\n",
      "Cross-Validation Accuracy: 0.99\n",
      "Classification Report (Cross-Validation):\n",
      "               precision    recall  f1-score   support\n",
      "\n",
      "           0       1.00      1.00      1.00     33788\n",
      "           1       0.85      0.94      0.89      1013\n",
      "\n",
      "    accuracy                           0.99     34801\n",
      "   macro avg       0.92      0.97      0.94     34801\n",
      "weighted avg       0.99      0.99      0.99     34801\n",
      "\n"
     ]
    },
    {
     "data": {
      "image/png": "[encoded data removed]",
      "text/plain": [
       "<Figure size 640x480 with 2 Axes>"
      ]
     },
     "metadata": {},
     "output_type": "display_data"
    }
   ],
   "source": [
    "\n",
    "# Define a grid of hyperparameters to search\n",
    "param_grid = {\n",
    "    'n_neighbors': [3, 5, 7, 9],  # Experiment with different neighbor values\n",
    "    'weights': ['uniform', 'distance'],\n",
    "    'p': [1, 2]  # 1 for Manhattan distance, 2 for Euclidean distance\n",
    "}\n",
    "\n",
    "# Create a GridSearchCV object with cross-validation\n",
    "grid_search = GridSearchCV(estimator=knn_classifier, param_grid=param_grid, cv=5, scoring='accuracy', n_jobs=-1)\n",
    "\n",
    "# Fit the grid search to the resampled data\n",
    "grid_search.fit(X_sm, y_sm)\n",
    "\n",
    "# Get the best hyperparameters\n",
    "best_params = grid_search.best_params_\n",
    "print('Best Hyperparameters:', best_params)\n",
    "\n",
    "# Create the KNN classifier with the best hyperparameters\n",
    "best_knn_classifier = KNeighborsClassifier(n_neighbors=best_params['n_neighbors'],\n",
    "                                           weights=best_params['weights'], p=best_params['p'])\n",
    "\n",
    "# Use cross-validation with the best hyperparameters\n",
    "y_pred_cv = cross_val_predict(best_knn_classifier, X_sm, y_sm, cv=5)\n",
    "\n",
    "scores = cross_val_score(best_knn_classifier, X_sm, y_sm, cv=5, scoring='accuracy')\n",
    "# Calculate the average accuracy from cross-validation\n",
    "mean_accuracy = np.mean(scores)\n",
    "print('Mean Accuracy:', mean_accuracy)\n",
    "\n",
    "# Calculate the cross-validation accuracy score\n",
    "cross_val_accuracy = accuracy_score(y_sm, y_pred_cv)\n",
    "print(f'Cross-Validation Accuracy: {cross_val_accuracy:.2f}')\n",
    "\n",
    "\n",
    "# Generate a classification report for the cross-validated predictions\n",
    "report_cv = classification_report(y_sm, y_pred_cv)\n",
    "print('Classification Report (Cross-Validation):\\n', report_cv)\n",
    "\n",
    "# Create a heatmap of the confusion matrix for the cross-validated predictions\n",
    "cm_cv = confusion_matrix(y_sm, y_pred_cv)\n",
    "sns.heatmap(cm_cv, annot=True, fmt=\"g\")\n",
    "plt.xlabel(\"Predicted\")\n",
    "plt.ylabel(\"Actual\")\n",
    "plt.title('Confusion Matrix (Cross-Validation)')\n",
    "plt.show()\n"
   ]
  },
  {
   "cell_type": "code",
   "execution_count": 48,
   "id": "29acb765",
   "metadata": {},
   "outputs": [],
   "source": [
    "from sklearn.metrics import classification_report, confusion_matrix, roc_curve, auc\n",
    "\n",
    "# Calculate ROC curve and AUC\n",
    "y_prob = cross_val_predict(best_knn_classifier, X_sm, y_sm, cv=5, method='predict_proba')[:, 1]\n",
    "fpr, tpr, thresholds = roc_curve(y_sm, y_prob)\n",
    "roc_auc = auc(fpr, tpr)"
   ]
  },
  {
   "cell_type": "code",
   "execution_count": 41,
   "id": "134574ad",
   "metadata": {},
   "outputs": [
    {
     "data": {
      "image/png": "[encoded data removed]",
      "text/plain": [
       "<Figure size 800x600 with 1 Axes>"
      ]
     },
     "metadata": {},
     "output_type": "display_data"
    }
   ],
   "source": [
    "# Plot ROC curve\n",
    "plt.figure(figsize=(8, 6))\n",
    "plt.plot(fpr, tpr, color='darkorange', lw=2, label=f'ROC curve (AUC = {roc_auc:.2f})')\n",
    "plt.plot([0, 1], [0, 1], color='navy', lw=2, linestyle='--')\n",
    "plt.xlim([0.0, 1.0])\n",
    "plt.ylim([0.0, 1.05])\n",
    "plt.xlabel('False Positive Rate')\n",
    "plt.ylabel('True Positive Rate')\n",
    "plt.title('Receiver Operating Characteristic (ROC) Curve')\n",
    "plt.legend(loc='lower right')\n",
    "plt.show()"
   ]
  },
  {
   "cell_type": "code",
   "execution_count": 42,
   "id": "5d93fe60",
   "metadata": {},
   "outputs": [
    {
     "data": {
      "text/plain": [
       "['KNN_model.pkl']"
      ]
     },
     "execution_count": 42,
     "metadata": {},
     "output_type": "execute_result"
    }
   ],
   "source": [
    "import joblib\n",
    "\n",
    "#KNN model\n",
    "joblib.dump('best_knn_classifier', \"KNN_model.pkl\")"
   ]
  },
  {
   "cell_type": "markdown",
   "id": "e37dfa17",
   "metadata": {},
   "source": [
    "# Model Evaluation"
   ]
  },
  {
   "cell_type": "code",
   "execution_count": null,
   "id": "91d8070b",
   "metadata": {},
   "outputs": [],
   "source": [
    "import matplotlib.pyplot as plt\n",
    "import numpy as np\n",
    "\n",
    "\n",
    "# Sample data\n",
    "model_names = ['RFM', 'NB', 'LR', 'SVM', 'KNN']\n",
    "precision_class0 = [0.99, 0.99, 0.99, 0.99, 0.99]\n",
    "recall_class0 = [1.00, 0.99, 1.00, 1.00, 1.00]\n",
    "f1_score_class0 = [1.00, 0.99, 0.99, 1.00, 1.00]\n",
    "precision_class1 = [1.00, 0.76, 0.92, 0.98, 1.00]\n",
    "recall_class1 = [0.83, 0.78, 0.58, 0.82, 0.76]\n",
    "f1_score_class1 = [0.91, 0.77, 0.71, 0.90, 0.87]\n",
    "\n",
    "\n",
    "# Set the width of each bar\n",
    "bar_width = 0.3\n",
    "\n",
    "# Set the x positions of the bars\n",
    "x = np.arange(len(model_names))\n",
    "\n",
    "# Create the bar chart for precision\n",
    "plt.bar(x, precision_class0, width=bar_width, label='Precision',color=\"#142966\")\n",
    "\n",
    "# Create the bar chart for recall, shifted by bar_width\n",
    "plt.bar(x + bar_width, recall_class0, width=bar_width, label='Recall',color=\"#520052\")\n",
    "\n",
    "# Create the bar chart for F1-score, shifted by 2*bar_width\n",
    "plt.bar(x + 2*bar_width, f1_score_class0, width=bar_width, label='F1-Score',color=\"#0F3D0F\")\n",
    "\n",
    "# Set labels and legends\n",
    "plt.xlabel('Model Names')\n",
    "plt.ylabel('Values')\n",
    "plt.title('Non-fraudulent')\n",
    "plt.xticks(x + bar_width, model_names)\n",
    "plt.legend()\n",
    "\n",
    "# Show the plot\n",
    "plt.tight_layout()\n",
    "plt.show()"
   ]
  },
  {
   "cell_type": "code",
   "execution_count": null,
   "id": "2f47c7f7",
   "metadata": {},
   "outputs": [],
   "source": [
    "import numpy as np\n",
    "import matplotlib.pyplot as plt\n",
    "\n",
    "# Sample data for Class 1\n",
    "model_names = ['RFM', 'NB', 'LR', 'SVM', 'KNN']\n",
    "precision_class1 = [1.00, 0.76, 0.92, 0.98, 1.00]\n",
    "recall_class1 = [0.83, 0.78, 0.58, 0.82, 0.76]\n",
    "f1_score_class1 = [0.91, 0.77, 0.71, 0.90, 0.87]\n",
    "\n",
    "# Set the width of each bar\n",
    "bar_width = 0.3\n",
    "\n",
    "# Set the x positions of the bars\n",
    "x = np.arange(len(model_names))\n",
    "\n",
    "# Create the bar chart for precision\n",
    "plt.bar(x, precision_class1, width=bar_width, label='Precision',color=\"#142966\")\n",
    "\n",
    "# Create the bar chart for recall, shifted by bar_width\n",
    "plt.bar(x + bar_width, recall_class1, width=bar_width, label='Recall',color=\"#520052\")\n",
    "\n",
    "# Create the bar chart for F1-score, shifted by 2*bar_width\n",
    "plt.bar(x + 2*bar_width, f1_score_class1, width=bar_width, label='F1-Score',color=\"#0F3D0F\")\n",
    "\n",
    "# Set labels and legends\n",
    "plt.xlabel('Model Names')\n",
    "plt.ylabel('Values')\n",
    "plt.title('Fraudulant')\n",
    "plt.xticks(x + bar_width, model_names)\n",
    "plt.legend()\n",
    "\n",
    "# Show the plot\n",
    "plt.tight_layout()\n",
    "plt.show()\n"
   ]
  },
  {
   "cell_type": "code",
   "execution_count": null,
   "id": "aa1da2a1",
   "metadata": {},
   "outputs": [],
   "source": []
  }
 ],
 "metadata": {
  "kernelspec": {
   "display_name": "Python 3 (ipykernel)",
   "language": "python",
   "name": "python3"
  },
  "language_info": {
   "codemirror_mode": {
    "name": "ipython",
    "version": 3
   },
   "file_extension": ".py",
   "mimetype": "text/x-python",
   "name": "python",
   "nbconvert_exporter": "python",
   "pygments_lexer": "ipython3",
   "version": "3.11.5"
  }
 },
 "nbformat": 4,
 "nbformat_minor": 5
}
