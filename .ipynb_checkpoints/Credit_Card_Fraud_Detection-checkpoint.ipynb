{
 "cells": [
  {
   "cell_type": "markdown",
   "id": "04545024",
   "metadata": {},
   "source": [
    "# DATA PREPROCESSING"
   ]
  },
  {
   "cell_type": "markdown",
   "id": "1ccdeb67",
   "metadata": {},
   "source": [
    "## Importing the libraries"
   ]
  },
  {
   "cell_type": "code",
   "execution_count": 1,
   "id": "48bc9cb2",
   "metadata": {},
   "outputs": [],
   "source": [
    "import tensorflow as tf\n",
    "import pandas as pd\n",
    "from scipy.stats import chi2_contingency\n",
    "from datetime import datetime\n",
    "import category_encoders as ce\n",
    "import warnings\n",
    "warnings.filterwarnings('ignore')"
   ]
  },
  {
   "cell_type": "code",
   "execution_count": 2,
   "id": "c99c5be7",
   "metadata": {},
   "outputs": [
    {
     "name": "stdout",
     "output_type": "stream",
     "text": [
      "2.14.0\n"
     ]
    }
   ],
   "source": [
    "print(tf.__version__)"
   ]
  },
  {
   "cell_type": "markdown",
   "id": "6ad3fc6b",
   "metadata": {},
   "source": [
    "## Importing the dataset"
   ]
  },
  {
   "cell_type": "code",
   "execution_count": 3,
   "id": "9cbfb4b2",
   "metadata": {},
   "outputs": [
    {
     "data": {
      "text/html": [
       "<div>\n",
       "<style scoped>\n",
       "    .dataframe tbody tr th:only-of-type {\n",
       "        vertical-align: middle;\n",
       "    }\n",
       "\n",
       "    .dataframe tbody tr th {\n",
       "        vertical-align: top;\n",
       "    }\n",
       "\n",
       "    .dataframe thead th {\n",
       "        text-align: right;\n",
       "    }\n",
       "</style>\n",
       "<table border=\"1\" class=\"dataframe\">\n",
       "  <thead>\n",
       "    <tr style=\"text-align: right;\">\n",
       "      <th></th>\n",
       "      <th>trans_date_trans_time</th>\n",
       "      <th>merchant</th>\n",
       "      <th>category</th>\n",
       "      <th>amt</th>\n",
       "      <th>city</th>\n",
       "      <th>state</th>\n",
       "      <th>lat</th>\n",
       "      <th>long</th>\n",
       "      <th>city_pop</th>\n",
       "      <th>job</th>\n",
       "      <th>dob</th>\n",
       "      <th>trans_num</th>\n",
       "      <th>merch_lat</th>\n",
       "      <th>merch_long</th>\n",
       "      <th>is_fraud</th>\n",
       "    </tr>\n",
       "  </thead>\n",
       "  <tbody>\n",
       "    <tr>\n",
       "      <th>0</th>\n",
       "      <td>2019-07-21 17:20:32</td>\n",
       "      <td>Kilback, Nitzsche and Leffle</td>\n",
       "      <td>travel</td>\n",
       "      <td>5.69</td>\n",
       "      <td>Mound City</td>\n",
       "      <td>MO</td>\n",
       "      <td>40.1362</td>\n",
       "      <td>-95.2138</td>\n",
       "      <td>1631</td>\n",
       "      <td>Architect</td>\n",
       "      <td>1953-01-20</td>\n",
       "      <td>657f3b5d8265a7baed9b094f95b93f39</td>\n",
       "      <td>40.591103</td>\n",
       "      <td>-94.445245</td>\n",
       "      <td>0</td>\n",
       "    </tr>\n",
       "    <tr>\n",
       "      <th>1</th>\n",
       "      <td>2019-10-07 12:10:26</td>\n",
       "      <td>Christiansen-Gusikowski</td>\n",
       "      <td>misc_pos</td>\n",
       "      <td>51.20</td>\n",
       "      <td>Rocky Mount</td>\n",
       "      <td>MO</td>\n",
       "      <td>38.2911</td>\n",
       "      <td>-92.7059</td>\n",
       "      <td>1847</td>\n",
       "      <td>Tax inspector</td>\n",
       "      <td>1988-10-26</td>\n",
       "      <td>a0a6120995d90497124eb9117797dc2a</td>\n",
       "      <td>38.682440</td>\n",
       "      <td>-93.288181</td>\n",
       "      <td>0</td>\n",
       "    </tr>\n",
       "    <tr>\n",
       "      <th>2</th>\n",
       "      <td>2020-12-27 12:40:48</td>\n",
       "      <td>Gulgowski LLC</td>\n",
       "      <td>home</td>\n",
       "      <td>225.07</td>\n",
       "      <td>Tomales</td>\n",
       "      <td>CA</td>\n",
       "      <td>38.2427</td>\n",
       "      <td>-122.9145</td>\n",
       "      <td>337</td>\n",
       "      <td>Occupational psychologist</td>\n",
       "      <td>1954-07-05</td>\n",
       "      <td>737b67154bcfb5fa19edfed0b5dc9640</td>\n",
       "      <td>38.593997</td>\n",
       "      <td>-122.226545</td>\n",
       "      <td>0</td>\n",
       "    </tr>\n",
       "    <tr>\n",
       "      <th>3</th>\n",
       "      <td>2020-11-20 03:11:53</td>\n",
       "      <td>Hudson-Ratke</td>\n",
       "      <td>grocery_pos</td>\n",
       "      <td>121.80</td>\n",
       "      <td>Lagrange</td>\n",
       "      <td>WY</td>\n",
       "      <td>41.6423</td>\n",
       "      <td>-104.1974</td>\n",
       "      <td>635</td>\n",
       "      <td>Product/process development scientist</td>\n",
       "      <td>1973-07-13</td>\n",
       "      <td>9bfac49eb4605e0a7560ac91a526164a</td>\n",
       "      <td>41.219040</td>\n",
       "      <td>-104.248942</td>\n",
       "      <td>0</td>\n",
       "    </tr>\n",
       "    <tr>\n",
       "      <th>4</th>\n",
       "      <td>2019-12-08 07:33:54</td>\n",
       "      <td>Hermann-Gaylo</td>\n",
       "      <td>misc_pos</td>\n",
       "      <td>140.93</td>\n",
       "      <td>Littleton</td>\n",
       "      <td>CO</td>\n",
       "      <td>39.5994</td>\n",
       "      <td>-105.0044</td>\n",
       "      <td>320420</td>\n",
       "      <td>Water engineer</td>\n",
       "      <td>1975-07-31</td>\n",
       "      <td>0560bebe84613889bff8924f27538b5b</td>\n",
       "      <td>39.205949</td>\n",
       "      <td>-105.962080</td>\n",
       "      <td>0</td>\n",
       "    </tr>\n",
       "    <tr>\n",
       "      <th>...</th>\n",
       "      <td>...</td>\n",
       "      <td>...</td>\n",
       "      <td>...</td>\n",
       "      <td>...</td>\n",
       "      <td>...</td>\n",
       "      <td>...</td>\n",
       "      <td>...</td>\n",
       "      <td>...</td>\n",
       "      <td>...</td>\n",
       "      <td>...</td>\n",
       "      <td>...</td>\n",
       "      <td>...</td>\n",
       "      <td>...</td>\n",
       "      <td>...</td>\n",
       "      <td>...</td>\n",
       "    </tr>\n",
       "    <tr>\n",
       "      <th>33956</th>\n",
       "      <td>2019-08-04 16:26:10</td>\n",
       "      <td>Gleason-Macejkovic</td>\n",
       "      <td>shopping_net</td>\n",
       "      <td>1.67</td>\n",
       "      <td>Hooper</td>\n",
       "      <td>NE</td>\n",
       "      <td>41.6414</td>\n",
       "      <td>-96.5232</td>\n",
       "      <td>1745</td>\n",
       "      <td>Engineer, automotive</td>\n",
       "      <td>1973-12-26</td>\n",
       "      <td>97d739c12712fb682d9696bc002a6a98</td>\n",
       "      <td>41.905722</td>\n",
       "      <td>-96.442696</td>\n",
       "      <td>0</td>\n",
       "    </tr>\n",
       "    <tr>\n",
       "      <th>33957</th>\n",
       "      <td>2019-10-26 10:50:43</td>\n",
       "      <td>Bins, Balistreri and Beatty</td>\n",
       "      <td>shopping_pos</td>\n",
       "      <td>9.08</td>\n",
       "      <td>Saint Louis</td>\n",
       "      <td>MO</td>\n",
       "      <td>38.6171</td>\n",
       "      <td>-90.4504</td>\n",
       "      <td>927396</td>\n",
       "      <td>Occupational hygienist</td>\n",
       "      <td>1960-03-12</td>\n",
       "      <td>15dd6c4faced8d91b163291f02646e93</td>\n",
       "      <td>39.000982</td>\n",
       "      <td>-91.024037</td>\n",
       "      <td>0</td>\n",
       "    </tr>\n",
       "    <tr>\n",
       "      <th>33958</th>\n",
       "      <td>2020-07-12 05:54:46</td>\n",
       "      <td>Kutch Group</td>\n",
       "      <td>grocery_net</td>\n",
       "      <td>36.88</td>\n",
       "      <td>Hooper</td>\n",
       "      <td>NE</td>\n",
       "      <td>41.6414</td>\n",
       "      <td>-96.5232</td>\n",
       "      <td>1745</td>\n",
       "      <td>Engineer, automotive</td>\n",
       "      <td>1973-12-26</td>\n",
       "      <td>77e01ddbaf0f3ee332d93af948fb275d</td>\n",
       "      <td>41.483717</td>\n",
       "      <td>-96.345731</td>\n",
       "      <td>0</td>\n",
       "    </tr>\n",
       "    <tr>\n",
       "      <th>33959</th>\n",
       "      <td>2019-04-16 21:41:47</td>\n",
       "      <td>Konopelski, Schneider and Hartmann</td>\n",
       "      <td>food_dining</td>\n",
       "      <td>12.83</td>\n",
       "      <td>Tekoa</td>\n",
       "      <td>WA</td>\n",
       "      <td>47.2271</td>\n",
       "      <td>-117.0819</td>\n",
       "      <td>895</td>\n",
       "      <td>Clothing/textile technologist</td>\n",
       "      <td>1999-05-31</td>\n",
       "      <td>f738dc0ff880a1f68293477dde82de26</td>\n",
       "      <td>46.496408</td>\n",
       "      <td>-116.668911</td>\n",
       "      <td>0</td>\n",
       "    </tr>\n",
       "    <tr>\n",
       "      <th>33960</th>\n",
       "      <td>2020-08-25 10:15:46</td>\n",
       "      <td>Rodriguez, Yost and Jenkins</td>\n",
       "      <td>misc_net</td>\n",
       "      <td>3.68</td>\n",
       "      <td>Yellowstone National Park</td>\n",
       "      <td>WY</td>\n",
       "      <td>44.7957</td>\n",
       "      <td>-110.6137</td>\n",
       "      <td>369</td>\n",
       "      <td>Materials engineer</td>\n",
       "      <td>1941-11-16</td>\n",
       "      <td>f810593ede9775a8f6788a8d01fcc5fa</td>\n",
       "      <td>45.465152</td>\n",
       "      <td>-111.207373</td>\n",
       "      <td>0</td>\n",
       "    </tr>\n",
       "  </tbody>\n",
       "</table>\n",
       "<p>33961 rows × 15 columns</p>\n",
       "</div>"
      ],
      "text/plain": [
       "      trans_date_trans_time                            merchant      category  \\\n",
       "0       2019-07-21 17:20:32        Kilback, Nitzsche and Leffle        travel   \n",
       "1       2019-10-07 12:10:26             Christiansen-Gusikowski      misc_pos   \n",
       "2       2020-12-27 12:40:48                       Gulgowski LLC          home   \n",
       "3       2020-11-20 03:11:53                        Hudson-Ratke   grocery_pos   \n",
       "4       2019-12-08 07:33:54                       Hermann-Gaylo      misc_pos   \n",
       "...                     ...                                 ...           ...   \n",
       "33956   2019-08-04 16:26:10                  Gleason-Macejkovic  shopping_net   \n",
       "33957   2019-10-26 10:50:43         Bins, Balistreri and Beatty  shopping_pos   \n",
       "33958   2020-07-12 05:54:46                         Kutch Group   grocery_net   \n",
       "33959   2019-04-16 21:41:47  Konopelski, Schneider and Hartmann   food_dining   \n",
       "33960   2020-08-25 10:15:46         Rodriguez, Yost and Jenkins      misc_net   \n",
       "\n",
       "          amt                       city state      lat      long  city_pop  \\\n",
       "0        5.69                 Mound City    MO  40.1362  -95.2138      1631   \n",
       "1       51.20                Rocky Mount    MO  38.2911  -92.7059      1847   \n",
       "2      225.07                    Tomales    CA  38.2427 -122.9145       337   \n",
       "3      121.80                   Lagrange    WY  41.6423 -104.1974       635   \n",
       "4      140.93                  Littleton    CO  39.5994 -105.0044    320420   \n",
       "...       ...                        ...   ...      ...       ...       ...   \n",
       "33956    1.67                     Hooper    NE  41.6414  -96.5232      1745   \n",
       "33957    9.08                Saint Louis    MO  38.6171  -90.4504    927396   \n",
       "33958   36.88                     Hooper    NE  41.6414  -96.5232      1745   \n",
       "33959   12.83                      Tekoa    WA  47.2271 -117.0819       895   \n",
       "33960    3.68  Yellowstone National Park    WY  44.7957 -110.6137       369   \n",
       "\n",
       "                                         job         dob  \\\n",
       "0                                  Architect  1953-01-20   \n",
       "1                              Tax inspector  1988-10-26   \n",
       "2                  Occupational psychologist  1954-07-05   \n",
       "3      Product/process development scientist  1973-07-13   \n",
       "4                             Water engineer  1975-07-31   \n",
       "...                                      ...         ...   \n",
       "33956                   Engineer, automotive  1973-12-26   \n",
       "33957                 Occupational hygienist  1960-03-12   \n",
       "33958                   Engineer, automotive  1973-12-26   \n",
       "33959          Clothing/textile technologist  1999-05-31   \n",
       "33960                     Materials engineer  1941-11-16   \n",
       "\n",
       "                              trans_num  merch_lat  merch_long  is_fraud  \n",
       "0      657f3b5d8265a7baed9b094f95b93f39  40.591103  -94.445245         0  \n",
       "1      a0a6120995d90497124eb9117797dc2a  38.682440  -93.288181         0  \n",
       "2      737b67154bcfb5fa19edfed0b5dc9640  38.593997 -122.226545         0  \n",
       "3      9bfac49eb4605e0a7560ac91a526164a  41.219040 -104.248942         0  \n",
       "4      0560bebe84613889bff8924f27538b5b  39.205949 -105.962080         0  \n",
       "...                                 ...        ...         ...       ...  \n",
       "33956  97d739c12712fb682d9696bc002a6a98  41.905722  -96.442696         0  \n",
       "33957  15dd6c4faced8d91b163291f02646e93  39.000982  -91.024037         0  \n",
       "33958  77e01ddbaf0f3ee332d93af948fb275d  41.483717  -96.345731         0  \n",
       "33959  f738dc0ff880a1f68293477dde82de26  46.496408 -116.668911         0  \n",
       "33960  f810593ede9775a8f6788a8d01fcc5fa  45.465152 -111.207373         0  \n",
       "\n",
       "[33961 rows x 15 columns]"
      ]
     },
     "execution_count": 3,
     "metadata": {},
     "output_type": "execute_result"
    }
   ],
   "source": [
    "# Dataset with all columns\n",
    "dataset = pd.read_csv(\"Dataset/credit_card_subset.csv\")\n",
    "dataset"
   ]
  },
  {
   "cell_type": "markdown",
   "id": "587dd485",
   "metadata": {},
   "source": [
    "## Data Exploration and Understanding"
   ]
  },
  {
   "cell_type": "code",
   "execution_count": 4,
   "id": "0ae62bf7",
   "metadata": {},
   "outputs": [
    {
     "data": {
      "text/plain": [
       "trans_date_trans_time     object\n",
       "merchant                  object\n",
       "category                  object\n",
       "amt                      float64\n",
       "city                      object\n",
       "state                     object\n",
       "lat                      float64\n",
       "long                     float64\n",
       "city_pop                   int64\n",
       "job                       object\n",
       "dob                       object\n",
       "trans_num                 object\n",
       "merch_lat                float64\n",
       "merch_long               float64\n",
       "is_fraud                   int64\n",
       "dtype: object"
      ]
     },
     "execution_count": 4,
     "metadata": {},
     "output_type": "execute_result"
    }
   ],
   "source": [
    "# Explore the data types of the columns\n",
    "dataset.dtypes"
   ]
  },
  {
   "cell_type": "code",
   "execution_count": 5,
   "id": "52506bc8",
   "metadata": {},
   "outputs": [
    {
     "data": {
      "text/html": [
       "<div>\n",
       "<style scoped>\n",
       "    .dataframe tbody tr th:only-of-type {\n",
       "        vertical-align: middle;\n",
       "    }\n",
       "\n",
       "    .dataframe tbody tr th {\n",
       "        vertical-align: top;\n",
       "    }\n",
       "\n",
       "    .dataframe thead th {\n",
       "        text-align: right;\n",
       "    }\n",
       "</style>\n",
       "<table border=\"1\" class=\"dataframe\">\n",
       "  <thead>\n",
       "    <tr style=\"text-align: right;\">\n",
       "      <th></th>\n",
       "      <th>amt</th>\n",
       "      <th>lat</th>\n",
       "      <th>long</th>\n",
       "      <th>city_pop</th>\n",
       "      <th>merch_lat</th>\n",
       "      <th>merch_long</th>\n",
       "      <th>is_fraud</th>\n",
       "    </tr>\n",
       "  </thead>\n",
       "  <tbody>\n",
       "    <tr>\n",
       "      <th>count</th>\n",
       "      <td>33961.000000</td>\n",
       "      <td>33961.000000</td>\n",
       "      <td>33961.000000</td>\n",
       "      <td>3.396100e+04</td>\n",
       "      <td>33961.000000</td>\n",
       "      <td>33961.000000</td>\n",
       "      <td>33961.000000</td>\n",
       "    </tr>\n",
       "    <tr>\n",
       "      <th>mean</th>\n",
       "      <td>70.760032</td>\n",
       "      <td>39.707463</td>\n",
       "      <td>-110.690501</td>\n",
       "      <td>1.058948e+05</td>\n",
       "      <td>39.706654</td>\n",
       "      <td>-110.700418</td>\n",
       "      <td>0.005094</td>\n",
       "    </tr>\n",
       "    <tr>\n",
       "      <th>std</th>\n",
       "      <td>152.198557</td>\n",
       "      <td>5.126336</td>\n",
       "      <td>12.704703</td>\n",
       "      <td>2.895875e+05</td>\n",
       "      <td>5.160603</td>\n",
       "      <td>12.718162</td>\n",
       "      <td>0.071192</td>\n",
       "    </tr>\n",
       "    <tr>\n",
       "      <th>min</th>\n",
       "      <td>1.000000</td>\n",
       "      <td>20.027100</td>\n",
       "      <td>-165.672300</td>\n",
       "      <td>4.600000e+01</td>\n",
       "      <td>19.027422</td>\n",
       "      <td>-166.670685</td>\n",
       "      <td>0.000000</td>\n",
       "    </tr>\n",
       "    <tr>\n",
       "      <th>25%</th>\n",
       "      <td>9.550000</td>\n",
       "      <td>36.715400</td>\n",
       "      <td>-120.093600</td>\n",
       "      <td>4.710000e+02</td>\n",
       "      <td>36.773361</td>\n",
       "      <td>-119.837639</td>\n",
       "      <td>0.000000</td>\n",
       "    </tr>\n",
       "    <tr>\n",
       "      <th>50%</th>\n",
       "      <td>46.680000</td>\n",
       "      <td>39.599400</td>\n",
       "      <td>-111.029200</td>\n",
       "      <td>1.661000e+03</td>\n",
       "      <td>39.571367</td>\n",
       "      <td>-111.060831</td>\n",
       "      <td>0.000000</td>\n",
       "    </tr>\n",
       "    <tr>\n",
       "      <th>75%</th>\n",
       "      <td>83.970000</td>\n",
       "      <td>41.710000</td>\n",
       "      <td>-101.136000</td>\n",
       "      <td>3.570500e+04</td>\n",
       "      <td>42.168704</td>\n",
       "      <td>-100.553748</td>\n",
       "      <td>0.000000</td>\n",
       "    </tr>\n",
       "    <tr>\n",
       "      <th>max</th>\n",
       "      <td>8895.570000</td>\n",
       "      <td>66.693300</td>\n",
       "      <td>-89.628700</td>\n",
       "      <td>2.383912e+06</td>\n",
       "      <td>66.679297</td>\n",
       "      <td>-88.632541</td>\n",
       "      <td>1.000000</td>\n",
       "    </tr>\n",
       "  </tbody>\n",
       "</table>\n",
       "</div>"
      ],
      "text/plain": [
       "                amt           lat          long      city_pop     merch_lat  \\\n",
       "count  33961.000000  33961.000000  33961.000000  3.396100e+04  33961.000000   \n",
       "mean      70.760032     39.707463   -110.690501  1.058948e+05     39.706654   \n",
       "std      152.198557      5.126336     12.704703  2.895875e+05      5.160603   \n",
       "min        1.000000     20.027100   -165.672300  4.600000e+01     19.027422   \n",
       "25%        9.550000     36.715400   -120.093600  4.710000e+02     36.773361   \n",
       "50%       46.680000     39.599400   -111.029200  1.661000e+03     39.571367   \n",
       "75%       83.970000     41.710000   -101.136000  3.570500e+04     42.168704   \n",
       "max     8895.570000     66.693300    -89.628700  2.383912e+06     66.679297   \n",
       "\n",
       "         merch_long      is_fraud  \n",
       "count  33961.000000  33961.000000  \n",
       "mean    -110.700418      0.005094  \n",
       "std       12.718162      0.071192  \n",
       "min     -166.670685      0.000000  \n",
       "25%     -119.837639      0.000000  \n",
       "50%     -111.060831      0.000000  \n",
       "75%     -100.553748      0.000000  \n",
       "max      -88.632541      1.000000  "
      ]
     },
     "execution_count": 5,
     "metadata": {},
     "output_type": "execute_result"
    }
   ],
   "source": [
    "dataset.describe()"
   ]
  },
  {
   "cell_type": "code",
   "execution_count": 6,
   "id": "ae8c56f7",
   "metadata": {},
   "outputs": [
    {
     "data": {
      "text/plain": [
       "<bound method Series.sort_values of amt           0.227443\n",
       "lat           0.006511\n",
       "long         -0.000097\n",
       "city_pop     -0.007120\n",
       "merch_lat     0.006280\n",
       "merch_long   -0.000182\n",
       "is_fraud      1.000000\n",
       "Name: is_fraud, dtype: float64>"
      ]
     },
     "execution_count": 6,
     "metadata": {},
     "output_type": "execute_result"
    }
   ],
   "source": [
    "#To gets the columns that are most correlated with the class column\n",
    "corr = dataset.corr(numeric_only=True)['is_fraud'].sort_values\n",
    "corr\n"
   ]
  },
  {
   "cell_type": "markdown",
   "id": "88aa0d9f",
   "metadata": {},
   "source": [
    "The 'amt' feature appears to have a positive correlation with 'is_fraud,' suggesting that higher transaction amounts might be associated with a higher likelihood of fraud.\n",
    "\n",
    "The 'city_pop' feature has a very weak correlation with 'is_fraud,' suggesting it may not be a strong predictor."
   ]
  },
  {
   "cell_type": "code",
   "execution_count": 7,
   "id": "ba5fa505",
   "metadata": {},
   "outputs": [
    {
     "name": "stdout",
     "output_type": "stream",
     "text": [
      "                         Chi-Square       p-value\n",
      "city                    3994.086138  0.000000e+00\n",
      "job                     2410.496146  0.000000e+00\n",
      "dob                     4199.467315  0.000000e+00\n",
      "category                 159.135346  2.949278e-27\n",
      "state                     23.607490  2.298958e-02\n",
      "merchant                 756.957218  4.344633e-02\n",
      "trans_date_trans_time  33961.000000  4.806169e-01\n",
      "trans_num              33961.000000  4.974487e-01\n"
     ]
    }
   ],
   "source": [
    "\n",
    "\n",
    "# Select the categorical columns with 'object' data type\n",
    "categorical_columns = dataset.select_dtypes(include=['object']).columns\n",
    "\n",
    "# Create a dictionary to store chi-square statistics and p-values\n",
    "chi2_results = {}\n",
    "\n",
    "# Perform Chi-Square test for each categorical column\n",
    "for col in categorical_columns:\n",
    "    contingency_table = pd.crosstab(dataset[col], dataset['is_fraud'])\n",
    "    chi2, p, _, _ = chi2_contingency(contingency_table)\n",
    "    chi2_results[col] = {'Chi-Square': chi2, 'p-value': p}\n",
    "\n",
    "# Create a DataFrame from the results\n",
    "chi2_results_df = pd.DataFrame(chi2_results).T\n",
    "\n",
    "# Sort by p-value (smaller p-values indicate stronger association)\n",
    "chi2_results_df.sort_values(by='p-value', ascending=True, inplace=True)\n",
    "\n",
    "# Print the results\n",
    "print(chi2_results_df)"
   ]
  },
  {
   "cell_type": "markdown",
   "id": "f384387d",
   "metadata": {},
   "source": [
    "Columns like 'city,' 'job,' 'dob,' 'category,' 'state,' and 'merchant' have very low p-values close to zero, indicating a strong association with the target variable ('isFraud').\n",
    "\n",
    "The 'trans_date_trans_time' column has a p-value of approximately 0.354, indicating that it may not be strongly associated with the target variable.\n",
    "\n",
    "The 'trans_num' column has a p-value of approximately 0.499, indicating no significant association with the target variable."
   ]
  },
  {
   "cell_type": "code",
   "execution_count": 8,
   "id": "10e3a455",
   "metadata": {},
   "outputs": [
    {
     "data": {
      "text/plain": [
       "count           33961\n",
       "unique            693\n",
       "top       Kilback LLC\n",
       "freq              115\n",
       "Name: merchant, dtype: object"
      ]
     },
     "execution_count": 8,
     "metadata": {},
     "output_type": "execute_result"
    }
   ],
   "source": [
    "# To explore a particular column\n",
    "dataset['merchant'].describe()"
   ]
  },
  {
   "cell_type": "code",
   "execution_count": 9,
   "id": "1ba2e7d9",
   "metadata": {},
   "outputs": [
    {
     "data": {
      "text/plain": [
       "count             33961\n",
       "unique               14\n",
       "top       gas_transport\n",
       "freq               3529\n",
       "Name: category, dtype: object"
      ]
     },
     "execution_count": 9,
     "metadata": {},
     "output_type": "execute_result"
    }
   ],
   "source": [
    "# To explore a particular column\n",
    "dataset['category'].describe()"
   ]
  },
  {
   "cell_type": "code",
   "execution_count": 10,
   "id": "ffef5ab5",
   "metadata": {},
   "outputs": [
    {
     "data": {
      "text/plain": [
       "count       33961\n",
       "unique        172\n",
       "top       Phoenix\n",
       "freq          709\n",
       "Name: city, dtype: object"
      ]
     },
     "execution_count": 10,
     "metadata": {},
     "output_type": "execute_result"
    }
   ],
   "source": [
    "# To explore a particular column\n",
    "dataset['city'].describe()"
   ]
  },
  {
   "cell_type": "code",
   "execution_count": 11,
   "id": "469f5654",
   "metadata": {},
   "outputs": [
    {
     "data": {
      "text/plain": [
       "count     33961\n",
       "unique       13\n",
       "top          CA\n",
       "freq       8117\n",
       "Name: state, dtype: object"
      ]
     },
     "execution_count": 11,
     "metadata": {},
     "output_type": "execute_result"
    }
   ],
   "source": [
    "# To explore a particular column\n",
    "dataset['state'].describe()"
   ]
  },
  {
   "cell_type": "code",
   "execution_count": 12,
   "id": "862e64c3",
   "metadata": {},
   "outputs": [
    {
     "data": {
      "text/plain": [
       "count                  33961\n",
       "unique                   157\n",
       "top       Surveyor, minerals\n",
       "freq                     659\n",
       "Name: job, dtype: object"
      ]
     },
     "execution_count": 12,
     "metadata": {},
     "output_type": "execute_result"
    }
   ],
   "source": [
    "# To explore a particular column\n",
    "dataset['job'].describe()"
   ]
  },
  {
   "cell_type": "code",
   "execution_count": 13,
   "id": "f8145e9c",
   "metadata": {},
   "outputs": [
    {
     "data": {
      "text/plain": [
       "count                   33961\n",
       "unique                  33950\n",
       "top       2020-01-16 21:32:45\n",
       "freq                        2\n",
       "Name: trans_date_trans_time, dtype: object"
      ]
     },
     "execution_count": 13,
     "metadata": {},
     "output_type": "execute_result"
    }
   ],
   "source": [
    "# To explore a particular column\n",
    "dataset['trans_date_trans_time'].describe()"
   ]
  },
  {
   "cell_type": "code",
   "execution_count": 14,
   "id": "0cdf236f",
   "metadata": {},
   "outputs": [
    {
     "data": {
      "text/plain": [
       "count          33961\n",
       "unique           180\n",
       "top       1984-09-01\n",
       "freq             469\n",
       "Name: dob, dtype: object"
      ]
     },
     "execution_count": 14,
     "metadata": {},
     "output_type": "execute_result"
    }
   ],
   "source": [
    "# To explore a particular column\n",
    "dataset['dob'].describe()"
   ]
  },
  {
   "cell_type": "code",
   "execution_count": 15,
   "id": "77ce6408",
   "metadata": {
    "scrolled": false
   },
   "outputs": [
    {
     "data": {
      "text/plain": [
       "array(['travel', 'misc_pos', 'home', 'grocery_pos', 'health_fitness',\n",
       "       'kids_pets', 'misc_net', 'shopping_net', 'shopping_pos',\n",
       "       'food_dining', 'gas_transport', 'grocery_net', 'personal_care',\n",
       "       'entertainment'], dtype=object)"
      ]
     },
     "execution_count": 15,
     "metadata": {},
     "output_type": "execute_result"
    }
   ],
   "source": [
    "# It returns the unique values in the column as an array.\n",
    "pd.unique(dataset['category'].values)"
   ]
  },
  {
   "cell_type": "markdown",
   "id": "5f6079bc",
   "metadata": {},
   "source": [
    "## Data Cleaning"
   ]
  },
  {
   "cell_type": "markdown",
   "id": "c6eb5946",
   "metadata": {},
   "source": [
    "### (1) Removing irrelevant columns"
   ]
  },
  {
   "cell_type": "code",
   "execution_count": 16,
   "id": "be2b25ad",
   "metadata": {},
   "outputs": [
    {
     "data": {
      "text/html": [
       "<div>\n",
       "<style scoped>\n",
       "    .dataframe tbody tr th:only-of-type {\n",
       "        vertical-align: middle;\n",
       "    }\n",
       "\n",
       "    .dataframe tbody tr th {\n",
       "        vertical-align: top;\n",
       "    }\n",
       "\n",
       "    .dataframe thead th {\n",
       "        text-align: right;\n",
       "    }\n",
       "</style>\n",
       "<table border=\"1\" class=\"dataframe\">\n",
       "  <thead>\n",
       "    <tr style=\"text-align: right;\">\n",
       "      <th></th>\n",
       "      <th>merchant</th>\n",
       "      <th>category</th>\n",
       "      <th>amt</th>\n",
       "      <th>state</th>\n",
       "      <th>city</th>\n",
       "      <th>job</th>\n",
       "      <th>dob</th>\n",
       "      <th>is_fraud</th>\n",
       "    </tr>\n",
       "  </thead>\n",
       "  <tbody>\n",
       "    <tr>\n",
       "      <th>0</th>\n",
       "      <td>Kilback, Nitzsche and Leffle</td>\n",
       "      <td>travel</td>\n",
       "      <td>5.69</td>\n",
       "      <td>MO</td>\n",
       "      <td>Mound City</td>\n",
       "      <td>Architect</td>\n",
       "      <td>1953-01-20</td>\n",
       "      <td>0</td>\n",
       "    </tr>\n",
       "    <tr>\n",
       "      <th>1</th>\n",
       "      <td>Christiansen-Gusikowski</td>\n",
       "      <td>misc_pos</td>\n",
       "      <td>51.20</td>\n",
       "      <td>MO</td>\n",
       "      <td>Rocky Mount</td>\n",
       "      <td>Tax inspector</td>\n",
       "      <td>1988-10-26</td>\n",
       "      <td>0</td>\n",
       "    </tr>\n",
       "    <tr>\n",
       "      <th>2</th>\n",
       "      <td>Gulgowski LLC</td>\n",
       "      <td>home</td>\n",
       "      <td>225.07</td>\n",
       "      <td>CA</td>\n",
       "      <td>Tomales</td>\n",
       "      <td>Occupational psychologist</td>\n",
       "      <td>1954-07-05</td>\n",
       "      <td>0</td>\n",
       "    </tr>\n",
       "    <tr>\n",
       "      <th>3</th>\n",
       "      <td>Hudson-Ratke</td>\n",
       "      <td>grocery_pos</td>\n",
       "      <td>121.80</td>\n",
       "      <td>WY</td>\n",
       "      <td>Lagrange</td>\n",
       "      <td>Product/process development scientist</td>\n",
       "      <td>1973-07-13</td>\n",
       "      <td>0</td>\n",
       "    </tr>\n",
       "    <tr>\n",
       "      <th>4</th>\n",
       "      <td>Hermann-Gaylo</td>\n",
       "      <td>misc_pos</td>\n",
       "      <td>140.93</td>\n",
       "      <td>CO</td>\n",
       "      <td>Littleton</td>\n",
       "      <td>Water engineer</td>\n",
       "      <td>1975-07-31</td>\n",
       "      <td>0</td>\n",
       "    </tr>\n",
       "    <tr>\n",
       "      <th>...</th>\n",
       "      <td>...</td>\n",
       "      <td>...</td>\n",
       "      <td>...</td>\n",
       "      <td>...</td>\n",
       "      <td>...</td>\n",
       "      <td>...</td>\n",
       "      <td>...</td>\n",
       "      <td>...</td>\n",
       "    </tr>\n",
       "    <tr>\n",
       "      <th>33956</th>\n",
       "      <td>Gleason-Macejkovic</td>\n",
       "      <td>shopping_net</td>\n",
       "      <td>1.67</td>\n",
       "      <td>NE</td>\n",
       "      <td>Hooper</td>\n",
       "      <td>Engineer, automotive</td>\n",
       "      <td>1973-12-26</td>\n",
       "      <td>0</td>\n",
       "    </tr>\n",
       "    <tr>\n",
       "      <th>33957</th>\n",
       "      <td>Bins, Balistreri and Beatty</td>\n",
       "      <td>shopping_pos</td>\n",
       "      <td>9.08</td>\n",
       "      <td>MO</td>\n",
       "      <td>Saint Louis</td>\n",
       "      <td>Occupational hygienist</td>\n",
       "      <td>1960-03-12</td>\n",
       "      <td>0</td>\n",
       "    </tr>\n",
       "    <tr>\n",
       "      <th>33958</th>\n",
       "      <td>Kutch Group</td>\n",
       "      <td>grocery_net</td>\n",
       "      <td>36.88</td>\n",
       "      <td>NE</td>\n",
       "      <td>Hooper</td>\n",
       "      <td>Engineer, automotive</td>\n",
       "      <td>1973-12-26</td>\n",
       "      <td>0</td>\n",
       "    </tr>\n",
       "    <tr>\n",
       "      <th>33959</th>\n",
       "      <td>Konopelski, Schneider and Hartmann</td>\n",
       "      <td>food_dining</td>\n",
       "      <td>12.83</td>\n",
       "      <td>WA</td>\n",
       "      <td>Tekoa</td>\n",
       "      <td>Clothing/textile technologist</td>\n",
       "      <td>1999-05-31</td>\n",
       "      <td>0</td>\n",
       "    </tr>\n",
       "    <tr>\n",
       "      <th>33960</th>\n",
       "      <td>Rodriguez, Yost and Jenkins</td>\n",
       "      <td>misc_net</td>\n",
       "      <td>3.68</td>\n",
       "      <td>WY</td>\n",
       "      <td>Yellowstone National Park</td>\n",
       "      <td>Materials engineer</td>\n",
       "      <td>1941-11-16</td>\n",
       "      <td>0</td>\n",
       "    </tr>\n",
       "  </tbody>\n",
       "</table>\n",
       "<p>33961 rows × 8 columns</p>\n",
       "</div>"
      ],
      "text/plain": [
       "                                 merchant      category     amt state  \\\n",
       "0            Kilback, Nitzsche and Leffle        travel    5.69    MO   \n",
       "1                 Christiansen-Gusikowski      misc_pos   51.20    MO   \n",
       "2                           Gulgowski LLC          home  225.07    CA   \n",
       "3                            Hudson-Ratke   grocery_pos  121.80    WY   \n",
       "4                           Hermann-Gaylo      misc_pos  140.93    CO   \n",
       "...                                   ...           ...     ...   ...   \n",
       "33956                  Gleason-Macejkovic  shopping_net    1.67    NE   \n",
       "33957         Bins, Balistreri and Beatty  shopping_pos    9.08    MO   \n",
       "33958                         Kutch Group   grocery_net   36.88    NE   \n",
       "33959  Konopelski, Schneider and Hartmann   food_dining   12.83    WA   \n",
       "33960         Rodriguez, Yost and Jenkins      misc_net    3.68    WY   \n",
       "\n",
       "                            city                                    job  \\\n",
       "0                     Mound City                              Architect   \n",
       "1                    Rocky Mount                          Tax inspector   \n",
       "2                        Tomales              Occupational psychologist   \n",
       "3                       Lagrange  Product/process development scientist   \n",
       "4                      Littleton                         Water engineer   \n",
       "...                          ...                                    ...   \n",
       "33956                     Hooper                   Engineer, automotive   \n",
       "33957                Saint Louis                 Occupational hygienist   \n",
       "33958                     Hooper                   Engineer, automotive   \n",
       "33959                      Tekoa          Clothing/textile technologist   \n",
       "33960  Yellowstone National Park                     Materials engineer   \n",
       "\n",
       "              dob  is_fraud  \n",
       "0      1953-01-20         0  \n",
       "1      1988-10-26         0  \n",
       "2      1954-07-05         0  \n",
       "3      1973-07-13         0  \n",
       "4      1975-07-31         0  \n",
       "...           ...       ...  \n",
       "33956  1973-12-26         0  \n",
       "33957  1960-03-12         0  \n",
       "33958  1973-12-26         0  \n",
       "33959  1999-05-31         0  \n",
       "33960  1941-11-16         0  \n",
       "\n",
       "[33961 rows x 8 columns]"
      ]
     },
     "execution_count": 16,
     "metadata": {},
     "output_type": "execute_result"
    }
   ],
   "source": [
    "# List of columns we want to keep\n",
    "desired_columns = [ 'merchant', 'category', 'amt', 'state', 'city', 'job', 'dob', 'is_fraud']\n",
    "\n",
    "# Filter the DataFrame to keep only the desired columns\n",
    "filtered = dataset[desired_columns]\n",
    "\n",
    "# 'filtered' now contains only the specified columns, and the rest are removed\n",
    "filtered"
   ]
  },
  {
   "cell_type": "code",
   "execution_count": 17,
   "id": "eebb1c51",
   "metadata": {},
   "outputs": [],
   "source": [
    "# filtered = dataset.drop(['city_pop',lat', 'long', 'trans_num', 'merch_long', 'merch_lat'], axis=1)\n",
    "# filtered"
   ]
  },
  {
   "cell_type": "markdown",
   "id": "4fef4510",
   "metadata": {},
   "source": [
    "### (2) Handling missing data"
   ]
  },
  {
   "cell_type": "code",
   "execution_count": 18,
   "id": "b178e5d8",
   "metadata": {},
   "outputs": [
    {
     "name": "stdout",
     "output_type": "stream",
     "text": [
      "<class 'pandas.core.frame.DataFrame'>\n",
      "RangeIndex: 33961 entries, 0 to 33960\n",
      "Data columns (total 8 columns):\n",
      " #   Column    Non-Null Count  Dtype  \n",
      "---  ------    --------------  -----  \n",
      " 0   merchant  33961 non-null  object \n",
      " 1   category  33961 non-null  object \n",
      " 2   amt       33961 non-null  float64\n",
      " 3   state     33961 non-null  object \n",
      " 4   city      33961 non-null  object \n",
      " 5   job       33961 non-null  object \n",
      " 6   dob       33961 non-null  object \n",
      " 7   is_fraud  33961 non-null  int64  \n",
      "dtypes: float64(1), int64(1), object(6)\n",
      "memory usage: 2.1+ MB\n"
     ]
    }
   ],
   "source": [
    "# Use the “info()” function to have an idea about null columns.\n",
    "filtered.info()"
   ]
  },
  {
   "cell_type": "code",
   "execution_count": 19,
   "id": "237c58a2",
   "metadata": {},
   "outputs": [
    {
     "data": {
      "text/plain": [
       "merchant    0\n",
       "category    0\n",
       "amt         0\n",
       "state       0\n",
       "city        0\n",
       "job         0\n",
       "dob         0\n",
       "is_fraud    0\n",
       "dtype: int64"
      ]
     },
     "execution_count": 19,
     "metadata": {},
     "output_type": "execute_result"
    }
   ],
   "source": [
    "# Check the null values count in the filtered dataset.\n",
    "filtered.isnull().sum()"
   ]
  },
  {
   "cell_type": "markdown",
   "id": "c408a046",
   "metadata": {},
   "source": [
    "### (3) Handling duplicate data "
   ]
  },
  {
   "cell_type": "code",
   "execution_count": 20,
   "id": "697851ae",
   "metadata": {},
   "outputs": [
    {
     "name": "stdout",
     "output_type": "stream",
     "text": [
      "Duplicate Rows:\n",
      "                            merchant      category   amt state       city  \\\n",
      "9778                       Price Inc  shopping_net  2.25    NM  Red River   \n",
      "30837  Bernhard, Grant and Langworth  shopping_pos  9.07    UT       Moab   \n",
      "\n",
      "                            job         dob  is_fraud  \n",
      "9778   Surveyor, land/geomatics  1988-09-06         0  \n",
      "30837          Location manager  1989-11-24         0  \n"
     ]
    }
   ],
   "source": [
    "# Check for duplicate rows\n",
    "duplicate_rows = filtered[filtered.duplicated()]\n",
    "\n",
    "# Print the duplicate rows\n",
    "print(\"Duplicate Rows:\")\n",
    "print(duplicate_rows)"
   ]
  },
  {
   "cell_type": "code",
   "execution_count": 21,
   "id": "a696fcf6",
   "metadata": {},
   "outputs": [
    {
     "data": {
      "text/html": [
       "<div>\n",
       "<style scoped>\n",
       "    .dataframe tbody tr th:only-of-type {\n",
       "        vertical-align: middle;\n",
       "    }\n",
       "\n",
       "    .dataframe tbody tr th {\n",
       "        vertical-align: top;\n",
       "    }\n",
       "\n",
       "    .dataframe thead th {\n",
       "        text-align: right;\n",
       "    }\n",
       "</style>\n",
       "<table border=\"1\" class=\"dataframe\">\n",
       "  <thead>\n",
       "    <tr style=\"text-align: right;\">\n",
       "      <th></th>\n",
       "      <th>merchant</th>\n",
       "      <th>category</th>\n",
       "      <th>amt</th>\n",
       "      <th>state</th>\n",
       "      <th>city</th>\n",
       "      <th>job</th>\n",
       "      <th>dob</th>\n",
       "      <th>is_fraud</th>\n",
       "    </tr>\n",
       "  </thead>\n",
       "  <tbody>\n",
       "    <tr>\n",
       "      <th>0</th>\n",
       "      <td>Kilback, Nitzsche and Leffle</td>\n",
       "      <td>travel</td>\n",
       "      <td>5.69</td>\n",
       "      <td>MO</td>\n",
       "      <td>Mound City</td>\n",
       "      <td>Architect</td>\n",
       "      <td>1953-01-20</td>\n",
       "      <td>0</td>\n",
       "    </tr>\n",
       "    <tr>\n",
       "      <th>1</th>\n",
       "      <td>Christiansen-Gusikowski</td>\n",
       "      <td>misc_pos</td>\n",
       "      <td>51.20</td>\n",
       "      <td>MO</td>\n",
       "      <td>Rocky Mount</td>\n",
       "      <td>Tax inspector</td>\n",
       "      <td>1988-10-26</td>\n",
       "      <td>0</td>\n",
       "    </tr>\n",
       "    <tr>\n",
       "      <th>2</th>\n",
       "      <td>Gulgowski LLC</td>\n",
       "      <td>home</td>\n",
       "      <td>225.07</td>\n",
       "      <td>CA</td>\n",
       "      <td>Tomales</td>\n",
       "      <td>Occupational psychologist</td>\n",
       "      <td>1954-07-05</td>\n",
       "      <td>0</td>\n",
       "    </tr>\n",
       "    <tr>\n",
       "      <th>3</th>\n",
       "      <td>Hudson-Ratke</td>\n",
       "      <td>grocery_pos</td>\n",
       "      <td>121.80</td>\n",
       "      <td>WY</td>\n",
       "      <td>Lagrange</td>\n",
       "      <td>Product/process development scientist</td>\n",
       "      <td>1973-07-13</td>\n",
       "      <td>0</td>\n",
       "    </tr>\n",
       "    <tr>\n",
       "      <th>4</th>\n",
       "      <td>Hermann-Gaylo</td>\n",
       "      <td>misc_pos</td>\n",
       "      <td>140.93</td>\n",
       "      <td>CO</td>\n",
       "      <td>Littleton</td>\n",
       "      <td>Water engineer</td>\n",
       "      <td>1975-07-31</td>\n",
       "      <td>0</td>\n",
       "    </tr>\n",
       "    <tr>\n",
       "      <th>...</th>\n",
       "      <td>...</td>\n",
       "      <td>...</td>\n",
       "      <td>...</td>\n",
       "      <td>...</td>\n",
       "      <td>...</td>\n",
       "      <td>...</td>\n",
       "      <td>...</td>\n",
       "      <td>...</td>\n",
       "    </tr>\n",
       "    <tr>\n",
       "      <th>33956</th>\n",
       "      <td>Gleason-Macejkovic</td>\n",
       "      <td>shopping_net</td>\n",
       "      <td>1.67</td>\n",
       "      <td>NE</td>\n",
       "      <td>Hooper</td>\n",
       "      <td>Engineer, automotive</td>\n",
       "      <td>1973-12-26</td>\n",
       "      <td>0</td>\n",
       "    </tr>\n",
       "    <tr>\n",
       "      <th>33957</th>\n",
       "      <td>Bins, Balistreri and Beatty</td>\n",
       "      <td>shopping_pos</td>\n",
       "      <td>9.08</td>\n",
       "      <td>MO</td>\n",
       "      <td>Saint Louis</td>\n",
       "      <td>Occupational hygienist</td>\n",
       "      <td>1960-03-12</td>\n",
       "      <td>0</td>\n",
       "    </tr>\n",
       "    <tr>\n",
       "      <th>33958</th>\n",
       "      <td>Kutch Group</td>\n",
       "      <td>grocery_net</td>\n",
       "      <td>36.88</td>\n",
       "      <td>NE</td>\n",
       "      <td>Hooper</td>\n",
       "      <td>Engineer, automotive</td>\n",
       "      <td>1973-12-26</td>\n",
       "      <td>0</td>\n",
       "    </tr>\n",
       "    <tr>\n",
       "      <th>33959</th>\n",
       "      <td>Konopelski, Schneider and Hartmann</td>\n",
       "      <td>food_dining</td>\n",
       "      <td>12.83</td>\n",
       "      <td>WA</td>\n",
       "      <td>Tekoa</td>\n",
       "      <td>Clothing/textile technologist</td>\n",
       "      <td>1999-05-31</td>\n",
       "      <td>0</td>\n",
       "    </tr>\n",
       "    <tr>\n",
       "      <th>33960</th>\n",
       "      <td>Rodriguez, Yost and Jenkins</td>\n",
       "      <td>misc_net</td>\n",
       "      <td>3.68</td>\n",
       "      <td>WY</td>\n",
       "      <td>Yellowstone National Park</td>\n",
       "      <td>Materials engineer</td>\n",
       "      <td>1941-11-16</td>\n",
       "      <td>0</td>\n",
       "    </tr>\n",
       "  </tbody>\n",
       "</table>\n",
       "<p>33959 rows × 8 columns</p>\n",
       "</div>"
      ],
      "text/plain": [
       "                                 merchant      category     amt state  \\\n",
       "0            Kilback, Nitzsche and Leffle        travel    5.69    MO   \n",
       "1                 Christiansen-Gusikowski      misc_pos   51.20    MO   \n",
       "2                           Gulgowski LLC          home  225.07    CA   \n",
       "3                            Hudson-Ratke   grocery_pos  121.80    WY   \n",
       "4                           Hermann-Gaylo      misc_pos  140.93    CO   \n",
       "...                                   ...           ...     ...   ...   \n",
       "33956                  Gleason-Macejkovic  shopping_net    1.67    NE   \n",
       "33957         Bins, Balistreri and Beatty  shopping_pos    9.08    MO   \n",
       "33958                         Kutch Group   grocery_net   36.88    NE   \n",
       "33959  Konopelski, Schneider and Hartmann   food_dining   12.83    WA   \n",
       "33960         Rodriguez, Yost and Jenkins      misc_net    3.68    WY   \n",
       "\n",
       "                            city                                    job  \\\n",
       "0                     Mound City                              Architect   \n",
       "1                    Rocky Mount                          Tax inspector   \n",
       "2                        Tomales              Occupational psychologist   \n",
       "3                       Lagrange  Product/process development scientist   \n",
       "4                      Littleton                         Water engineer   \n",
       "...                          ...                                    ...   \n",
       "33956                     Hooper                   Engineer, automotive   \n",
       "33957                Saint Louis                 Occupational hygienist   \n",
       "33958                     Hooper                   Engineer, automotive   \n",
       "33959                      Tekoa          Clothing/textile technologist   \n",
       "33960  Yellowstone National Park                     Materials engineer   \n",
       "\n",
       "              dob  is_fraud  \n",
       "0      1953-01-20         0  \n",
       "1      1988-10-26         0  \n",
       "2      1954-07-05         0  \n",
       "3      1973-07-13         0  \n",
       "4      1975-07-31         0  \n",
       "...           ...       ...  \n",
       "33956  1973-12-26         0  \n",
       "33957  1960-03-12         0  \n",
       "33958  1973-12-26         0  \n",
       "33959  1999-05-31         0  \n",
       "33960  1941-11-16         0  \n",
       "\n",
       "[33959 rows x 8 columns]"
      ]
     },
     "execution_count": 21,
     "metadata": {},
     "output_type": "execute_result"
    }
   ],
   "source": [
    "# Handle duplicates\n",
    "filtered.drop_duplicates(inplace=False)"
   ]
  },
  {
   "cell_type": "markdown",
   "id": "38ce48bc",
   "metadata": {},
   "source": [
    "## Feature Engineering"
   ]
  },
  {
   "cell_type": "markdown",
   "id": "46137de6",
   "metadata": {},
   "source": [
    "### (1) Converting 'dob' from object data type to numeric data type"
   ]
  },
  {
   "cell_type": "code",
   "execution_count": 22,
   "id": "202f8760",
   "metadata": {},
   "outputs": [
    {
     "name": "stdout",
     "output_type": "stream",
     "text": [
      "                                 merchant      category     amt state  \\\n",
      "0            Kilback, Nitzsche and Leffle        travel    5.69    MO   \n",
      "1                 Christiansen-Gusikowski      misc_pos   51.20    MO   \n",
      "2                           Gulgowski LLC          home  225.07    CA   \n",
      "3                            Hudson-Ratke   grocery_pos  121.80    WY   \n",
      "4                           Hermann-Gaylo      misc_pos  140.93    CO   \n",
      "...                                   ...           ...     ...   ...   \n",
      "33956                  Gleason-Macejkovic  shopping_net    1.67    NE   \n",
      "33957         Bins, Balistreri and Beatty  shopping_pos    9.08    MO   \n",
      "33958                         Kutch Group   grocery_net   36.88    NE   \n",
      "33959  Konopelski, Schneider and Hartmann   food_dining   12.83    WA   \n",
      "33960         Rodriguez, Yost and Jenkins      misc_net    3.68    WY   \n",
      "\n",
      "                            city                                    job  \\\n",
      "0                     Mound City                              Architect   \n",
      "1                    Rocky Mount                          Tax inspector   \n",
      "2                        Tomales              Occupational psychologist   \n",
      "3                       Lagrange  Product/process development scientist   \n",
      "4                      Littleton                         Water engineer   \n",
      "...                          ...                                    ...   \n",
      "33956                     Hooper                   Engineer, automotive   \n",
      "33957                Saint Louis                 Occupational hygienist   \n",
      "33958                     Hooper                   Engineer, automotive   \n",
      "33959                      Tekoa          Clothing/textile technologist   \n",
      "33960  Yellowstone National Park                     Materials engineer   \n",
      "\n",
      "             dob  is_fraud  age  \n",
      "0     1953-01-20         0   70  \n",
      "1     1988-10-26         0   34  \n",
      "2     1954-07-05         0   69  \n",
      "3     1973-07-13         0   50  \n",
      "4     1975-07-31         0   48  \n",
      "...          ...       ...  ...  \n",
      "33956 1973-12-26         0   49  \n",
      "33957 1960-03-12         0   63  \n",
      "33958 1973-12-26         0   49  \n",
      "33959 1999-05-31         0   24  \n",
      "33960 1941-11-16         0   81  \n",
      "\n",
      "[33961 rows x 9 columns]\n"
     ]
    }
   ],
   "source": [
    "# Assuming 'dob' column contains date of birth in a valid date format\n",
    "filtered['dob'] = pd.to_datetime(filtered['dob'])\n",
    "\n",
    "# Calculate age based on the current date\n",
    "current_date = datetime.now()\n",
    "filtered.loc[:, 'age'] = (current_date - filtered['dob']).dt.days // 365  # Calculate age in years\n",
    "\n",
    "# 'age' column now contains the age of individuals as numeric values\n",
    "print(filtered)\n"
   ]
  },
  {
   "cell_type": "code",
   "execution_count": 23,
   "id": "5db031b8",
   "metadata": {},
   "outputs": [
    {
     "data": {
      "text/plain": [
       "count    33961.000000\n",
       "mean        51.074851\n",
       "std         17.049603\n",
       "min         22.000000\n",
       "25%         38.000000\n",
       "50%         49.000000\n",
       "75%         62.000000\n",
       "max         96.000000\n",
       "Name: age, dtype: float64"
      ]
     },
     "execution_count": 23,
     "metadata": {},
     "output_type": "execute_result"
    }
   ],
   "source": [
    "filtered['age'].describe()"
   ]
  },
  {
   "cell_type": "code",
   "execution_count": 24,
   "id": "7cd3e1fe",
   "metadata": {},
   "outputs": [
    {
     "data": {
      "text/html": [
       "<div>\n",
       "<style scoped>\n",
       "    .dataframe tbody tr th:only-of-type {\n",
       "        vertical-align: middle;\n",
       "    }\n",
       "\n",
       "    .dataframe tbody tr th {\n",
       "        vertical-align: top;\n",
       "    }\n",
       "\n",
       "    .dataframe thead th {\n",
       "        text-align: right;\n",
       "    }\n",
       "</style>\n",
       "<table border=\"1\" class=\"dataframe\">\n",
       "  <thead>\n",
       "    <tr style=\"text-align: right;\">\n",
       "      <th></th>\n",
       "      <th>merchant</th>\n",
       "      <th>category</th>\n",
       "      <th>job</th>\n",
       "      <th>age</th>\n",
       "      <th>state</th>\n",
       "      <th>city</th>\n",
       "      <th>amt</th>\n",
       "      <th>is_fraud</th>\n",
       "    </tr>\n",
       "  </thead>\n",
       "  <tbody>\n",
       "    <tr>\n",
       "      <th>0</th>\n",
       "      <td>Kilback, Nitzsche and Leffle</td>\n",
       "      <td>travel</td>\n",
       "      <td>Architect</td>\n",
       "      <td>70</td>\n",
       "      <td>MO</td>\n",
       "      <td>Mound City</td>\n",
       "      <td>5.69</td>\n",
       "      <td>0</td>\n",
       "    </tr>\n",
       "    <tr>\n",
       "      <th>1</th>\n",
       "      <td>Christiansen-Gusikowski</td>\n",
       "      <td>misc_pos</td>\n",
       "      <td>Tax inspector</td>\n",
       "      <td>34</td>\n",
       "      <td>MO</td>\n",
       "      <td>Rocky Mount</td>\n",
       "      <td>51.20</td>\n",
       "      <td>0</td>\n",
       "    </tr>\n",
       "    <tr>\n",
       "      <th>2</th>\n",
       "      <td>Gulgowski LLC</td>\n",
       "      <td>home</td>\n",
       "      <td>Occupational psychologist</td>\n",
       "      <td>69</td>\n",
       "      <td>CA</td>\n",
       "      <td>Tomales</td>\n",
       "      <td>225.07</td>\n",
       "      <td>0</td>\n",
       "    </tr>\n",
       "    <tr>\n",
       "      <th>3</th>\n",
       "      <td>Hudson-Ratke</td>\n",
       "      <td>grocery_pos</td>\n",
       "      <td>Product/process development scientist</td>\n",
       "      <td>50</td>\n",
       "      <td>WY</td>\n",
       "      <td>Lagrange</td>\n",
       "      <td>121.80</td>\n",
       "      <td>0</td>\n",
       "    </tr>\n",
       "    <tr>\n",
       "      <th>4</th>\n",
       "      <td>Hermann-Gaylo</td>\n",
       "      <td>misc_pos</td>\n",
       "      <td>Water engineer</td>\n",
       "      <td>48</td>\n",
       "      <td>CO</td>\n",
       "      <td>Littleton</td>\n",
       "      <td>140.93</td>\n",
       "      <td>0</td>\n",
       "    </tr>\n",
       "    <tr>\n",
       "      <th>...</th>\n",
       "      <td>...</td>\n",
       "      <td>...</td>\n",
       "      <td>...</td>\n",
       "      <td>...</td>\n",
       "      <td>...</td>\n",
       "      <td>...</td>\n",
       "      <td>...</td>\n",
       "      <td>...</td>\n",
       "    </tr>\n",
       "    <tr>\n",
       "      <th>33956</th>\n",
       "      <td>Gleason-Macejkovic</td>\n",
       "      <td>shopping_net</td>\n",
       "      <td>Engineer, automotive</td>\n",
       "      <td>49</td>\n",
       "      <td>NE</td>\n",
       "      <td>Hooper</td>\n",
       "      <td>1.67</td>\n",
       "      <td>0</td>\n",
       "    </tr>\n",
       "    <tr>\n",
       "      <th>33957</th>\n",
       "      <td>Bins, Balistreri and Beatty</td>\n",
       "      <td>shopping_pos</td>\n",
       "      <td>Occupational hygienist</td>\n",
       "      <td>63</td>\n",
       "      <td>MO</td>\n",
       "      <td>Saint Louis</td>\n",
       "      <td>9.08</td>\n",
       "      <td>0</td>\n",
       "    </tr>\n",
       "    <tr>\n",
       "      <th>33958</th>\n",
       "      <td>Kutch Group</td>\n",
       "      <td>grocery_net</td>\n",
       "      <td>Engineer, automotive</td>\n",
       "      <td>49</td>\n",
       "      <td>NE</td>\n",
       "      <td>Hooper</td>\n",
       "      <td>36.88</td>\n",
       "      <td>0</td>\n",
       "    </tr>\n",
       "    <tr>\n",
       "      <th>33959</th>\n",
       "      <td>Konopelski, Schneider and Hartmann</td>\n",
       "      <td>food_dining</td>\n",
       "      <td>Clothing/textile technologist</td>\n",
       "      <td>24</td>\n",
       "      <td>WA</td>\n",
       "      <td>Tekoa</td>\n",
       "      <td>12.83</td>\n",
       "      <td>0</td>\n",
       "    </tr>\n",
       "    <tr>\n",
       "      <th>33960</th>\n",
       "      <td>Rodriguez, Yost and Jenkins</td>\n",
       "      <td>misc_net</td>\n",
       "      <td>Materials engineer</td>\n",
       "      <td>81</td>\n",
       "      <td>WY</td>\n",
       "      <td>Yellowstone National Park</td>\n",
       "      <td>3.68</td>\n",
       "      <td>0</td>\n",
       "    </tr>\n",
       "  </tbody>\n",
       "</table>\n",
       "<p>33961 rows × 8 columns</p>\n",
       "</div>"
      ],
      "text/plain": [
       "                                 merchant      category  \\\n",
       "0            Kilback, Nitzsche and Leffle        travel   \n",
       "1                 Christiansen-Gusikowski      misc_pos   \n",
       "2                           Gulgowski LLC          home   \n",
       "3                            Hudson-Ratke   grocery_pos   \n",
       "4                           Hermann-Gaylo      misc_pos   \n",
       "...                                   ...           ...   \n",
       "33956                  Gleason-Macejkovic  shopping_net   \n",
       "33957         Bins, Balistreri and Beatty  shopping_pos   \n",
       "33958                         Kutch Group   grocery_net   \n",
       "33959  Konopelski, Schneider and Hartmann   food_dining   \n",
       "33960         Rodriguez, Yost and Jenkins      misc_net   \n",
       "\n",
       "                                         job  age state  \\\n",
       "0                                  Architect   70    MO   \n",
       "1                              Tax inspector   34    MO   \n",
       "2                  Occupational psychologist   69    CA   \n",
       "3      Product/process development scientist   50    WY   \n",
       "4                             Water engineer   48    CO   \n",
       "...                                      ...  ...   ...   \n",
       "33956                   Engineer, automotive   49    NE   \n",
       "33957                 Occupational hygienist   63    MO   \n",
       "33958                   Engineer, automotive   49    NE   \n",
       "33959          Clothing/textile technologist   24    WA   \n",
       "33960                     Materials engineer   81    WY   \n",
       "\n",
       "                            city     amt  is_fraud  \n",
       "0                     Mound City    5.69         0  \n",
       "1                    Rocky Mount   51.20         0  \n",
       "2                        Tomales  225.07         0  \n",
       "3                       Lagrange  121.80         0  \n",
       "4                      Littleton  140.93         0  \n",
       "...                          ...     ...       ...  \n",
       "33956                     Hooper    1.67         0  \n",
       "33957                Saint Louis    9.08         0  \n",
       "33958                     Hooper   36.88         0  \n",
       "33959                      Tekoa   12.83         0  \n",
       "33960  Yellowstone National Park    3.68         0  \n",
       "\n",
       "[33961 rows x 8 columns]"
      ]
     },
     "execution_count": 24,
     "metadata": {},
     "output_type": "execute_result"
    }
   ],
   "source": [
    "# List of columns we want to keep\n",
    "desired_columns = [  'merchant', 'category', 'job', 'age', 'state', 'city','amt', 'is_fraud']\n",
    "\n",
    "# Filter the DataFrame to keep only the desired columns\n",
    "filtered = filtered[desired_columns]\n",
    "\n",
    "# 'filtered_df' now contains only the specified columns, and the rest are removed\n",
    "filtered"
   ]
  },
  {
   "cell_type": "markdown",
   "id": "7c3e130c",
   "metadata": {},
   "source": [
    "### (2)  Encode categorical variables"
   ]
  },
  {
   "cell_type": "code",
   "execution_count": 25,
   "id": "34c87d1b",
   "metadata": {},
   "outputs": [
    {
     "data": {
      "text/html": [
       "<div>\n",
       "<style scoped>\n",
       "    .dataframe tbody tr th:only-of-type {\n",
       "        vertical-align: middle;\n",
       "    }\n",
       "\n",
       "    .dataframe tbody tr th {\n",
       "        vertical-align: top;\n",
       "    }\n",
       "\n",
       "    .dataframe thead th {\n",
       "        text-align: right;\n",
       "    }\n",
       "</style>\n",
       "<table border=\"1\" class=\"dataframe\">\n",
       "  <thead>\n",
       "    <tr style=\"text-align: right;\">\n",
       "      <th></th>\n",
       "      <th>merchant_0</th>\n",
       "      <th>merchant_1</th>\n",
       "      <th>merchant_2</th>\n",
       "      <th>merchant_3</th>\n",
       "      <th>merchant_4</th>\n",
       "      <th>merchant_5</th>\n",
       "      <th>merchant_6</th>\n",
       "      <th>merchant_7</th>\n",
       "      <th>merchant_8</th>\n",
       "      <th>merchant_9</th>\n",
       "      <th>...</th>\n",
       "      <th>city_0</th>\n",
       "      <th>city_1</th>\n",
       "      <th>city_2</th>\n",
       "      <th>city_3</th>\n",
       "      <th>city_4</th>\n",
       "      <th>city_5</th>\n",
       "      <th>city_6</th>\n",
       "      <th>city_7</th>\n",
       "      <th>amt</th>\n",
       "      <th>is_fraud</th>\n",
       "    </tr>\n",
       "  </thead>\n",
       "  <tbody>\n",
       "    <tr>\n",
       "      <th>0</th>\n",
       "      <td>0</td>\n",
       "      <td>0</td>\n",
       "      <td>0</td>\n",
       "      <td>0</td>\n",
       "      <td>0</td>\n",
       "      <td>0</td>\n",
       "      <td>0</td>\n",
       "      <td>0</td>\n",
       "      <td>0</td>\n",
       "      <td>1</td>\n",
       "      <td>...</td>\n",
       "      <td>0</td>\n",
       "      <td>0</td>\n",
       "      <td>0</td>\n",
       "      <td>0</td>\n",
       "      <td>0</td>\n",
       "      <td>0</td>\n",
       "      <td>0</td>\n",
       "      <td>1</td>\n",
       "      <td>5.69</td>\n",
       "      <td>0</td>\n",
       "    </tr>\n",
       "    <tr>\n",
       "      <th>1</th>\n",
       "      <td>0</td>\n",
       "      <td>0</td>\n",
       "      <td>0</td>\n",
       "      <td>0</td>\n",
       "      <td>0</td>\n",
       "      <td>0</td>\n",
       "      <td>0</td>\n",
       "      <td>0</td>\n",
       "      <td>1</td>\n",
       "      <td>0</td>\n",
       "      <td>...</td>\n",
       "      <td>0</td>\n",
       "      <td>0</td>\n",
       "      <td>0</td>\n",
       "      <td>0</td>\n",
       "      <td>0</td>\n",
       "      <td>0</td>\n",
       "      <td>1</td>\n",
       "      <td>0</td>\n",
       "      <td>51.20</td>\n",
       "      <td>0</td>\n",
       "    </tr>\n",
       "    <tr>\n",
       "      <th>2</th>\n",
       "      <td>0</td>\n",
       "      <td>0</td>\n",
       "      <td>0</td>\n",
       "      <td>0</td>\n",
       "      <td>0</td>\n",
       "      <td>0</td>\n",
       "      <td>0</td>\n",
       "      <td>0</td>\n",
       "      <td>1</td>\n",
       "      <td>1</td>\n",
       "      <td>...</td>\n",
       "      <td>0</td>\n",
       "      <td>0</td>\n",
       "      <td>0</td>\n",
       "      <td>0</td>\n",
       "      <td>0</td>\n",
       "      <td>0</td>\n",
       "      <td>1</td>\n",
       "      <td>1</td>\n",
       "      <td>225.07</td>\n",
       "      <td>0</td>\n",
       "    </tr>\n",
       "    <tr>\n",
       "      <th>3</th>\n",
       "      <td>0</td>\n",
       "      <td>0</td>\n",
       "      <td>0</td>\n",
       "      <td>0</td>\n",
       "      <td>0</td>\n",
       "      <td>0</td>\n",
       "      <td>0</td>\n",
       "      <td>1</td>\n",
       "      <td>0</td>\n",
       "      <td>0</td>\n",
       "      <td>...</td>\n",
       "      <td>0</td>\n",
       "      <td>0</td>\n",
       "      <td>0</td>\n",
       "      <td>0</td>\n",
       "      <td>0</td>\n",
       "      <td>1</td>\n",
       "      <td>0</td>\n",
       "      <td>0</td>\n",
       "      <td>121.80</td>\n",
       "      <td>0</td>\n",
       "    </tr>\n",
       "    <tr>\n",
       "      <th>4</th>\n",
       "      <td>0</td>\n",
       "      <td>0</td>\n",
       "      <td>0</td>\n",
       "      <td>0</td>\n",
       "      <td>0</td>\n",
       "      <td>0</td>\n",
       "      <td>0</td>\n",
       "      <td>1</td>\n",
       "      <td>0</td>\n",
       "      <td>1</td>\n",
       "      <td>...</td>\n",
       "      <td>0</td>\n",
       "      <td>0</td>\n",
       "      <td>0</td>\n",
       "      <td>0</td>\n",
       "      <td>0</td>\n",
       "      <td>1</td>\n",
       "      <td>0</td>\n",
       "      <td>1</td>\n",
       "      <td>140.93</td>\n",
       "      <td>0</td>\n",
       "    </tr>\n",
       "    <tr>\n",
       "      <th>...</th>\n",
       "      <td>...</td>\n",
       "      <td>...</td>\n",
       "      <td>...</td>\n",
       "      <td>...</td>\n",
       "      <td>...</td>\n",
       "      <td>...</td>\n",
       "      <td>...</td>\n",
       "      <td>...</td>\n",
       "      <td>...</td>\n",
       "      <td>...</td>\n",
       "      <td>...</td>\n",
       "      <td>...</td>\n",
       "      <td>...</td>\n",
       "      <td>...</td>\n",
       "      <td>...</td>\n",
       "      <td>...</td>\n",
       "      <td>...</td>\n",
       "      <td>...</td>\n",
       "      <td>...</td>\n",
       "      <td>...</td>\n",
       "      <td>...</td>\n",
       "    </tr>\n",
       "    <tr>\n",
       "      <th>33956</th>\n",
       "      <td>0</td>\n",
       "      <td>1</td>\n",
       "      <td>0</td>\n",
       "      <td>1</td>\n",
       "      <td>1</td>\n",
       "      <td>0</td>\n",
       "      <td>1</td>\n",
       "      <td>0</td>\n",
       "      <td>0</td>\n",
       "      <td>0</td>\n",
       "      <td>...</td>\n",
       "      <td>0</td>\n",
       "      <td>1</td>\n",
       "      <td>0</td>\n",
       "      <td>1</td>\n",
       "      <td>1</td>\n",
       "      <td>1</td>\n",
       "      <td>1</td>\n",
       "      <td>0</td>\n",
       "      <td>1.67</td>\n",
       "      <td>0</td>\n",
       "    </tr>\n",
       "    <tr>\n",
       "      <th>33957</th>\n",
       "      <td>0</td>\n",
       "      <td>0</td>\n",
       "      <td>0</td>\n",
       "      <td>0</td>\n",
       "      <td>1</td>\n",
       "      <td>1</td>\n",
       "      <td>1</td>\n",
       "      <td>1</td>\n",
       "      <td>0</td>\n",
       "      <td>1</td>\n",
       "      <td>...</td>\n",
       "      <td>0</td>\n",
       "      <td>0</td>\n",
       "      <td>0</td>\n",
       "      <td>1</td>\n",
       "      <td>1</td>\n",
       "      <td>1</td>\n",
       "      <td>1</td>\n",
       "      <td>0</td>\n",
       "      <td>9.08</td>\n",
       "      <td>0</td>\n",
       "    </tr>\n",
       "    <tr>\n",
       "      <th>33958</th>\n",
       "      <td>0</td>\n",
       "      <td>1</td>\n",
       "      <td>0</td>\n",
       "      <td>1</td>\n",
       "      <td>0</td>\n",
       "      <td>1</td>\n",
       "      <td>1</td>\n",
       "      <td>1</td>\n",
       "      <td>1</td>\n",
       "      <td>1</td>\n",
       "      <td>...</td>\n",
       "      <td>0</td>\n",
       "      <td>1</td>\n",
       "      <td>0</td>\n",
       "      <td>1</td>\n",
       "      <td>1</td>\n",
       "      <td>1</td>\n",
       "      <td>1</td>\n",
       "      <td>0</td>\n",
       "      <td>36.88</td>\n",
       "      <td>0</td>\n",
       "    </tr>\n",
       "    <tr>\n",
       "      <th>33959</th>\n",
       "      <td>0</td>\n",
       "      <td>0</td>\n",
       "      <td>1</td>\n",
       "      <td>0</td>\n",
       "      <td>1</td>\n",
       "      <td>0</td>\n",
       "      <td>0</td>\n",
       "      <td>1</td>\n",
       "      <td>0</td>\n",
       "      <td>1</td>\n",
       "      <td>...</td>\n",
       "      <td>0</td>\n",
       "      <td>1</td>\n",
       "      <td>0</td>\n",
       "      <td>1</td>\n",
       "      <td>0</td>\n",
       "      <td>1</td>\n",
       "      <td>1</td>\n",
       "      <td>0</td>\n",
       "      <td>12.83</td>\n",
       "      <td>0</td>\n",
       "    </tr>\n",
       "    <tr>\n",
       "      <th>33960</th>\n",
       "      <td>0</td>\n",
       "      <td>0</td>\n",
       "      <td>0</td>\n",
       "      <td>0</td>\n",
       "      <td>0</td>\n",
       "      <td>0</td>\n",
       "      <td>1</td>\n",
       "      <td>1</td>\n",
       "      <td>0</td>\n",
       "      <td>1</td>\n",
       "      <td>...</td>\n",
       "      <td>1</td>\n",
       "      <td>0</td>\n",
       "      <td>0</td>\n",
       "      <td>0</td>\n",
       "      <td>0</td>\n",
       "      <td>1</td>\n",
       "      <td>1</td>\n",
       "      <td>1</td>\n",
       "      <td>3.68</td>\n",
       "      <td>0</td>\n",
       "    </tr>\n",
       "  </tbody>\n",
       "</table>\n",
       "<p>33961 rows × 37 columns</p>\n",
       "</div>"
      ],
      "text/plain": [
       "       merchant_0  merchant_1  merchant_2  merchant_3  merchant_4  merchant_5  \\\n",
       "0               0           0           0           0           0           0   \n",
       "1               0           0           0           0           0           0   \n",
       "2               0           0           0           0           0           0   \n",
       "3               0           0           0           0           0           0   \n",
       "4               0           0           0           0           0           0   \n",
       "...           ...         ...         ...         ...         ...         ...   \n",
       "33956           0           1           0           1           1           0   \n",
       "33957           0           0           0           0           1           1   \n",
       "33958           0           1           0           1           0           1   \n",
       "33959           0           0           1           0           1           0   \n",
       "33960           0           0           0           0           0           0   \n",
       "\n",
       "       merchant_6  merchant_7  merchant_8  merchant_9  ...  city_0  city_1  \\\n",
       "0               0           0           0           1  ...       0       0   \n",
       "1               0           0           1           0  ...       0       0   \n",
       "2               0           0           1           1  ...       0       0   \n",
       "3               0           1           0           0  ...       0       0   \n",
       "4               0           1           0           1  ...       0       0   \n",
       "...           ...         ...         ...         ...  ...     ...     ...   \n",
       "33956           1           0           0           0  ...       0       1   \n",
       "33957           1           1           0           1  ...       0       0   \n",
       "33958           1           1           1           1  ...       0       1   \n",
       "33959           0           1           0           1  ...       0       1   \n",
       "33960           1           1           0           1  ...       1       0   \n",
       "\n",
       "       city_2  city_3  city_4  city_5  city_6  city_7     amt  is_fraud  \n",
       "0           0       0       0       0       0       1    5.69         0  \n",
       "1           0       0       0       0       1       0   51.20         0  \n",
       "2           0       0       0       0       1       1  225.07         0  \n",
       "3           0       0       0       1       0       0  121.80         0  \n",
       "4           0       0       0       1       0       1  140.93         0  \n",
       "...       ...     ...     ...     ...     ...     ...     ...       ...  \n",
       "33956       0       1       1       1       1       0    1.67         0  \n",
       "33957       0       1       1       1       1       0    9.08         0  \n",
       "33958       0       1       1       1       1       0   36.88         0  \n",
       "33959       0       1       0       1       1       0   12.83         0  \n",
       "33960       0       0       0       1       1       1    3.68         0  \n",
       "\n",
       "[33961 rows x 37 columns]"
      ]
     },
     "execution_count": 25,
     "metadata": {},
     "output_type": "execute_result"
    }
   ],
   "source": [
    "# Encode categorical variables (using binary encoding)\n",
    "\n",
    "categorical_columns = ['city', 'state', 'job', 'merchant', 'category']\n",
    "encoder = ce.BinaryEncoder(cols=categorical_columns)\n",
    "data = encoder.fit_transform(filtered)\n",
    "data"
   ]
  },
  {
   "cell_type": "code",
   "execution_count": 26,
   "id": "1f7172cc",
   "metadata": {},
   "outputs": [
    {
     "data": {
      "text/plain": [
       "merchant_0      int64\n",
       "merchant_1      int64\n",
       "merchant_2      int64\n",
       "merchant_3      int64\n",
       "merchant_4      int64\n",
       "merchant_5      int64\n",
       "merchant_6      int64\n",
       "merchant_7      int64\n",
       "merchant_8      int64\n",
       "merchant_9      int64\n",
       "category_0      int64\n",
       "category_1      int64\n",
       "category_2      int64\n",
       "category_3      int64\n",
       "job_0           int64\n",
       "job_1           int64\n",
       "job_2           int64\n",
       "job_3           int64\n",
       "job_4           int64\n",
       "job_5           int64\n",
       "job_6           int64\n",
       "job_7           int64\n",
       "age             int64\n",
       "state_0         int64\n",
       "state_1         int64\n",
       "state_2         int64\n",
       "state_3         int64\n",
       "city_0          int64\n",
       "city_1          int64\n",
       "city_2          int64\n",
       "city_3          int64\n",
       "city_4          int64\n",
       "city_5          int64\n",
       "city_6          int64\n",
       "city_7          int64\n",
       "amt           float64\n",
       "is_fraud        int64\n",
       "dtype: object"
      ]
     },
     "execution_count": 26,
     "metadata": {},
     "output_type": "execute_result"
    }
   ],
   "source": [
    "data.dtypes"
   ]
  },
  {
   "cell_type": "markdown",
   "id": "c96092f5",
   "metadata": {},
   "source": [
    "## Formatting data"
   ]
  },
  {
   "cell_type": "code",
   "execution_count": 27,
   "id": "6f1d2984",
   "metadata": {
    "scrolled": false
   },
   "outputs": [
    {
     "data": {
      "text/html": [
       "<div>\n",
       "<style scoped>\n",
       "    .dataframe tbody tr th:only-of-type {\n",
       "        vertical-align: middle;\n",
       "    }\n",
       "\n",
       "    .dataframe tbody tr th {\n",
       "        vertical-align: top;\n",
       "    }\n",
       "\n",
       "    .dataframe thead th {\n",
       "        text-align: right;\n",
       "    }\n",
       "</style>\n",
       "<table border=\"1\" class=\"dataframe\">\n",
       "  <thead>\n",
       "    <tr style=\"text-align: right;\">\n",
       "      <th></th>\n",
       "      <th>merchant_0</th>\n",
       "      <th>merchant_1</th>\n",
       "      <th>merchant_2</th>\n",
       "      <th>merchant_3</th>\n",
       "      <th>merchant_4</th>\n",
       "      <th>merchant_5</th>\n",
       "      <th>merchant_6</th>\n",
       "      <th>merchant_7</th>\n",
       "      <th>merchant_8</th>\n",
       "      <th>merchant_9</th>\n",
       "      <th>...</th>\n",
       "      <th>city_0</th>\n",
       "      <th>city_1</th>\n",
       "      <th>city_2</th>\n",
       "      <th>city_3</th>\n",
       "      <th>city_4</th>\n",
       "      <th>city_5</th>\n",
       "      <th>city_6</th>\n",
       "      <th>city_7</th>\n",
       "      <th>amount</th>\n",
       "      <th>is_fraud</th>\n",
       "    </tr>\n",
       "  </thead>\n",
       "  <tbody>\n",
       "    <tr>\n",
       "      <th>0</th>\n",
       "      <td>0</td>\n",
       "      <td>0</td>\n",
       "      <td>0</td>\n",
       "      <td>0</td>\n",
       "      <td>0</td>\n",
       "      <td>0</td>\n",
       "      <td>0</td>\n",
       "      <td>0</td>\n",
       "      <td>0</td>\n",
       "      <td>1</td>\n",
       "      <td>...</td>\n",
       "      <td>0</td>\n",
       "      <td>0</td>\n",
       "      <td>0</td>\n",
       "      <td>0</td>\n",
       "      <td>0</td>\n",
       "      <td>0</td>\n",
       "      <td>0</td>\n",
       "      <td>1</td>\n",
       "      <td>5.69</td>\n",
       "      <td>0</td>\n",
       "    </tr>\n",
       "    <tr>\n",
       "      <th>1</th>\n",
       "      <td>0</td>\n",
       "      <td>0</td>\n",
       "      <td>0</td>\n",
       "      <td>0</td>\n",
       "      <td>0</td>\n",
       "      <td>0</td>\n",
       "      <td>0</td>\n",
       "      <td>0</td>\n",
       "      <td>1</td>\n",
       "      <td>0</td>\n",
       "      <td>...</td>\n",
       "      <td>0</td>\n",
       "      <td>0</td>\n",
       "      <td>0</td>\n",
       "      <td>0</td>\n",
       "      <td>0</td>\n",
       "      <td>0</td>\n",
       "      <td>1</td>\n",
       "      <td>0</td>\n",
       "      <td>51.20</td>\n",
       "      <td>0</td>\n",
       "    </tr>\n",
       "    <tr>\n",
       "      <th>2</th>\n",
       "      <td>0</td>\n",
       "      <td>0</td>\n",
       "      <td>0</td>\n",
       "      <td>0</td>\n",
       "      <td>0</td>\n",
       "      <td>0</td>\n",
       "      <td>0</td>\n",
       "      <td>0</td>\n",
       "      <td>1</td>\n",
       "      <td>1</td>\n",
       "      <td>...</td>\n",
       "      <td>0</td>\n",
       "      <td>0</td>\n",
       "      <td>0</td>\n",
       "      <td>0</td>\n",
       "      <td>0</td>\n",
       "      <td>0</td>\n",
       "      <td>1</td>\n",
       "      <td>1</td>\n",
       "      <td>225.07</td>\n",
       "      <td>0</td>\n",
       "    </tr>\n",
       "    <tr>\n",
       "      <th>3</th>\n",
       "      <td>0</td>\n",
       "      <td>0</td>\n",
       "      <td>0</td>\n",
       "      <td>0</td>\n",
       "      <td>0</td>\n",
       "      <td>0</td>\n",
       "      <td>0</td>\n",
       "      <td>1</td>\n",
       "      <td>0</td>\n",
       "      <td>0</td>\n",
       "      <td>...</td>\n",
       "      <td>0</td>\n",
       "      <td>0</td>\n",
       "      <td>0</td>\n",
       "      <td>0</td>\n",
       "      <td>0</td>\n",
       "      <td>1</td>\n",
       "      <td>0</td>\n",
       "      <td>0</td>\n",
       "      <td>121.80</td>\n",
       "      <td>0</td>\n",
       "    </tr>\n",
       "    <tr>\n",
       "      <th>4</th>\n",
       "      <td>0</td>\n",
       "      <td>0</td>\n",
       "      <td>0</td>\n",
       "      <td>0</td>\n",
       "      <td>0</td>\n",
       "      <td>0</td>\n",
       "      <td>0</td>\n",
       "      <td>1</td>\n",
       "      <td>0</td>\n",
       "      <td>1</td>\n",
       "      <td>...</td>\n",
       "      <td>0</td>\n",
       "      <td>0</td>\n",
       "      <td>0</td>\n",
       "      <td>0</td>\n",
       "      <td>0</td>\n",
       "      <td>1</td>\n",
       "      <td>0</td>\n",
       "      <td>1</td>\n",
       "      <td>140.93</td>\n",
       "      <td>0</td>\n",
       "    </tr>\n",
       "    <tr>\n",
       "      <th>...</th>\n",
       "      <td>...</td>\n",
       "      <td>...</td>\n",
       "      <td>...</td>\n",
       "      <td>...</td>\n",
       "      <td>...</td>\n",
       "      <td>...</td>\n",
       "      <td>...</td>\n",
       "      <td>...</td>\n",
       "      <td>...</td>\n",
       "      <td>...</td>\n",
       "      <td>...</td>\n",
       "      <td>...</td>\n",
       "      <td>...</td>\n",
       "      <td>...</td>\n",
       "      <td>...</td>\n",
       "      <td>...</td>\n",
       "      <td>...</td>\n",
       "      <td>...</td>\n",
       "      <td>...</td>\n",
       "      <td>...</td>\n",
       "      <td>...</td>\n",
       "    </tr>\n",
       "    <tr>\n",
       "      <th>33956</th>\n",
       "      <td>0</td>\n",
       "      <td>1</td>\n",
       "      <td>0</td>\n",
       "      <td>1</td>\n",
       "      <td>1</td>\n",
       "      <td>0</td>\n",
       "      <td>1</td>\n",
       "      <td>0</td>\n",
       "      <td>0</td>\n",
       "      <td>0</td>\n",
       "      <td>...</td>\n",
       "      <td>0</td>\n",
       "      <td>1</td>\n",
       "      <td>0</td>\n",
       "      <td>1</td>\n",
       "      <td>1</td>\n",
       "      <td>1</td>\n",
       "      <td>1</td>\n",
       "      <td>0</td>\n",
       "      <td>1.67</td>\n",
       "      <td>0</td>\n",
       "    </tr>\n",
       "    <tr>\n",
       "      <th>33957</th>\n",
       "      <td>0</td>\n",
       "      <td>0</td>\n",
       "      <td>0</td>\n",
       "      <td>0</td>\n",
       "      <td>1</td>\n",
       "      <td>1</td>\n",
       "      <td>1</td>\n",
       "      <td>1</td>\n",
       "      <td>0</td>\n",
       "      <td>1</td>\n",
       "      <td>...</td>\n",
       "      <td>0</td>\n",
       "      <td>0</td>\n",
       "      <td>0</td>\n",
       "      <td>1</td>\n",
       "      <td>1</td>\n",
       "      <td>1</td>\n",
       "      <td>1</td>\n",
       "      <td>0</td>\n",
       "      <td>9.08</td>\n",
       "      <td>0</td>\n",
       "    </tr>\n",
       "    <tr>\n",
       "      <th>33958</th>\n",
       "      <td>0</td>\n",
       "      <td>1</td>\n",
       "      <td>0</td>\n",
       "      <td>1</td>\n",
       "      <td>0</td>\n",
       "      <td>1</td>\n",
       "      <td>1</td>\n",
       "      <td>1</td>\n",
       "      <td>1</td>\n",
       "      <td>1</td>\n",
       "      <td>...</td>\n",
       "      <td>0</td>\n",
       "      <td>1</td>\n",
       "      <td>0</td>\n",
       "      <td>1</td>\n",
       "      <td>1</td>\n",
       "      <td>1</td>\n",
       "      <td>1</td>\n",
       "      <td>0</td>\n",
       "      <td>36.88</td>\n",
       "      <td>0</td>\n",
       "    </tr>\n",
       "    <tr>\n",
       "      <th>33959</th>\n",
       "      <td>0</td>\n",
       "      <td>0</td>\n",
       "      <td>1</td>\n",
       "      <td>0</td>\n",
       "      <td>1</td>\n",
       "      <td>0</td>\n",
       "      <td>0</td>\n",
       "      <td>1</td>\n",
       "      <td>0</td>\n",
       "      <td>1</td>\n",
       "      <td>...</td>\n",
       "      <td>0</td>\n",
       "      <td>1</td>\n",
       "      <td>0</td>\n",
       "      <td>1</td>\n",
       "      <td>0</td>\n",
       "      <td>1</td>\n",
       "      <td>1</td>\n",
       "      <td>0</td>\n",
       "      <td>12.83</td>\n",
       "      <td>0</td>\n",
       "    </tr>\n",
       "    <tr>\n",
       "      <th>33960</th>\n",
       "      <td>0</td>\n",
       "      <td>0</td>\n",
       "      <td>0</td>\n",
       "      <td>0</td>\n",
       "      <td>0</td>\n",
       "      <td>0</td>\n",
       "      <td>1</td>\n",
       "      <td>1</td>\n",
       "      <td>0</td>\n",
       "      <td>1</td>\n",
       "      <td>...</td>\n",
       "      <td>1</td>\n",
       "      <td>0</td>\n",
       "      <td>0</td>\n",
       "      <td>0</td>\n",
       "      <td>0</td>\n",
       "      <td>1</td>\n",
       "      <td>1</td>\n",
       "      <td>1</td>\n",
       "      <td>3.68</td>\n",
       "      <td>0</td>\n",
       "    </tr>\n",
       "  </tbody>\n",
       "</table>\n",
       "<p>33961 rows × 37 columns</p>\n",
       "</div>"
      ],
      "text/plain": [
       "       merchant_0  merchant_1  merchant_2  merchant_3  merchant_4  merchant_5  \\\n",
       "0               0           0           0           0           0           0   \n",
       "1               0           0           0           0           0           0   \n",
       "2               0           0           0           0           0           0   \n",
       "3               0           0           0           0           0           0   \n",
       "4               0           0           0           0           0           0   \n",
       "...           ...         ...         ...         ...         ...         ...   \n",
       "33956           0           1           0           1           1           0   \n",
       "33957           0           0           0           0           1           1   \n",
       "33958           0           1           0           1           0           1   \n",
       "33959           0           0           1           0           1           0   \n",
       "33960           0           0           0           0           0           0   \n",
       "\n",
       "       merchant_6  merchant_7  merchant_8  merchant_9  ...  city_0  city_1  \\\n",
       "0               0           0           0           1  ...       0       0   \n",
       "1               0           0           1           0  ...       0       0   \n",
       "2               0           0           1           1  ...       0       0   \n",
       "3               0           1           0           0  ...       0       0   \n",
       "4               0           1           0           1  ...       0       0   \n",
       "...           ...         ...         ...         ...  ...     ...     ...   \n",
       "33956           1           0           0           0  ...       0       1   \n",
       "33957           1           1           0           1  ...       0       0   \n",
       "33958           1           1           1           1  ...       0       1   \n",
       "33959           0           1           0           1  ...       0       1   \n",
       "33960           1           1           0           1  ...       1       0   \n",
       "\n",
       "       city_2  city_3  city_4  city_5  city_6  city_7  amount  is_fraud  \n",
       "0           0       0       0       0       0       1    5.69         0  \n",
       "1           0       0       0       0       1       0   51.20         0  \n",
       "2           0       0       0       0       1       1  225.07         0  \n",
       "3           0       0       0       1       0       0  121.80         0  \n",
       "4           0       0       0       1       0       1  140.93         0  \n",
       "...       ...     ...     ...     ...     ...     ...     ...       ...  \n",
       "33956       0       1       1       1       1       0    1.67         0  \n",
       "33957       0       1       1       1       1       0    9.08         0  \n",
       "33958       0       1       1       1       1       0   36.88         0  \n",
       "33959       0       1       0       1       1       0   12.83         0  \n",
       "33960       0       0       0       1       1       1    3.68         0  \n",
       "\n",
       "[33961 rows x 37 columns]"
      ]
     },
     "execution_count": 27,
     "metadata": {},
     "output_type": "execute_result"
    }
   ],
   "source": [
    "# Create a dictionary with the mapping of old column names to new column names\n",
    "column_mapping = {'amt': 'amount'}\n",
    "\n",
    "# Use the 'rename()' method to rename the columns\n",
    "data.rename(columns=column_mapping, inplace=True)\n",
    "\n",
    "# 'data' now has the columns with the new names\n",
    "data"
   ]
  },
  {
   "cell_type": "code",
   "execution_count": 28,
   "id": "a05b9aa3",
   "metadata": {},
   "outputs": [],
   "source": [
    "#Save to a csv\n",
    "#data.to_csv(\"cleaned_dataset.csv\",index=False)"
   ]
  },
  {
   "cell_type": "markdown",
   "id": "741ef13f",
   "metadata": {},
   "source": [
    "## Feature Selection"
   ]
  },
  {
   "cell_type": "code",
   "execution_count": 29,
   "id": "aea3f337",
   "metadata": {},
   "outputs": [],
   "source": [
    "X = data.drop(columns=['is_fraud']) #feature variables\n",
    "y = data['is_fraud'] #target variables\n"
   ]
  },
  {
   "cell_type": "markdown",
   "id": "186e069a",
   "metadata": {},
   "source": [
    "## Handling Class Imbalance (using oversampling)"
   ]
  },
  {
   "cell_type": "code",
   "execution_count": 30,
   "id": "df47dfa7",
   "metadata": {},
   "outputs": [],
   "source": [
    "#from imblearn.over_sampling import RandomOverSampler\n",
    "\n",
    "#oversampler = RandomOverSampler(sampling_strategy='minority')\n",
    "#X_resampled, y_resampled = oversampler.fit_resample(X, y)\n"
   ]
  },
  {
   "cell_type": "code",
   "execution_count": 162,
   "id": "efb3ce3d",
   "metadata": {
    "scrolled": true
   },
   "outputs": [
    {
     "data": {
      "image/png": "[encoded data removed]",
      "text/plain": [
       "<Figure size 600x400 with 1 Axes>"
      ]
     },
     "metadata": {},
     "output_type": "display_data"
    }
   ],
   "source": [
    "from imblearn.over_sampling import SMOTE\n",
    "import numpy as np\n",
    "import matplotlib.pyplot as plt\n",
    "\n",
    "# Create an instance of the SMOTE class for oversampling\n",
    "smote = SMOTE(sampling_strategy=0.1, random_state=42)\n",
    "\n",
    "# Oversample the training data using SMOTE\n",
    "X_sm, y_sm = smote.fit_resample(X, y)\n",
    "\n",
    "# Count the number of samples in each class after oversampling\n",
    "unique, counts = np.unique(y_sm, return_counts=True)\n",
    "\n",
    "# Plot the class distribution after SMOTE\n",
    "plt.bar(unique, counts)\n",
    "plt.xlabel('Class')\n",
    "plt.ylabel('Count')\n",
    "plt.title('Class Distribution After SMOTE')\n",
    "plt.show()\n"
   ]
  },
  {
   "cell_type": "markdown",
   "id": "0bf8c114",
   "metadata": {},
   "source": [
    "# IMPLEMENTATION OF THE MODELS"
   ]
  },
  {
   "cell_type": "markdown",
   "id": "e9f1b556",
   "metadata": {},
   "source": [
    "## Train-Test Split "
   ]
  },
  {
   "cell_type": "code",
   "execution_count": 163,
   "id": "fcb78fde",
   "metadata": {},
   "outputs": [],
   "source": [
    "from sklearn.model_selection import train_test_split\n",
    "\n",
    "X_train_resampled, X_test, y_train_resampled, y_test = train_test_split(X_sm, y_sm, test_size=0.2, random_state=42)"
   ]
  },
  {
   "cell_type": "markdown",
   "id": "d9198f9a",
   "metadata": {},
   "source": [
    "## 1. Random Forest Model"
   ]
  },
  {
   "cell_type": "code",
   "execution_count": 164,
   "id": "ae5500f5",
   "metadata": {},
   "outputs": [],
   "source": [
    "#Model Instantiation Without Tuning Any Parameters\n",
    "from sklearn.ensemble import RandomForestClassifier\n",
    "from sklearn.metrics import accuracy_score\n",
    "from sklearn.model_selection import GridSearchCV\n",
    "from sklearn.metrics import confusion_matrix\n",
    "from sklearn.metrics import f1_score\n",
    "from sklearn.metrics import classification_report,roc_curve,auc\n",
    "import matplotlib.pyplot as plt"
   ]
  },
  {
   "cell_type": "markdown",
   "id": "dbe279ec",
   "metadata": {},
   "source": [
    "### No parameter tuning"
   ]
  },
  {
   "cell_type": "code",
   "execution_count": 165,
   "id": "aada6620",
   "metadata": {},
   "outputs": [],
   "source": [
    "# Create a Random Forest classifier with default parameters\n",
    "rf_classifier = RandomForestClassifier(random_state=42)"
   ]
  },
  {
   "cell_type": "code",
   "execution_count": 166,
   "id": "20a604df",
   "metadata": {},
   "outputs": [
    {
     "data": {
      "text/html": [
       "<style>#sk-container-id-12 {color: black;}#sk-container-id-12 pre{padding: 0;}#sk-container-id-12 div.sk-toggleable {background-color: white;}#sk-container-id-12 label.sk-toggleable__label {cursor: pointer;display: block;width: 100%;margin-bottom: 0;padding: 0.3em;box-sizing: border-box;text-align: center;}#sk-container-id-12 label.sk-toggleable__label-arrow:before {content: \"▸\";float: left;margin-right: 0.25em;color: #696969;}#sk-container-id-12 label.sk-toggleable__label-arrow:hover:before {color: black;}#sk-container-id-12 div.sk-estimator:hover label.sk-toggleable__label-arrow:before {color: black;}#sk-container-id-12 div.sk-toggleable__content {max-height: 0;max-width: 0;overflow: hidden;text-align: left;background-color: #f0f8ff;}#sk-container-id-12 div.sk-toggleable__content pre {margin: 0.2em;color: black;border-radius: 0.25em;background-color: #f0f8ff;}#sk-container-id-12 input.sk-toggleable__control:checked~div.sk-toggleable__content {max-height: 200px;max-width: 100%;overflow: auto;}#sk-container-id-12 input.sk-toggleable__control:checked~label.sk-toggleable__label-arrow:before {content: \"▾\";}#sk-container-id-12 div.sk-estimator input.sk-toggleable__control:checked~label.sk-toggleable__label {background-color: #d4ebff;}#sk-container-id-12 div.sk-label input.sk-toggleable__control:checked~label.sk-toggleable__label {background-color: #d4ebff;}#sk-container-id-12 input.sk-hidden--visually {border: 0;clip: rect(1px 1px 1px 1px);clip: rect(1px, 1px, 1px, 1px);height: 1px;margin: -1px;overflow: hidden;padding: 0;position: absolute;width: 1px;}#sk-container-id-12 div.sk-estimator {font-family: monospace;background-color: #f0f8ff;border: 1px dotted black;border-radius: 0.25em;box-sizing: border-box;margin-bottom: 0.5em;}#sk-container-id-12 div.sk-estimator:hover {background-color: #d4ebff;}#sk-container-id-12 div.sk-parallel-item::after {content: \"\";width: 100%;border-bottom: 1px solid gray;flex-grow: 1;}#sk-container-id-12 div.sk-label:hover label.sk-toggleable__label {background-color: #d4ebff;}#sk-container-id-12 div.sk-serial::before {content: \"\";position: absolute;border-left: 1px solid gray;box-sizing: border-box;top: 0;bottom: 0;left: 50%;z-index: 0;}#sk-container-id-12 div.sk-serial {display: flex;flex-direction: column;align-items: center;background-color: white;padding-right: 0.2em;padding-left: 0.2em;position: relative;}#sk-container-id-12 div.sk-item {position: relative;z-index: 1;}#sk-container-id-12 div.sk-parallel {display: flex;align-items: stretch;justify-content: center;background-color: white;position: relative;}#sk-container-id-12 div.sk-item::before, #sk-container-id-12 div.sk-parallel-item::before {content: \"\";position: absolute;border-left: 1px solid gray;box-sizing: border-box;top: 0;bottom: 0;left: 50%;z-index: -1;}#sk-container-id-12 div.sk-parallel-item {display: flex;flex-direction: column;z-index: 1;position: relative;background-color: white;}#sk-container-id-12 div.sk-parallel-item:first-child::after {align-self: flex-end;width: 50%;}#sk-container-id-12 div.sk-parallel-item:last-child::after {align-self: flex-start;width: 50%;}#sk-container-id-12 div.sk-parallel-item:only-child::after {width: 0;}#sk-container-id-12 div.sk-dashed-wrapped {border: 1px dashed gray;margin: 0 0.4em 0.5em 0.4em;box-sizing: border-box;padding-bottom: 0.4em;background-color: white;}#sk-container-id-12 div.sk-label label {font-family: monospace;font-weight: bold;display: inline-block;line-height: 1.2em;}#sk-container-id-12 div.sk-label-container {text-align: center;}#sk-container-id-12 div.sk-container {/* jupyter's `normalize.less` sets `[hidden] { display: none; }` but bootstrap.min.css set `[hidden] { display: none !important; }` so we also need the `!important` here to be able to override the default hidden behavior on the sphinx rendered scikit-learn.org. See: https://github.com/scikit-learn/scikit-learn/issues/21755 */display: inline-block !important;position: relative;}#sk-container-id-12 div.sk-text-repr-fallback {display: none;}</style><div id=\"sk-container-id-12\" class=\"sk-top-container\"><div class=\"sk-text-repr-fallback\"><pre>RandomForestClassifier(random_state=42)</pre><b>In a Jupyter environment, please rerun this cell to show the HTML representation or trust the notebook. <br />On GitHub, the HTML representation is unable to render, please try loading this page with nbviewer.org.</b></div><div class=\"sk-container\" hidden><div class=\"sk-item\"><div class=\"sk-estimator sk-toggleable\"><input class=\"sk-toggleable__control sk-hidden--visually\" id=\"sk-estimator-id-14\" type=\"checkbox\" checked><label for=\"sk-estimator-id-14\" class=\"sk-toggleable__label sk-toggleable__label-arrow\">RandomForestClassifier</label><div class=\"sk-toggleable__content\"><pre>RandomForestClassifier(random_state=42)</pre></div></div></div></div></div>"
      ],
      "text/plain": [
       "RandomForestClassifier(random_state=42)"
      ]
     },
     "execution_count": 166,
     "metadata": {},
     "output_type": "execute_result"
    }
   ],
   "source": [
    "#Model Training\n",
    "rf_classifier.fit(X_train_resampled, y_train_resampled)"
   ]
  },
  {
   "cell_type": "code",
   "execution_count": 167,
   "id": "141ce268",
   "metadata": {},
   "outputs": [],
   "source": [
    "#Model Evaluation (Overfitting Check)\n",
    "# Predict on training and testing sets\n",
    "y_train_pred = rf_classifier.predict(X_train_resampled)\n",
    "y_test_pred = rf_classifier.predict(X_test)"
   ]
  },
  {
   "cell_type": "code",
   "execution_count": 168,
   "id": "2f35ffd2",
   "metadata": {},
   "outputs": [
    {
     "name": "stdout",
     "output_type": "stream",
     "text": [
      "Training Accuracy: 1.00\n",
      "Testing Accuracy: 1.00\n"
     ]
    }
   ],
   "source": [
    "# Calculate accuracy on training and testing sets\n",
    "train_accuracy = accuracy_score(y_train_resampled, y_train_pred)\n",
    "test_accuracy = accuracy_score(y_test, y_test_pred)\n",
    "\n",
    "print(f'Training Accuracy: {train_accuracy:.2f}')\n",
    "print(f'Testing Accuracy: {test_accuracy:.2f}')"
   ]
  },
  {
   "cell_type": "code",
   "execution_count": 169,
   "id": "0aad0ccb",
   "metadata": {},
   "outputs": [
    {
     "data": {
      "image/png": "[encoded data removed]",
      "text/plain": [
       "<Figure size 600x400 with 2 Axes>"
      ]
     },
     "metadata": {},
     "output_type": "display_data"
    }
   ],
   "source": [
    "import seaborn as sns\n",
    "from sklearn.metrics import confusion_matrix\n",
    "\n",
    "# Calculate the confusion matrix using the true labels (y_test) and predicted labels\n",
    "cm = confusion_matrix(y_test, y_test_pred)\n",
    "\n",
    "# Create a heatmap of the confusion matrix\n",
    "sns.heatmap(cm, annot=True, fmt=\"g\")\n",
    "plt.rcParams['figure.figsize'] = (6, 4) \n",
    "plt.xlabel(\"Predicted\")\n",
    "plt.ylabel('Actual')\n",
    "plt.title('Confusion Matrix')\n",
    "plt.show()\n"
   ]
  },
  {
   "cell_type": "code",
   "execution_count": 170,
   "id": "5d64f58b",
   "metadata": {},
   "outputs": [
    {
     "name": "stdout",
     "output_type": "stream",
     "text": [
      "              precision    recall  f1-score   support\n",
      "\n",
      "           0       1.00      1.00      1.00      6778\n",
      "           1       1.00      0.96      0.98       656\n",
      "\n",
      "    accuracy                           1.00      7434\n",
      "   macro avg       1.00      0.98      0.99      7434\n",
      "weighted avg       1.00      1.00      1.00      7434\n",
      "\n"
     ]
    }
   ],
   "source": [
    "print(classification_report(y_test,y_test_pred))"
   ]
  },
  {
   "cell_type": "markdown",
   "id": "0dfed45d",
   "metadata": {},
   "source": [
    "## Hyperparameter Tuning "
   ]
  },
  {
   "cell_type": "code",
   "execution_count": 171,
   "id": "f1c25629",
   "metadata": {},
   "outputs": [],
   "source": [
    "# Define a grid of hyperparameters to search\n",
    "param_grid_rf = {\n",
    "    'n_estimators': [50, 100, 200],\n",
    "    'max_depth': [None, 10, 20],\n",
    "    'min_samples_split': [2, 5, 10],\n",
    "    'min_samples_leaf': [1, 2, 4],\n",
    "    'max_features': ['sqrt', 'log2'],\n",
    "    'class_weight': ['balanced', 'balanced_subsample', None]\n",
    "}"
   ]
  },
  {
   "cell_type": "code",
   "execution_count": 173,
   "id": "3eb2fbd5",
   "metadata": {},
   "outputs": [],
   "source": [
    "# Create a GridSearchCV object\n",
    "grid_search = GridSearchCV(estimator=rf_classifier, param_grid=param_grid_rf,scoring='accuracy', cv=5, n_jobs=-1)\n"
   ]
  },
  {
   "cell_type": "code",
   "execution_count": 59,
   "id": "f98d992c",
   "metadata": {},
   "outputs": [
    {
     "ename": "KeyboardInterrupt",
     "evalue": "",
     "output_type": "error",
     "traceback": [
      "\u001b[1;31m---------------------------------------------------------------------------\u001b[0m",
      "\u001b[1;31mKeyboardInterrupt\u001b[0m                         Traceback (most recent call last)",
      "File \u001b[1;32m~\\anaconda3\\Lib\\site-packages\\joblib\\parallel.py:975\u001b[0m, in \u001b[0;36mParallel.retrieve\u001b[1;34m(self)\u001b[0m\n\u001b[0;32m    974\u001b[0m \u001b[38;5;28;01mif\u001b[39;00m \u001b[38;5;28mgetattr\u001b[39m(\u001b[38;5;28mself\u001b[39m\u001b[38;5;241m.\u001b[39m_backend, \u001b[38;5;124m'\u001b[39m\u001b[38;5;124msupports_timeout\u001b[39m\u001b[38;5;124m'\u001b[39m, \u001b[38;5;28;01mFalse\u001b[39;00m):\n\u001b[1;32m--> 975\u001b[0m     \u001b[38;5;28mself\u001b[39m\u001b[38;5;241m.\u001b[39m_output\u001b[38;5;241m.\u001b[39mextend(job\u001b[38;5;241m.\u001b[39mget(timeout\u001b[38;5;241m=\u001b[39m\u001b[38;5;28mself\u001b[39m\u001b[38;5;241m.\u001b[39mtimeout))\n\u001b[0;32m    976\u001b[0m \u001b[38;5;28;01melse\u001b[39;00m:\n",
      "File \u001b[1;32m~\\anaconda3\\Lib\\site-packages\\joblib\\_parallel_backends.py:567\u001b[0m, in \u001b[0;36mLokyBackend.wrap_future_result\u001b[1;34m(future, timeout)\u001b[0m\n\u001b[0;32m    566\u001b[0m \u001b[38;5;28;01mtry\u001b[39;00m:\n\u001b[1;32m--> 567\u001b[0m     \u001b[38;5;28;01mreturn\u001b[39;00m future\u001b[38;5;241m.\u001b[39mresult(timeout\u001b[38;5;241m=\u001b[39mtimeout)\n\u001b[0;32m    568\u001b[0m \u001b[38;5;28;01mexcept\u001b[39;00m CfTimeoutError \u001b[38;5;28;01mas\u001b[39;00m e:\n",
      "File \u001b[1;32m~\\anaconda3\\Lib\\concurrent\\futures\\_base.py:451\u001b[0m, in \u001b[0;36mFuture.result\u001b[1;34m(self, timeout)\u001b[0m\n\u001b[0;32m    449\u001b[0m     \u001b[38;5;28;01mreturn\u001b[39;00m \u001b[38;5;28mself\u001b[39m\u001b[38;5;241m.\u001b[39m__get_result()\n\u001b[1;32m--> 451\u001b[0m \u001b[38;5;28mself\u001b[39m\u001b[38;5;241m.\u001b[39m_condition\u001b[38;5;241m.\u001b[39mwait(timeout)\n\u001b[0;32m    453\u001b[0m \u001b[38;5;28;01mif\u001b[39;00m \u001b[38;5;28mself\u001b[39m\u001b[38;5;241m.\u001b[39m_state \u001b[38;5;129;01min\u001b[39;00m [CANCELLED, CANCELLED_AND_NOTIFIED]:\n",
      "File \u001b[1;32m~\\anaconda3\\Lib\\threading.py:320\u001b[0m, in \u001b[0;36mCondition.wait\u001b[1;34m(self, timeout)\u001b[0m\n\u001b[0;32m    319\u001b[0m \u001b[38;5;28;01mif\u001b[39;00m timeout \u001b[38;5;129;01mis\u001b[39;00m \u001b[38;5;28;01mNone\u001b[39;00m:\n\u001b[1;32m--> 320\u001b[0m     waiter\u001b[38;5;241m.\u001b[39macquire()\n\u001b[0;32m    321\u001b[0m     gotit \u001b[38;5;241m=\u001b[39m \u001b[38;5;28;01mTrue\u001b[39;00m\n",
      "\u001b[1;31mKeyboardInterrupt\u001b[0m: ",
      "\nDuring handling of the above exception, another exception occurred:\n",
      "\u001b[1;31mKeyboardInterrupt\u001b[0m                         Traceback (most recent call last)",
      "Cell \u001b[1;32mIn[59], line 2\u001b[0m\n\u001b[0;32m      1\u001b[0m \u001b[38;5;66;03m# Perform grid search to find the best hyperparameters\u001b[39;00m\n\u001b[1;32m----> 2\u001b[0m grid_search\u001b[38;5;241m.\u001b[39mfit(X_train_resampled, y_train_resampled)\n",
      "File \u001b[1;32m~\\anaconda3\\Lib\\site-packages\\sklearn\\base.py:1152\u001b[0m, in \u001b[0;36m_fit_context.<locals>.decorator.<locals>.wrapper\u001b[1;34m(estimator, *args, **kwargs)\u001b[0m\n\u001b[0;32m   1145\u001b[0m     estimator\u001b[38;5;241m.\u001b[39m_validate_params()\n\u001b[0;32m   1147\u001b[0m \u001b[38;5;28;01mwith\u001b[39;00m config_context(\n\u001b[0;32m   1148\u001b[0m     skip_parameter_validation\u001b[38;5;241m=\u001b[39m(\n\u001b[0;32m   1149\u001b[0m         prefer_skip_nested_validation \u001b[38;5;129;01mor\u001b[39;00m global_skip_validation\n\u001b[0;32m   1150\u001b[0m     )\n\u001b[0;32m   1151\u001b[0m ):\n\u001b[1;32m-> 1152\u001b[0m     \u001b[38;5;28;01mreturn\u001b[39;00m fit_method(estimator, \u001b[38;5;241m*\u001b[39margs, \u001b[38;5;241m*\u001b[39m\u001b[38;5;241m*\u001b[39mkwargs)\n",
      "File \u001b[1;32m~\\anaconda3\\Lib\\site-packages\\sklearn\\model_selection\\_search.py:898\u001b[0m, in \u001b[0;36mBaseSearchCV.fit\u001b[1;34m(self, X, y, groups, **fit_params)\u001b[0m\n\u001b[0;32m    892\u001b[0m     results \u001b[38;5;241m=\u001b[39m \u001b[38;5;28mself\u001b[39m\u001b[38;5;241m.\u001b[39m_format_results(\n\u001b[0;32m    893\u001b[0m         all_candidate_params, n_splits, all_out, all_more_results\n\u001b[0;32m    894\u001b[0m     )\n\u001b[0;32m    896\u001b[0m     \u001b[38;5;28;01mreturn\u001b[39;00m results\n\u001b[1;32m--> 898\u001b[0m \u001b[38;5;28mself\u001b[39m\u001b[38;5;241m.\u001b[39m_run_search(evaluate_candidates)\n\u001b[0;32m    900\u001b[0m \u001b[38;5;66;03m# multimetric is determined here because in the case of a callable\u001b[39;00m\n\u001b[0;32m    901\u001b[0m \u001b[38;5;66;03m# self.scoring the return type is only known after calling\u001b[39;00m\n\u001b[0;32m    902\u001b[0m first_test_score \u001b[38;5;241m=\u001b[39m all_out[\u001b[38;5;241m0\u001b[39m][\u001b[38;5;124m\"\u001b[39m\u001b[38;5;124mtest_scores\u001b[39m\u001b[38;5;124m\"\u001b[39m]\n",
      "File \u001b[1;32m~\\anaconda3\\Lib\\site-packages\\sklearn\\model_selection\\_search.py:1422\u001b[0m, in \u001b[0;36mGridSearchCV._run_search\u001b[1;34m(self, evaluate_candidates)\u001b[0m\n\u001b[0;32m   1420\u001b[0m \u001b[38;5;28;01mdef\u001b[39;00m \u001b[38;5;21m_run_search\u001b[39m(\u001b[38;5;28mself\u001b[39m, evaluate_candidates):\n\u001b[0;32m   1421\u001b[0m \u001b[38;5;250m    \u001b[39m\u001b[38;5;124;03m\"\"\"Search all candidates in param_grid\"\"\"\u001b[39;00m\n\u001b[1;32m-> 1422\u001b[0m     evaluate_candidates(ParameterGrid(\u001b[38;5;28mself\u001b[39m\u001b[38;5;241m.\u001b[39mparam_grid))\n",
      "File \u001b[1;32m~\\anaconda3\\Lib\\site-packages\\sklearn\\model_selection\\_search.py:845\u001b[0m, in \u001b[0;36mBaseSearchCV.fit.<locals>.evaluate_candidates\u001b[1;34m(candidate_params, cv, more_results)\u001b[0m\n\u001b[0;32m    837\u001b[0m \u001b[38;5;28;01mif\u001b[39;00m \u001b[38;5;28mself\u001b[39m\u001b[38;5;241m.\u001b[39mverbose \u001b[38;5;241m>\u001b[39m \u001b[38;5;241m0\u001b[39m:\n\u001b[0;32m    838\u001b[0m     \u001b[38;5;28mprint\u001b[39m(\n\u001b[0;32m    839\u001b[0m         \u001b[38;5;124m\"\u001b[39m\u001b[38;5;124mFitting \u001b[39m\u001b[38;5;132;01m{0}\u001b[39;00m\u001b[38;5;124m folds for each of \u001b[39m\u001b[38;5;132;01m{1}\u001b[39;00m\u001b[38;5;124m candidates,\u001b[39m\u001b[38;5;124m\"\u001b[39m\n\u001b[0;32m    840\u001b[0m         \u001b[38;5;124m\"\u001b[39m\u001b[38;5;124m totalling \u001b[39m\u001b[38;5;132;01m{2}\u001b[39;00m\u001b[38;5;124m fits\u001b[39m\u001b[38;5;124m\"\u001b[39m\u001b[38;5;241m.\u001b[39mformat(\n\u001b[0;32m    841\u001b[0m             n_splits, n_candidates, n_candidates \u001b[38;5;241m*\u001b[39m n_splits\n\u001b[0;32m    842\u001b[0m         )\n\u001b[0;32m    843\u001b[0m     )\n\u001b[1;32m--> 845\u001b[0m out \u001b[38;5;241m=\u001b[39m parallel(\n\u001b[0;32m    846\u001b[0m     delayed(_fit_and_score)(\n\u001b[0;32m    847\u001b[0m         clone(base_estimator),\n\u001b[0;32m    848\u001b[0m         X,\n\u001b[0;32m    849\u001b[0m         y,\n\u001b[0;32m    850\u001b[0m         train\u001b[38;5;241m=\u001b[39mtrain,\n\u001b[0;32m    851\u001b[0m         test\u001b[38;5;241m=\u001b[39mtest,\n\u001b[0;32m    852\u001b[0m         parameters\u001b[38;5;241m=\u001b[39mparameters,\n\u001b[0;32m    853\u001b[0m         split_progress\u001b[38;5;241m=\u001b[39m(split_idx, n_splits),\n\u001b[0;32m    854\u001b[0m         candidate_progress\u001b[38;5;241m=\u001b[39m(cand_idx, n_candidates),\n\u001b[0;32m    855\u001b[0m         \u001b[38;5;241m*\u001b[39m\u001b[38;5;241m*\u001b[39mfit_and_score_kwargs,\n\u001b[0;32m    856\u001b[0m     )\n\u001b[0;32m    857\u001b[0m     \u001b[38;5;28;01mfor\u001b[39;00m (cand_idx, parameters), (split_idx, (train, test)) \u001b[38;5;129;01min\u001b[39;00m product(\n\u001b[0;32m    858\u001b[0m         \u001b[38;5;28menumerate\u001b[39m(candidate_params), \u001b[38;5;28menumerate\u001b[39m(cv\u001b[38;5;241m.\u001b[39msplit(X, y, groups))\n\u001b[0;32m    859\u001b[0m     )\n\u001b[0;32m    860\u001b[0m )\n\u001b[0;32m    862\u001b[0m \u001b[38;5;28;01mif\u001b[39;00m \u001b[38;5;28mlen\u001b[39m(out) \u001b[38;5;241m<\u001b[39m \u001b[38;5;241m1\u001b[39m:\n\u001b[0;32m    863\u001b[0m     \u001b[38;5;28;01mraise\u001b[39;00m \u001b[38;5;167;01mValueError\u001b[39;00m(\n\u001b[0;32m    864\u001b[0m         \u001b[38;5;124m\"\u001b[39m\u001b[38;5;124mNo fits were performed. \u001b[39m\u001b[38;5;124m\"\u001b[39m\n\u001b[0;32m    865\u001b[0m         \u001b[38;5;124m\"\u001b[39m\u001b[38;5;124mWas the CV iterator empty? \u001b[39m\u001b[38;5;124m\"\u001b[39m\n\u001b[0;32m    866\u001b[0m         \u001b[38;5;124m\"\u001b[39m\u001b[38;5;124mWere there no candidates?\u001b[39m\u001b[38;5;124m\"\u001b[39m\n\u001b[0;32m    867\u001b[0m     )\n",
      "File \u001b[1;32m~\\anaconda3\\Lib\\site-packages\\sklearn\\utils\\parallel.py:65\u001b[0m, in \u001b[0;36mParallel.__call__\u001b[1;34m(self, iterable)\u001b[0m\n\u001b[0;32m     60\u001b[0m config \u001b[38;5;241m=\u001b[39m get_config()\n\u001b[0;32m     61\u001b[0m iterable_with_config \u001b[38;5;241m=\u001b[39m (\n\u001b[0;32m     62\u001b[0m     (_with_config(delayed_func, config), args, kwargs)\n\u001b[0;32m     63\u001b[0m     \u001b[38;5;28;01mfor\u001b[39;00m delayed_func, args, kwargs \u001b[38;5;129;01min\u001b[39;00m iterable\n\u001b[0;32m     64\u001b[0m )\n\u001b[1;32m---> 65\u001b[0m \u001b[38;5;28;01mreturn\u001b[39;00m \u001b[38;5;28msuper\u001b[39m()\u001b[38;5;241m.\u001b[39m\u001b[38;5;21m__call__\u001b[39m(iterable_with_config)\n",
      "File \u001b[1;32m~\\anaconda3\\Lib\\site-packages\\joblib\\parallel.py:1098\u001b[0m, in \u001b[0;36mParallel.__call__\u001b[1;34m(self, iterable)\u001b[0m\n\u001b[0;32m   1095\u001b[0m     \u001b[38;5;28mself\u001b[39m\u001b[38;5;241m.\u001b[39m_iterating \u001b[38;5;241m=\u001b[39m \u001b[38;5;28;01mFalse\u001b[39;00m\n\u001b[0;32m   1097\u001b[0m \u001b[38;5;28;01mwith\u001b[39;00m \u001b[38;5;28mself\u001b[39m\u001b[38;5;241m.\u001b[39m_backend\u001b[38;5;241m.\u001b[39mretrieval_context():\n\u001b[1;32m-> 1098\u001b[0m     \u001b[38;5;28mself\u001b[39m\u001b[38;5;241m.\u001b[39mretrieve()\n\u001b[0;32m   1099\u001b[0m \u001b[38;5;66;03m# Make sure that we get a last message telling us we are done\u001b[39;00m\n\u001b[0;32m   1100\u001b[0m elapsed_time \u001b[38;5;241m=\u001b[39m time\u001b[38;5;241m.\u001b[39mtime() \u001b[38;5;241m-\u001b[39m \u001b[38;5;28mself\u001b[39m\u001b[38;5;241m.\u001b[39m_start_time\n",
      "File \u001b[1;32m~\\anaconda3\\Lib\\site-packages\\joblib\\parallel.py:997\u001b[0m, in \u001b[0;36mParallel.retrieve\u001b[1;34m(self)\u001b[0m\n\u001b[0;32m    991\u001b[0m \u001b[38;5;28;01mif\u001b[39;00m (backend \u001b[38;5;129;01mis\u001b[39;00m \u001b[38;5;129;01mnot\u001b[39;00m \u001b[38;5;28;01mNone\u001b[39;00m \u001b[38;5;129;01mand\u001b[39;00m\n\u001b[0;32m    992\u001b[0m         \u001b[38;5;28mhasattr\u001b[39m(backend, \u001b[38;5;124m'\u001b[39m\u001b[38;5;124mabort_everything\u001b[39m\u001b[38;5;124m'\u001b[39m)):\n\u001b[0;32m    993\u001b[0m     \u001b[38;5;66;03m# If the backend is managed externally we need to make sure\u001b[39;00m\n\u001b[0;32m    994\u001b[0m     \u001b[38;5;66;03m# to leave it in a working state to allow for future jobs\u001b[39;00m\n\u001b[0;32m    995\u001b[0m     \u001b[38;5;66;03m# scheduling.\u001b[39;00m\n\u001b[0;32m    996\u001b[0m     ensure_ready \u001b[38;5;241m=\u001b[39m \u001b[38;5;28mself\u001b[39m\u001b[38;5;241m.\u001b[39m_managed_backend\n\u001b[1;32m--> 997\u001b[0m     backend\u001b[38;5;241m.\u001b[39mabort_everything(ensure_ready\u001b[38;5;241m=\u001b[39mensure_ready)\n\u001b[0;32m    998\u001b[0m \u001b[38;5;28;01mraise\u001b[39;00m\n",
      "File \u001b[1;32m~\\anaconda3\\Lib\\site-packages\\joblib\\_parallel_backends.py:586\u001b[0m, in \u001b[0;36mLokyBackend.abort_everything\u001b[1;34m(self, ensure_ready)\u001b[0m\n\u001b[0;32m    583\u001b[0m \u001b[38;5;28;01mdef\u001b[39;00m \u001b[38;5;21mabort_everything\u001b[39m(\u001b[38;5;28mself\u001b[39m, ensure_ready\u001b[38;5;241m=\u001b[39m\u001b[38;5;28;01mTrue\u001b[39;00m):\n\u001b[0;32m    584\u001b[0m \u001b[38;5;250m    \u001b[39m\u001b[38;5;124;03m\"\"\"Shutdown the workers and restart a new one with the same parameters\u001b[39;00m\n\u001b[0;32m    585\u001b[0m \u001b[38;5;124;03m    \"\"\"\u001b[39;00m\n\u001b[1;32m--> 586\u001b[0m     \u001b[38;5;28mself\u001b[39m\u001b[38;5;241m.\u001b[39m_workers\u001b[38;5;241m.\u001b[39mterminate(kill_workers\u001b[38;5;241m=\u001b[39m\u001b[38;5;28;01mTrue\u001b[39;00m)\n\u001b[0;32m    587\u001b[0m     \u001b[38;5;28mself\u001b[39m\u001b[38;5;241m.\u001b[39m_workers \u001b[38;5;241m=\u001b[39m \u001b[38;5;28;01mNone\u001b[39;00m\n\u001b[0;32m    589\u001b[0m     \u001b[38;5;28;01mif\u001b[39;00m ensure_ready:\n",
      "File \u001b[1;32m~\\anaconda3\\Lib\\site-packages\\joblib\\executor.py:74\u001b[0m, in \u001b[0;36mMemmappingExecutor.terminate\u001b[1;34m(self, kill_workers)\u001b[0m\n\u001b[0;32m     73\u001b[0m \u001b[38;5;28;01mdef\u001b[39;00m \u001b[38;5;21mterminate\u001b[39m(\u001b[38;5;28mself\u001b[39m, kill_workers\u001b[38;5;241m=\u001b[39m\u001b[38;5;28;01mFalse\u001b[39;00m):\n\u001b[1;32m---> 74\u001b[0m     \u001b[38;5;28mself\u001b[39m\u001b[38;5;241m.\u001b[39mshutdown(kill_workers\u001b[38;5;241m=\u001b[39mkill_workers)\n\u001b[0;32m     75\u001b[0m     \u001b[38;5;28;01mif\u001b[39;00m kill_workers:\n\u001b[0;32m     76\u001b[0m         \u001b[38;5;66;03m# When workers are killed in such a brutal manner, they cannot\u001b[39;00m\n\u001b[0;32m     77\u001b[0m         \u001b[38;5;66;03m# execute the finalizer of their shared memmaps. The refcount of\u001b[39;00m\n\u001b[1;32m   (...)\u001b[0m\n\u001b[0;32m     83\u001b[0m \n\u001b[0;32m     84\u001b[0m         \u001b[38;5;66;03m# unregister temporary resources from all contexts\u001b[39;00m\n\u001b[0;32m     85\u001b[0m         \u001b[38;5;28;01mwith\u001b[39;00m \u001b[38;5;28mself\u001b[39m\u001b[38;5;241m.\u001b[39m_submit_resize_lock:\n",
      "File \u001b[1;32m~\\anaconda3\\Lib\\site-packages\\joblib\\externals\\loky\\process_executor.py:1199\u001b[0m, in \u001b[0;36mProcessPoolExecutor.shutdown\u001b[1;34m(self, wait, kill_workers)\u001b[0m\n\u001b[0;32m   1196\u001b[0m         \u001b[38;5;28mself\u001b[39m\u001b[38;5;241m.\u001b[39m_executor_manager_thread_wakeup\u001b[38;5;241m.\u001b[39mwakeup()\n\u001b[0;32m   1198\u001b[0m \u001b[38;5;28;01mif\u001b[39;00m executor_manager_thread \u001b[38;5;129;01mis\u001b[39;00m \u001b[38;5;129;01mnot\u001b[39;00m \u001b[38;5;28;01mNone\u001b[39;00m \u001b[38;5;129;01mand\u001b[39;00m wait:\n\u001b[1;32m-> 1199\u001b[0m     executor_manager_thread\u001b[38;5;241m.\u001b[39mjoin()\n\u001b[0;32m   1201\u001b[0m \u001b[38;5;66;03m# To reduce the risk of opening too many files, remove references to\u001b[39;00m\n\u001b[0;32m   1202\u001b[0m \u001b[38;5;66;03m# objects that use file descriptors.\u001b[39;00m\n\u001b[0;32m   1203\u001b[0m \u001b[38;5;28mself\u001b[39m\u001b[38;5;241m.\u001b[39m_executor_manager_thread \u001b[38;5;241m=\u001b[39m \u001b[38;5;28;01mNone\u001b[39;00m\n",
      "File \u001b[1;32m~\\anaconda3\\Lib\\threading.py:1112\u001b[0m, in \u001b[0;36mThread.join\u001b[1;34m(self, timeout)\u001b[0m\n\u001b[0;32m   1109\u001b[0m     \u001b[38;5;28;01mraise\u001b[39;00m \u001b[38;5;167;01mRuntimeError\u001b[39;00m(\u001b[38;5;124m\"\u001b[39m\u001b[38;5;124mcannot join current thread\u001b[39m\u001b[38;5;124m\"\u001b[39m)\n\u001b[0;32m   1111\u001b[0m \u001b[38;5;28;01mif\u001b[39;00m timeout \u001b[38;5;129;01mis\u001b[39;00m \u001b[38;5;28;01mNone\u001b[39;00m:\n\u001b[1;32m-> 1112\u001b[0m     \u001b[38;5;28mself\u001b[39m\u001b[38;5;241m.\u001b[39m_wait_for_tstate_lock()\n\u001b[0;32m   1113\u001b[0m \u001b[38;5;28;01melse\u001b[39;00m:\n\u001b[0;32m   1114\u001b[0m     \u001b[38;5;66;03m# the behavior of a negative timeout isn't documented, but\u001b[39;00m\n\u001b[0;32m   1115\u001b[0m     \u001b[38;5;66;03m# historically .join(timeout=x) for x<0 has acted as if timeout=0\u001b[39;00m\n\u001b[0;32m   1116\u001b[0m     \u001b[38;5;28mself\u001b[39m\u001b[38;5;241m.\u001b[39m_wait_for_tstate_lock(timeout\u001b[38;5;241m=\u001b[39m\u001b[38;5;28mmax\u001b[39m(timeout, \u001b[38;5;241m0\u001b[39m))\n",
      "File \u001b[1;32m~\\anaconda3\\Lib\\threading.py:1132\u001b[0m, in \u001b[0;36mThread._wait_for_tstate_lock\u001b[1;34m(self, block, timeout)\u001b[0m\n\u001b[0;32m   1129\u001b[0m     \u001b[38;5;28;01mreturn\u001b[39;00m\n\u001b[0;32m   1131\u001b[0m \u001b[38;5;28;01mtry\u001b[39;00m:\n\u001b[1;32m-> 1132\u001b[0m     \u001b[38;5;28;01mif\u001b[39;00m lock\u001b[38;5;241m.\u001b[39macquire(block, timeout):\n\u001b[0;32m   1133\u001b[0m         lock\u001b[38;5;241m.\u001b[39mrelease()\n\u001b[0;32m   1134\u001b[0m         \u001b[38;5;28mself\u001b[39m\u001b[38;5;241m.\u001b[39m_stop()\n",
      "\u001b[1;31mKeyboardInterrupt\u001b[0m: "
     ]
    }
   ],
   "source": [
    "# Perform grid search to find the best hyperparameters\n",
    "grid_search.fit(X_train_resampled, y_train_resampled)"
   ]
  },
  {
   "cell_type": "code",
   "execution_count": null,
   "id": "b002ba58",
   "metadata": {},
   "outputs": [],
   "source": [
    "# Get the best hyperparameters\n",
    "best_params = grid_search.best_params_\n",
    "print('Best Hyperparameters:')\n",
    "print(best_params)"
   ]
  },
  {
   "cell_type": "code",
   "execution_count": null,
   "id": "1836c410",
   "metadata": {},
   "outputs": [],
   "source": [
    "#Model Refitting with Best Hyperparameters\n",
    "best_rf_classifier = RandomForestClassifier(random_state=42,\n",
    "                                            **best_params)\n",
    "best_rf_classifier.fit(X_train_resampled, y_train_resampled)"
   ]
  },
  {
   "cell_type": "code",
   "execution_count": null,
   "id": "90c76acf",
   "metadata": {},
   "outputs": [],
   "source": [
    "# Accuracy Calculation\n",
    "# Calculate accuracy on training and testing sets with tuned hyperparameters\n",
    "best_train_accuracy = accuracy_score( y_train_resampled, best_rf_classifier.predict(X_train_resampled))\n",
    "best_test_accuracy = accuracy_score(y_test, best_rf_classifier.predict(X_test))\n",
    "\n",
    "print(f'Best Training Accuracy: {best_train_accuracy:.2f}')\n",
    "print(f'Best Testing Accuracy: {best_test_accuracy:.2f}')"
   ]
  },
  {
   "cell_type": "code",
   "execution_count": null,
   "id": "f177c07d",
   "metadata": {},
   "outputs": [],
   "source": [
    "from sklearn.metrics import roc_auc_score\n",
    "\n",
    "roc_auc_rf = roc_auc_score(y_test, best_rf_classifier.predict_proba(X_test)[:, 1])\n",
    "fpr_rf, tpr_rf, _ = roc_curve(y_test, best_rf_classifier.predict_proba(X_test)[:, 1])\n",
    "\n",
    "plt.figure(figsize=(8, 6))\n",
    "plt.plot(fpr_rf, tpr_rf, color='darkorange', lw=2, label='ROC curve (area = {:.2f})'.format(roc_auc_rf))\n",
    "plt.plot([0, 1], [0, 1], color='navy', lw=2, linestyle='--')\n",
    "plt.xlim([0.0, 1.0])\n",
    "plt.ylim([0.0, 1.05])\n",
    "plt.xlabel('False Positive Rate')\n",
    "plt.ylabel('True Positive Rate')\n",
    "plt.title('Receiver Operating Characteristic (ROC) - Random Forest')\n",
    "plt.legend(loc='lower right')\n",
    "plt.show()"
   ]
  },
  {
   "cell_type": "code",
   "execution_count": null,
   "id": "0c0eb5af",
   "metadata": {},
   "outputs": [],
   "source": [
    "\n",
    "import seaborn as sns\n",
    "from sklearn.metrics import confusion_matrix\n",
    "\n",
    "# Calculate the confusion matrix using the true labels (y_test) and predicted labels\n",
    "cm = confusion_matrix(y_test, best_rf_classifier.predict(X_test))\n",
    "\n",
    "# Create a heatmap of the confusion matrix\n",
    "sns.heatmap(cm, annot=True, fmt=\"g\")\n",
    "plt.rcParams['figure.figsize'] = (6, 4) \n",
    "plt.xlabel(\"Predicted\")\n",
    "plt.ylabel('Actual')\n",
    "plt.title('Confusion Matrix')\n",
    "plt.show()\n"
   ]
  },
  {
   "cell_type": "code",
   "execution_count": null,
   "id": "1dd742f2",
   "metadata": {},
   "outputs": [],
   "source": [
    "\n",
    "print(classification_report(y_test,best_rf_classifier.predict(X_test)))"
   ]
  },
  {
   "cell_type": "markdown",
   "id": "34199b79",
   "metadata": {},
   "source": [
    "## 2. Naive Bayes Model"
   ]
  },
  {
   "cell_type": "code",
   "execution_count": 174,
   "id": "a7719914",
   "metadata": {},
   "outputs": [],
   "source": [
    "from sklearn.naive_bayes import GaussianNB\n",
    "import seaborn as sns\n",
    "import matplotlib.pyplot as plt\n",
    "from sklearn.metrics import confusion_matrix\n",
    "from sklearn.model_selection import cross_val_score\n",
    "import numpy as np\n",
    "from sklearn.model_selection import RepeatedStratifiedKFold\n",
    "from sklearn.metrics import classification_report,roc_curve,auc\n",
    "from sklearn.model_selection import GridSearchCV\n",
    "\n",
    "\n"
   ]
  },
  {
   "cell_type": "markdown",
   "id": "39fe884d",
   "metadata": {},
   "source": [
    "### No parameter tuning"
   ]
  },
  {
   "cell_type": "code",
   "execution_count": 175,
   "id": "355c9035",
   "metadata": {},
   "outputs": [],
   "source": [
    "# Create a Gaussian Naive Bayes classifier\n",
    "naive_bayes_classifier = GaussianNB()"
   ]
  },
  {
   "cell_type": "code",
   "execution_count": 176,
   "id": "fbaac26c",
   "metadata": {},
   "outputs": [
    {
     "data": {
      "text/html": [
       "<style>#sk-container-id-13 {color: black;}#sk-container-id-13 pre{padding: 0;}#sk-container-id-13 div.sk-toggleable {background-color: white;}#sk-container-id-13 label.sk-toggleable__label {cursor: pointer;display: block;width: 100%;margin-bottom: 0;padding: 0.3em;box-sizing: border-box;text-align: center;}#sk-container-id-13 label.sk-toggleable__label-arrow:before {content: \"▸\";float: left;margin-right: 0.25em;color: #696969;}#sk-container-id-13 label.sk-toggleable__label-arrow:hover:before {color: black;}#sk-container-id-13 div.sk-estimator:hover label.sk-toggleable__label-arrow:before {color: black;}#sk-container-id-13 div.sk-toggleable__content {max-height: 0;max-width: 0;overflow: hidden;text-align: left;background-color: #f0f8ff;}#sk-container-id-13 div.sk-toggleable__content pre {margin: 0.2em;color: black;border-radius: 0.25em;background-color: #f0f8ff;}#sk-container-id-13 input.sk-toggleable__control:checked~div.sk-toggleable__content {max-height: 200px;max-width: 100%;overflow: auto;}#sk-container-id-13 input.sk-toggleable__control:checked~label.sk-toggleable__label-arrow:before {content: \"▾\";}#sk-container-id-13 div.sk-estimator input.sk-toggleable__control:checked~label.sk-toggleable__label {background-color: #d4ebff;}#sk-container-id-13 div.sk-label input.sk-toggleable__control:checked~label.sk-toggleable__label {background-color: #d4ebff;}#sk-container-id-13 input.sk-hidden--visually {border: 0;clip: rect(1px 1px 1px 1px);clip: rect(1px, 1px, 1px, 1px);height: 1px;margin: -1px;overflow: hidden;padding: 0;position: absolute;width: 1px;}#sk-container-id-13 div.sk-estimator {font-family: monospace;background-color: #f0f8ff;border: 1px dotted black;border-radius: 0.25em;box-sizing: border-box;margin-bottom: 0.5em;}#sk-container-id-13 div.sk-estimator:hover {background-color: #d4ebff;}#sk-container-id-13 div.sk-parallel-item::after {content: \"\";width: 100%;border-bottom: 1px solid gray;flex-grow: 1;}#sk-container-id-13 div.sk-label:hover label.sk-toggleable__label {background-color: #d4ebff;}#sk-container-id-13 div.sk-serial::before {content: \"\";position: absolute;border-left: 1px solid gray;box-sizing: border-box;top: 0;bottom: 0;left: 50%;z-index: 0;}#sk-container-id-13 div.sk-serial {display: flex;flex-direction: column;align-items: center;background-color: white;padding-right: 0.2em;padding-left: 0.2em;position: relative;}#sk-container-id-13 div.sk-item {position: relative;z-index: 1;}#sk-container-id-13 div.sk-parallel {display: flex;align-items: stretch;justify-content: center;background-color: white;position: relative;}#sk-container-id-13 div.sk-item::before, #sk-container-id-13 div.sk-parallel-item::before {content: \"\";position: absolute;border-left: 1px solid gray;box-sizing: border-box;top: 0;bottom: 0;left: 50%;z-index: -1;}#sk-container-id-13 div.sk-parallel-item {display: flex;flex-direction: column;z-index: 1;position: relative;background-color: white;}#sk-container-id-13 div.sk-parallel-item:first-child::after {align-self: flex-end;width: 50%;}#sk-container-id-13 div.sk-parallel-item:last-child::after {align-self: flex-start;width: 50%;}#sk-container-id-13 div.sk-parallel-item:only-child::after {width: 0;}#sk-container-id-13 div.sk-dashed-wrapped {border: 1px dashed gray;margin: 0 0.4em 0.5em 0.4em;box-sizing: border-box;padding-bottom: 0.4em;background-color: white;}#sk-container-id-13 div.sk-label label {font-family: monospace;font-weight: bold;display: inline-block;line-height: 1.2em;}#sk-container-id-13 div.sk-label-container {text-align: center;}#sk-container-id-13 div.sk-container {/* jupyter's `normalize.less` sets `[hidden] { display: none; }` but bootstrap.min.css set `[hidden] { display: none !important; }` so we also need the `!important` here to be able to override the default hidden behavior on the sphinx rendered scikit-learn.org. See: https://github.com/scikit-learn/scikit-learn/issues/21755 */display: inline-block !important;position: relative;}#sk-container-id-13 div.sk-text-repr-fallback {display: none;}</style><div id=\"sk-container-id-13\" class=\"sk-top-container\"><div class=\"sk-text-repr-fallback\"><pre>GaussianNB()</pre><b>In a Jupyter environment, please rerun this cell to show the HTML representation or trust the notebook. <br />On GitHub, the HTML representation is unable to render, please try loading this page with nbviewer.org.</b></div><div class=\"sk-container\" hidden><div class=\"sk-item\"><div class=\"sk-estimator sk-toggleable\"><input class=\"sk-toggleable__control sk-hidden--visually\" id=\"sk-estimator-id-15\" type=\"checkbox\" checked><label for=\"sk-estimator-id-15\" class=\"sk-toggleable__label sk-toggleable__label-arrow\">GaussianNB</label><div class=\"sk-toggleable__content\"><pre>GaussianNB()</pre></div></div></div></div></div>"
      ],
      "text/plain": [
       "GaussianNB()"
      ]
     },
     "execution_count": 176,
     "metadata": {},
     "output_type": "execute_result"
    }
   ],
   "source": [
    "# Train the classifier on the training data\n",
    "naive_bayes_classifier.fit(X_train_resampled,y_train_resampled)"
   ]
  },
  {
   "cell_type": "code",
   "execution_count": 177,
   "id": "725482af",
   "metadata": {},
   "outputs": [],
   "source": [
    "#Model Evaluation (Overfitting Check)\n",
    "# Predict on training and testing sets\n",
    "y_train_pred = naive_bayes_classifier.predict(X_train_resampled)\n",
    "y_test_pred = naive_bayes_classifier.predict(X_test)"
   ]
  },
  {
   "cell_type": "code",
   "execution_count": 178,
   "id": "efd91d42",
   "metadata": {},
   "outputs": [
    {
     "name": "stdout",
     "output_type": "stream",
     "text": [
      "Training Set Accuracy: 0.972\n",
      "Testing Set Accuracy: 0.970\n"
     ]
    }
   ],
   "source": [
    "#The accuracy of the model was computed by calculating the training set score and the testing set score\n",
    "# Calculate the training set accuracy\n",
    "training_accuracy = naive_bayes_classifier.score(X_train_resampled,y_train_resampled)\n",
    "print(f'Training Set Accuracy: {training_accuracy:.3f}')\n",
    "\n",
    "# Calculate the testing set accuracy\n",
    "testing_accuracy = naive_bayes_classifier.score(X_test, y_test)\n",
    "print(f'Testing Set Accuracy: {testing_accuracy:.3f}')"
   ]
  },
  {
   "cell_type": "code",
   "execution_count": 179,
   "id": "5f037fb9",
   "metadata": {},
   "outputs": [
    {
     "data": {
      "image/png": "[encoded data removed]",
      "text/plain": [
       "<Figure size 300x300 with 1 Axes>"
      ]
     },
     "metadata": {},
     "output_type": "display_data"
    }
   ],
   "source": [
    "# Assuming you have predictions and true labels for your testing set\n",
    "# y_test contains the true labels, and y_test_pred contains the predicted labels\n",
    "\n",
    "# Calculate the confusion matrix\n",
    "conf_matrix = confusion_matrix(y_test, y_test_pred)\n",
    "\n",
    "# Define a custom color palette for the heatmap\n",
    "# You can choose any palette you prefer\n",
    "color_palette = sns.color_palette(\"Set2\")\n",
    "\n",
    "# Create a heatmap\n",
    "plt.figure(figsize=(3, 3))\n",
    "sns.heatmap(conf_matrix, annot=True, fmt=\"d\", cmap=color_palette, cbar=False)\n",
    "plt.xlabel('Predicted Labels')\n",
    "plt.ylabel('True Labels')\n",
    "plt.title('Confusion Matrix')\n",
    "plt.show()\n",
    "\n",
    "\n",
    "\n"
   ]
  },
  {
   "cell_type": "code",
   "execution_count": 180,
   "id": "69625ff2",
   "metadata": {},
   "outputs": [],
   "source": [
    "# Evaluate the classifier's performance\n",
    "classification_report_result = classification_report(y_test, y_test_pred)"
   ]
  },
  {
   "cell_type": "code",
   "execution_count": 181,
   "id": "328e10ff",
   "metadata": {},
   "outputs": [
    {
     "name": "stdout",
     "output_type": "stream",
     "text": [
      "              precision    recall  f1-score   support\n",
      "\n",
      "           0       0.99      0.98      0.98      6778\n",
      "           1       0.81      0.85      0.83       656\n",
      "\n",
      "    accuracy                           0.97      7434\n",
      "   macro avg       0.90      0.92      0.91      7434\n",
      "weighted avg       0.97      0.97      0.97      7434\n",
      "\n"
     ]
    }
   ],
   "source": [
    "# Print the classification report\n",
    "print(classification_report_result)"
   ]
  },
  {
   "cell_type": "markdown",
   "id": "15ac0455",
   "metadata": {},
   "source": [
    "#### Hyperparameter Tuning"
   ]
  },
  {
   "cell_type": "code",
   "execution_count": 182,
   "id": "b2b0f4ec",
   "metadata": {},
   "outputs": [
    {
     "name": "stdout",
     "output_type": "stream",
     "text": [
      "Cross-validation scores: [0.98763433 0.99116608 0.98822144 0.98468787 0.98748528]\n",
      "Mean score: 0.99\n",
      "Standard deviation: 0.00\n"
     ]
    }
   ],
   "source": [
    "# Perform K-fold cross-validation (replace 'X' and 'y' with your feature matrix and target variable)\n",
    "cv_scores = cross_val_score(naive_bayes_classifier, X, y, cv=5)  # 'cv' specifies the number of folds (e.g., 5-fold)\n",
    "\n",
    "# Print the cross-validation scores\n",
    "print(\"Cross-validation scores:\", cv_scores)\n",
    "\n",
    "# Calculate and print the mean and standard deviation of the scores\n",
    "mean_score = cv_scores.mean()\n",
    "std_deviation = cv_scores.std()\n",
    "print(f\"Mean score: {mean_score:.2f}\")\n",
    "print(f\"Standard deviation: {std_deviation:.2f}\")\n"
   ]
  },
  {
   "cell_type": "code",
   "execution_count": 183,
   "id": "f9d7a8e1",
   "metadata": {},
   "outputs": [
    {
     "name": "stdout",
     "output_type": "stream",
     "text": [
      "[1.00000000e-09 7.74263683e-09 5.99484250e-08 4.64158883e-07\n",
      " 3.59381366e-06 2.78255940e-05 2.15443469e-04 1.66810054e-03\n",
      " 1.29154967e-02 1.00000000e-01]\n"
     ]
    }
   ],
   "source": [
    "# Define the range of values for var_smoothing in a logarithmic scale\n",
    "# The example below creates values from 1e-9 to 1e-1 with 10 values.\n",
    "#This is not related to hyperparameter tuning; \n",
    "#it's simply showing you the range of values that will be used in a potential hyperparameter search.\n",
    "var_smoothing_values = np.logspace(-9, -1, 10)\n",
    "\n",
    "# Print the values to see the range\n",
    "print(var_smoothing_values)"
   ]
  },
  {
   "cell_type": "code",
   "execution_count": 184,
   "id": "21a269c2",
   "metadata": {},
   "outputs": [
    {
     "name": "stdout",
     "output_type": "stream",
     "text": [
      "Best Parameters: {'var_smoothing': 1e-06}\n",
      "Accuracy on Test Set: 0.9694646220069949\n",
      "\n",
      "Classification Report:\n",
      "               precision    recall  f1-score   support\n",
      "\n",
      "           0       0.99      0.98      0.98      6778\n",
      "           1       0.81      0.86      0.83       656\n",
      "\n",
      "    accuracy                           0.97      7434\n",
      "   macro avg       0.90      0.92      0.91      7434\n",
      "weighted avg       0.97      0.97      0.97      7434\n",
      "\n"
     ]
    }
   ],
   "source": [
    "from sklearn.metrics import accuracy_score\n",
    "\n",
    "# Define the hyperparameter grid to search\n",
    "param_grid = {\n",
    "    'var_smoothing': [1e-9, 1e-8, 1e-7, 1e-6, 1e-5]\n",
    "}\n",
    "\n",
    "# Create the Repeated Stratified K-Fold cross-validator\n",
    "# Define the number of splits and repeats (e.g., 5 splits, 3 repeats)\n",
    "cv = RepeatedStratifiedKFold(n_splits=5, n_repeats=3, random_state=42)\n",
    "\n",
    "# Create the GridSearchCV object\n",
    "grid_search_1 = GridSearchCV(estimator=naive_bayes_classifier, param_grid=param_grid, cv=cv, scoring='accuracy', n_jobs=-1)\n",
    "\n",
    "# Fit the GridSearchCV to your data\n",
    "grid_search_1.fit(X_train_resampled,y_train_resampled)\n",
    "\n",
    "# Get the best parameters and the best estimator\n",
    "best_params_nb = grid_search_1.best_params_\n",
    "best_nb_classifier = grid_search_1.best_estimator_\n",
    "\n",
    "# Evaluate the model on the test set\n",
    "y_pred_nb = best_nb_classifier.predict(X_test)\n",
    "\n",
    "# Calculate accuracy and print the classification report\n",
    "accuracy_nb = accuracy_score(y_test, y_pred_nb)\n",
    "print(\"Best Parameters:\", best_params_nb)\n",
    "print(\"Accuracy on Test Set:\", accuracy_nb)\n",
    "print(\"\\nClassification Report:\\n\", classification_report(y_test, y_pred_nb))\n",
    "\n"
   ]
  },
  {
   "cell_type": "code",
   "execution_count": 185,
   "id": "564d95d6",
   "metadata": {},
   "outputs": [
    {
     "name": "stdout",
     "output_type": "stream",
     "text": [
      "Training Set Accuracy: 0.994\n",
      "Testing Set Accuracy: 0.994\n"
     ]
    }
   ],
   "source": [
    "#The accuracy of the model was computed by calculating the training set score and the testing set score\n",
    "# Calculate the training set accuracy\n",
    "training_accuracy = naive_bayes_classifier.score(X_train_resampled,  best_nb_classifier.predict(X_train_resampled))\n",
    "print(f'Training Set Accuracy: {training_accuracy:.3f}')\n",
    "\n",
    "# Calculate the testing set accuracy\n",
    "testing_accuracy = naive_bayes_classifier.score(X_test, y_pred_nb)\n",
    "print(f'Testing Set Accuracy: {testing_accuracy:.3f}')"
   ]
  },
  {
   "cell_type": "code",
   "execution_count": 186,
   "id": "e5363aa6",
   "metadata": {},
   "outputs": [
    {
     "data": {
      "image/png": "[encoded data removed]",
      "text/plain": [
       "<Figure size 800x600 with 1 Axes>"
      ]
     },
     "metadata": {},
     "output_type": "display_data"
    }
   ],
   "source": [
    "from sklearn.metrics import roc_auc_score\n",
    "\n",
    "roc_auc_rf = roc_auc_score(y_test, naive_bayes_classifier.predict_proba(X_test)[:, 1])\n",
    "fpr_rf, tpr_rf, _ = roc_curve(y_test, naive_bayes_classifier.predict_proba(X_test)[:, 1])\n",
    "\n",
    "plt.figure(figsize=(8, 6))\n",
    "plt.plot(fpr_rf, tpr_rf, color='darkorange', lw=2, label='ROC curve (area = {:.2f})'.format(roc_auc_rf))\n",
    "plt.plot([0, 1], [0, 1], color='navy', lw=2, linestyle='--')\n",
    "plt.xlim([0.0, 1.0])\n",
    "plt.ylim([0.0, 1.05])\n",
    "plt.xlabel('False Positive Rate')\n",
    "plt.ylabel('True Positive Rate')\n",
    "plt.title('Receiver Operating Characteristic (ROC) - Naive Bayes')\n",
    "plt.legend(loc='lower right')\n",
    "plt.show()"
   ]
  },
  {
   "cell_type": "code",
   "execution_count": 187,
   "id": "8ef88f77",
   "metadata": {},
   "outputs": [
    {
     "data": {
      "image/png": "[encoded data removed]",
      "text/plain": [
       "<Figure size 600x400 with 2 Axes>"
      ]
     },
     "metadata": {},
     "output_type": "display_data"
    }
   ],
   "source": [
    "# Create and train the Gaussian Naive Bayes model with tuned hyperparameters\n",
    "gnb = GaussianNB(var_smoothing=0.000001)  # Replace with your best var_smoothing value\n",
    "gnb.fit(X_train_resampled,y_train_resampled)\n",
    "\n",
    "\n",
    "import seaborn as sns\n",
    "from sklearn.metrics import confusion_matrix\n",
    "\n",
    "# Calculate the confusion matrix using the true labels (y_test) and predicted labels\n",
    "cm = confusion_matrix(y_test, y_test_pred)\n",
    "\n",
    "# Create a heatmap of the confusion matrix\n",
    "sns.heatmap(cm, annot=True, fmt=\"g\")\n",
    "plt.rcParams['figure.figsize'] = (6, 4) \n",
    "plt.xlabel(\"Predicted\")\n",
    "plt.ylabel('Actual')\n",
    "plt.title('Confusion Matrix')\n",
    "plt.show()\n"
   ]
  },
  {
   "cell_type": "markdown",
   "id": "a4a14f29",
   "metadata": {},
   "source": [
    "## 3. Logistics Regression"
   ]
  },
  {
   "cell_type": "code",
   "execution_count": 188,
   "id": "f3ea00ce",
   "metadata": {},
   "outputs": [],
   "source": [
    "import matplotlib.pyplot as plt\n",
    "plt.rc(\"font\", size=14)\n",
    "from sklearn.linear_model import LogisticRegression\n",
    "from sklearn.model_selection import train_test_split\n",
    "import seaborn as sns\n",
    "sns.set(style=\"white\")\n",
    "sns.set(style=\"whitegrid\",color_codes=True)\n",
    "from sklearn.metrics import accuracy_score,classification_report,roc_curve,auc, confusion_matrix\n",
    "import pickle\n",
    "from sklearn import metrics\n",
    "from sklearn.model_selection import cross_val_score\n",
    "from imblearn.over_sampling import SMOTE\n",
    "from sklearn.model_selection import GridSearchCV\n",
    "from sklearn.linear_model import LogisticRegression\n"
   ]
  },
  {
   "cell_type": "markdown",
   "id": "5dc27a18",
   "metadata": {},
   "source": [
    "### No parameter tuning"
   ]
  },
  {
   "cell_type": "code",
   "execution_count": 191,
   "id": "73f01f1e",
   "metadata": {},
   "outputs": [],
   "source": [
    "model = LogisticRegression()"
   ]
  },
  {
   "cell_type": "code",
   "execution_count": 192,
   "id": "a721b77c",
   "metadata": {},
   "outputs": [
    {
     "data": {
      "text/html": [
       "<style>#sk-container-id-14 {color: black;}#sk-container-id-14 pre{padding: 0;}#sk-container-id-14 div.sk-toggleable {background-color: white;}#sk-container-id-14 label.sk-toggleable__label {cursor: pointer;display: block;width: 100%;margin-bottom: 0;padding: 0.3em;box-sizing: border-box;text-align: center;}#sk-container-id-14 label.sk-toggleable__label-arrow:before {content: \"▸\";float: left;margin-right: 0.25em;color: #696969;}#sk-container-id-14 label.sk-toggleable__label-arrow:hover:before {color: black;}#sk-container-id-14 div.sk-estimator:hover label.sk-toggleable__label-arrow:before {color: black;}#sk-container-id-14 div.sk-toggleable__content {max-height: 0;max-width: 0;overflow: hidden;text-align: left;background-color: #f0f8ff;}#sk-container-id-14 div.sk-toggleable__content pre {margin: 0.2em;color: black;border-radius: 0.25em;background-color: #f0f8ff;}#sk-container-id-14 input.sk-toggleable__control:checked~div.sk-toggleable__content {max-height: 200px;max-width: 100%;overflow: auto;}#sk-container-id-14 input.sk-toggleable__control:checked~label.sk-toggleable__label-arrow:before {content: \"▾\";}#sk-container-id-14 div.sk-estimator input.sk-toggleable__control:checked~label.sk-toggleable__label {background-color: #d4ebff;}#sk-container-id-14 div.sk-label input.sk-toggleable__control:checked~label.sk-toggleable__label {background-color: #d4ebff;}#sk-container-id-14 input.sk-hidden--visually {border: 0;clip: rect(1px 1px 1px 1px);clip: rect(1px, 1px, 1px, 1px);height: 1px;margin: -1px;overflow: hidden;padding: 0;position: absolute;width: 1px;}#sk-container-id-14 div.sk-estimator {font-family: monospace;background-color: #f0f8ff;border: 1px dotted black;border-radius: 0.25em;box-sizing: border-box;margin-bottom: 0.5em;}#sk-container-id-14 div.sk-estimator:hover {background-color: #d4ebff;}#sk-container-id-14 div.sk-parallel-item::after {content: \"\";width: 100%;border-bottom: 1px solid gray;flex-grow: 1;}#sk-container-id-14 div.sk-label:hover label.sk-toggleable__label {background-color: #d4ebff;}#sk-container-id-14 div.sk-serial::before {content: \"\";position: absolute;border-left: 1px solid gray;box-sizing: border-box;top: 0;bottom: 0;left: 50%;z-index: 0;}#sk-container-id-14 div.sk-serial {display: flex;flex-direction: column;align-items: center;background-color: white;padding-right: 0.2em;padding-left: 0.2em;position: relative;}#sk-container-id-14 div.sk-item {position: relative;z-index: 1;}#sk-container-id-14 div.sk-parallel {display: flex;align-items: stretch;justify-content: center;background-color: white;position: relative;}#sk-container-id-14 div.sk-item::before, #sk-container-id-14 div.sk-parallel-item::before {content: \"\";position: absolute;border-left: 1px solid gray;box-sizing: border-box;top: 0;bottom: 0;left: 50%;z-index: -1;}#sk-container-id-14 div.sk-parallel-item {display: flex;flex-direction: column;z-index: 1;position: relative;background-color: white;}#sk-container-id-14 div.sk-parallel-item:first-child::after {align-self: flex-end;width: 50%;}#sk-container-id-14 div.sk-parallel-item:last-child::after {align-self: flex-start;width: 50%;}#sk-container-id-14 div.sk-parallel-item:only-child::after {width: 0;}#sk-container-id-14 div.sk-dashed-wrapped {border: 1px dashed gray;margin: 0 0.4em 0.5em 0.4em;box-sizing: border-box;padding-bottom: 0.4em;background-color: white;}#sk-container-id-14 div.sk-label label {font-family: monospace;font-weight: bold;display: inline-block;line-height: 1.2em;}#sk-container-id-14 div.sk-label-container {text-align: center;}#sk-container-id-14 div.sk-container {/* jupyter's `normalize.less` sets `[hidden] { display: none; }` but bootstrap.min.css set `[hidden] { display: none !important; }` so we also need the `!important` here to be able to override the default hidden behavior on the sphinx rendered scikit-learn.org. See: https://github.com/scikit-learn/scikit-learn/issues/21755 */display: inline-block !important;position: relative;}#sk-container-id-14 div.sk-text-repr-fallback {display: none;}</style><div id=\"sk-container-id-14\" class=\"sk-top-container\"><div class=\"sk-text-repr-fallback\"><pre>LogisticRegression()</pre><b>In a Jupyter environment, please rerun this cell to show the HTML representation or trust the notebook. <br />On GitHub, the HTML representation is unable to render, please try loading this page with nbviewer.org.</b></div><div class=\"sk-container\" hidden><div class=\"sk-item\"><div class=\"sk-estimator sk-toggleable\"><input class=\"sk-toggleable__control sk-hidden--visually\" id=\"sk-estimator-id-16\" type=\"checkbox\" checked><label for=\"sk-estimator-id-16\" class=\"sk-toggleable__label sk-toggleable__label-arrow\">LogisticRegression</label><div class=\"sk-toggleable__content\"><pre>LogisticRegression()</pre></div></div></div></div></div>"
      ],
      "text/plain": [
       "LogisticRegression()"
      ]
     },
     "execution_count": 192,
     "metadata": {},
     "output_type": "execute_result"
    }
   ],
   "source": [
    "model.fit(X_train_resampled,y_train_resampled)"
   ]
  },
  {
   "cell_type": "code",
   "execution_count": 193,
   "id": "5afbc97e",
   "metadata": {},
   "outputs": [],
   "source": [
    "y_pred = model.predict(X_test)"
   ]
  },
  {
   "cell_type": "code",
   "execution_count": 194,
   "id": "bd5d2151",
   "metadata": {},
   "outputs": [
    {
     "data": {
      "text/plain": [
       "97.86117836965295"
      ]
     },
     "execution_count": 194,
     "metadata": {},
     "output_type": "execute_result"
    }
   ],
   "source": [
    "accuracy = metrics.accuracy_score(y_test, y_pred)\n",
    "accuracy_percentage = 100 * accuracy\n",
    "accuracy_percentage"
   ]
  },
  {
   "cell_type": "code",
   "execution_count": 195,
   "id": "f3ae0df3",
   "metadata": {},
   "outputs": [
    {
     "name": "stdout",
     "output_type": "stream",
     "text": [
      "Training score: 0.9806269339432262\n",
      "Test score: 0.9786117836965295\n"
     ]
    }
   ],
   "source": [
    "print(f'Training score: {model.score(X_train_resampled,y_train_resampled)}')\n",
    "print(f'Test score: {model.score(X_test,y_test)}')"
   ]
  },
  {
   "cell_type": "code",
   "execution_count": 196,
   "id": "801e7d1d",
   "metadata": {},
   "outputs": [
    {
     "data": {
      "image/png": "[encoded data removed]",
      "text/plain": [
       "<Figure size 600x400 with 2 Axes>"
      ]
     },
     "metadata": {},
     "output_type": "display_data"
    }
   ],
   "source": [
    "sns.heatmap(confusion_matrix(y_test, model.predict(X_test)), annot=True,fmt=\"g\") \n",
    "plt.xlabel(\"Predicted\")\n",
    "plt.show(\"Actual\")\n",
    "plt.show()"
   ]
  },
  {
   "cell_type": "code",
   "execution_count": 197,
   "id": "fcc0a2d4",
   "metadata": {},
   "outputs": [
    {
     "name": "stdout",
     "output_type": "stream",
     "text": [
      "              precision    recall  f1-score   support\n",
      "\n",
      "           0       0.98      0.99      0.99      6778\n",
      "           1       0.94      0.81      0.87       656\n",
      "\n",
      "    accuracy                           0.98      7434\n",
      "   macro avg       0.96      0.90      0.93      7434\n",
      "weighted avg       0.98      0.98      0.98      7434\n",
      "\n"
     ]
    }
   ],
   "source": [
    "print(classification_report(y_test,y_pred))"
   ]
  },
  {
   "cell_type": "code",
   "execution_count": 198,
   "id": "5e4a1c87",
   "metadata": {},
   "outputs": [
    {
     "data": {
      "image/png": "[encoded data removed]",
      "text/plain": [
       "<Figure size 600x400 with 2 Axes>"
      ]
     },
     "metadata": {},
     "output_type": "display_data"
    }
   ],
   "source": [
    "# Create and display a confusion matrix\n",
    "sns.heatmap(confusion_matrix(y_test, y_pred), annot=True, fmt=\"g\")\n",
    "plt.xlabel(\"Predicted\")\n",
    "plt.show(\"Actual\")\n",
    "plt.show()"
   ]
  },
  {
   "cell_type": "markdown",
   "id": "67dace7d",
   "metadata": {},
   "source": [
    "### Hyperparameter Tuning "
   ]
  },
  {
   "cell_type": "code",
   "execution_count": 199,
   "id": "4a97d653",
   "metadata": {},
   "outputs": [
    {
     "name": "stdout",
     "output_type": "stream",
     "text": [
      "Cross-validation scores: [0.98099882 0.978981   0.98150017 0.98116381 0.9769593 ]\n",
      "Average cross-validation score: 0.979920619582181\n"
     ]
    }
   ],
   "source": [
    "scores = cross_val_score(model, X_train_resampled,y_train_resampled, cv=5,scoring='accuracy')\n",
    "print(f'Cross-validation scores: {scores}')\n",
    "print(f'Average cross-validation score: {scores.mean()}')"
   ]
  },
  {
   "cell_type": "code",
   "execution_count": 200,
   "id": "8e1b9665",
   "metadata": {},
   "outputs": [],
   "source": [
    "# Create an instance of the SMOTE class for oversampling\n",
    "#smote2 = SMOTE(random_state=42)\n",
    "\n",
    "# Oversample the training data using SMOTE\n",
    "#X_train_resampled, y_train_resampled = smote2.fit_resample(X_train, y_train)"
   ]
  },
  {
   "cell_type": "code",
   "execution_count": 201,
   "id": "edf3fd47",
   "metadata": {},
   "outputs": [],
   "source": [
    "# Define the logistic regression model\n",
    "logistic_regression = LogisticRegression()"
   ]
  },
  {
   "cell_type": "code",
   "execution_count": 202,
   "id": "56a192f6",
   "metadata": {},
   "outputs": [],
   "source": [
    "# Define a grid of hyperparameters to search\n",
    "param_grid = {\n",
    "    'C': [0.001, 0.01, 0.1, 1, 10],  # Regularization parameter\n",
    "    'penalty': ['l1', 'l2'],  # Regularization type\n",
    "}"
   ]
  },
  {
   "cell_type": "code",
   "execution_count": 203,
   "id": "39a3569f",
   "metadata": {},
   "outputs": [],
   "source": [
    "# Create a GridSearchCV object\n",
    "grid_search = GridSearchCV(estimator=logistic_regression, param_grid=param_grid, cv=5, scoring='precision')\n"
   ]
  },
  {
   "cell_type": "code",
   "execution_count": 204,
   "id": "e5abadfd",
   "metadata": {},
   "outputs": [
    {
     "data": {
      "text/html": [
       "<style>#sk-container-id-15 {color: black;}#sk-container-id-15 pre{padding: 0;}#sk-container-id-15 div.sk-toggleable {background-color: white;}#sk-container-id-15 label.sk-toggleable__label {cursor: pointer;display: block;width: 100%;margin-bottom: 0;padding: 0.3em;box-sizing: border-box;text-align: center;}#sk-container-id-15 label.sk-toggleable__label-arrow:before {content: \"▸\";float: left;margin-right: 0.25em;color: #696969;}#sk-container-id-15 label.sk-toggleable__label-arrow:hover:before {color: black;}#sk-container-id-15 div.sk-estimator:hover label.sk-toggleable__label-arrow:before {color: black;}#sk-container-id-15 div.sk-toggleable__content {max-height: 0;max-width: 0;overflow: hidden;text-align: left;background-color: #f0f8ff;}#sk-container-id-15 div.sk-toggleable__content pre {margin: 0.2em;color: black;border-radius: 0.25em;background-color: #f0f8ff;}#sk-container-id-15 input.sk-toggleable__control:checked~div.sk-toggleable__content {max-height: 200px;max-width: 100%;overflow: auto;}#sk-container-id-15 input.sk-toggleable__control:checked~label.sk-toggleable__label-arrow:before {content: \"▾\";}#sk-container-id-15 div.sk-estimator input.sk-toggleable__control:checked~label.sk-toggleable__label {background-color: #d4ebff;}#sk-container-id-15 div.sk-label input.sk-toggleable__control:checked~label.sk-toggleable__label {background-color: #d4ebff;}#sk-container-id-15 input.sk-hidden--visually {border: 0;clip: rect(1px 1px 1px 1px);clip: rect(1px, 1px, 1px, 1px);height: 1px;margin: -1px;overflow: hidden;padding: 0;position: absolute;width: 1px;}#sk-container-id-15 div.sk-estimator {font-family: monospace;background-color: #f0f8ff;border: 1px dotted black;border-radius: 0.25em;box-sizing: border-box;margin-bottom: 0.5em;}#sk-container-id-15 div.sk-estimator:hover {background-color: #d4ebff;}#sk-container-id-15 div.sk-parallel-item::after {content: \"\";width: 100%;border-bottom: 1px solid gray;flex-grow: 1;}#sk-container-id-15 div.sk-label:hover label.sk-toggleable__label {background-color: #d4ebff;}#sk-container-id-15 div.sk-serial::before {content: \"\";position: absolute;border-left: 1px solid gray;box-sizing: border-box;top: 0;bottom: 0;left: 50%;z-index: 0;}#sk-container-id-15 div.sk-serial {display: flex;flex-direction: column;align-items: center;background-color: white;padding-right: 0.2em;padding-left: 0.2em;position: relative;}#sk-container-id-15 div.sk-item {position: relative;z-index: 1;}#sk-container-id-15 div.sk-parallel {display: flex;align-items: stretch;justify-content: center;background-color: white;position: relative;}#sk-container-id-15 div.sk-item::before, #sk-container-id-15 div.sk-parallel-item::before {content: \"\";position: absolute;border-left: 1px solid gray;box-sizing: border-box;top: 0;bottom: 0;left: 50%;z-index: -1;}#sk-container-id-15 div.sk-parallel-item {display: flex;flex-direction: column;z-index: 1;position: relative;background-color: white;}#sk-container-id-15 div.sk-parallel-item:first-child::after {align-self: flex-end;width: 50%;}#sk-container-id-15 div.sk-parallel-item:last-child::after {align-self: flex-start;width: 50%;}#sk-container-id-15 div.sk-parallel-item:only-child::after {width: 0;}#sk-container-id-15 div.sk-dashed-wrapped {border: 1px dashed gray;margin: 0 0.4em 0.5em 0.4em;box-sizing: border-box;padding-bottom: 0.4em;background-color: white;}#sk-container-id-15 div.sk-label label {font-family: monospace;font-weight: bold;display: inline-block;line-height: 1.2em;}#sk-container-id-15 div.sk-label-container {text-align: center;}#sk-container-id-15 div.sk-container {/* jupyter's `normalize.less` sets `[hidden] { display: none; }` but bootstrap.min.css set `[hidden] { display: none !important; }` so we also need the `!important` here to be able to override the default hidden behavior on the sphinx rendered scikit-learn.org. See: https://github.com/scikit-learn/scikit-learn/issues/21755 */display: inline-block !important;position: relative;}#sk-container-id-15 div.sk-text-repr-fallback {display: none;}</style><div id=\"sk-container-id-15\" class=\"sk-top-container\"><div class=\"sk-text-repr-fallback\"><pre>GridSearchCV(cv=5, estimator=LogisticRegression(),\n",
       "             param_grid={&#x27;C&#x27;: [0.001, 0.01, 0.1, 1, 10],\n",
       "                         &#x27;penalty&#x27;: [&#x27;l1&#x27;, &#x27;l2&#x27;]},\n",
       "             scoring=&#x27;precision&#x27;)</pre><b>In a Jupyter environment, please rerun this cell to show the HTML representation or trust the notebook. <br />On GitHub, the HTML representation is unable to render, please try loading this page with nbviewer.org.</b></div><div class=\"sk-container\" hidden><div class=\"sk-item sk-dashed-wrapped\"><div class=\"sk-label-container\"><div class=\"sk-label sk-toggleable\"><input class=\"sk-toggleable__control sk-hidden--visually\" id=\"sk-estimator-id-17\" type=\"checkbox\" ><label for=\"sk-estimator-id-17\" class=\"sk-toggleable__label sk-toggleable__label-arrow\">GridSearchCV</label><div class=\"sk-toggleable__content\"><pre>GridSearchCV(cv=5, estimator=LogisticRegression(),\n",
       "             param_grid={&#x27;C&#x27;: [0.001, 0.01, 0.1, 1, 10],\n",
       "                         &#x27;penalty&#x27;: [&#x27;l1&#x27;, &#x27;l2&#x27;]},\n",
       "             scoring=&#x27;precision&#x27;)</pre></div></div></div><div class=\"sk-parallel\"><div class=\"sk-parallel-item\"><div class=\"sk-item\"><div class=\"sk-label-container\"><div class=\"sk-label sk-toggleable\"><input class=\"sk-toggleable__control sk-hidden--visually\" id=\"sk-estimator-id-18\" type=\"checkbox\" ><label for=\"sk-estimator-id-18\" class=\"sk-toggleable__label sk-toggleable__label-arrow\">estimator: LogisticRegression</label><div class=\"sk-toggleable__content\"><pre>LogisticRegression()</pre></div></div></div><div class=\"sk-serial\"><div class=\"sk-item\"><div class=\"sk-estimator sk-toggleable\"><input class=\"sk-toggleable__control sk-hidden--visually\" id=\"sk-estimator-id-19\" type=\"checkbox\" ><label for=\"sk-estimator-id-19\" class=\"sk-toggleable__label sk-toggleable__label-arrow\">LogisticRegression</label><div class=\"sk-toggleable__content\"><pre>LogisticRegression()</pre></div></div></div></div></div></div></div></div></div></div>"
      ],
      "text/plain": [
       "GridSearchCV(cv=5, estimator=LogisticRegression(),\n",
       "             param_grid={'C': [0.001, 0.01, 0.1, 1, 10],\n",
       "                         'penalty': ['l1', 'l2']},\n",
       "             scoring='precision')"
      ]
     },
     "execution_count": 204,
     "metadata": {},
     "output_type": "execute_result"
    }
   ],
   "source": [
    "# Perform grid search to find the best hyperparameters\n",
    "grid_search.fit(X_train_resampled, y_train_resampled)\n"
   ]
  },
  {
   "cell_type": "code",
   "execution_count": 205,
   "id": "507f5a7f",
   "metadata": {},
   "outputs": [
    {
     "name": "stdout",
     "output_type": "stream",
     "text": [
      "Best Hyperparameters: {'C': 0.01, 'penalty': 'l2'}\n"
     ]
    }
   ],
   "source": [
    "# Get the best hyperparameters\n",
    "best_params = grid_search.best_params_\n",
    "print('Best Hyperparameters:', best_params)\n"
   ]
  },
  {
   "cell_type": "code",
   "execution_count": 206,
   "id": "d1a1c0a6",
   "metadata": {},
   "outputs": [],
   "source": [
    "# Create the logistic regression classifier with the best hyperparameters\n",
    "best_logistic_regression = LogisticRegression(C=best_params['C'], penalty=best_params['penalty'])"
   ]
  },
  {
   "cell_type": "code",
   "execution_count": 207,
   "id": "dc871481",
   "metadata": {},
   "outputs": [
    {
     "data": {
      "text/html": [
       "<style>#sk-container-id-16 {color: black;}#sk-container-id-16 pre{padding: 0;}#sk-container-id-16 div.sk-toggleable {background-color: white;}#sk-container-id-16 label.sk-toggleable__label {cursor: pointer;display: block;width: 100%;margin-bottom: 0;padding: 0.3em;box-sizing: border-box;text-align: center;}#sk-container-id-16 label.sk-toggleable__label-arrow:before {content: \"▸\";float: left;margin-right: 0.25em;color: #696969;}#sk-container-id-16 label.sk-toggleable__label-arrow:hover:before {color: black;}#sk-container-id-16 div.sk-estimator:hover label.sk-toggleable__label-arrow:before {color: black;}#sk-container-id-16 div.sk-toggleable__content {max-height: 0;max-width: 0;overflow: hidden;text-align: left;background-color: #f0f8ff;}#sk-container-id-16 div.sk-toggleable__content pre {margin: 0.2em;color: black;border-radius: 0.25em;background-color: #f0f8ff;}#sk-container-id-16 input.sk-toggleable__control:checked~div.sk-toggleable__content {max-height: 200px;max-width: 100%;overflow: auto;}#sk-container-id-16 input.sk-toggleable__control:checked~label.sk-toggleable__label-arrow:before {content: \"▾\";}#sk-container-id-16 div.sk-estimator input.sk-toggleable__control:checked~label.sk-toggleable__label {background-color: #d4ebff;}#sk-container-id-16 div.sk-label input.sk-toggleable__control:checked~label.sk-toggleable__label {background-color: #d4ebff;}#sk-container-id-16 input.sk-hidden--visually {border: 0;clip: rect(1px 1px 1px 1px);clip: rect(1px, 1px, 1px, 1px);height: 1px;margin: -1px;overflow: hidden;padding: 0;position: absolute;width: 1px;}#sk-container-id-16 div.sk-estimator {font-family: monospace;background-color: #f0f8ff;border: 1px dotted black;border-radius: 0.25em;box-sizing: border-box;margin-bottom: 0.5em;}#sk-container-id-16 div.sk-estimator:hover {background-color: #d4ebff;}#sk-container-id-16 div.sk-parallel-item::after {content: \"\";width: 100%;border-bottom: 1px solid gray;flex-grow: 1;}#sk-container-id-16 div.sk-label:hover label.sk-toggleable__label {background-color: #d4ebff;}#sk-container-id-16 div.sk-serial::before {content: \"\";position: absolute;border-left: 1px solid gray;box-sizing: border-box;top: 0;bottom: 0;left: 50%;z-index: 0;}#sk-container-id-16 div.sk-serial {display: flex;flex-direction: column;align-items: center;background-color: white;padding-right: 0.2em;padding-left: 0.2em;position: relative;}#sk-container-id-16 div.sk-item {position: relative;z-index: 1;}#sk-container-id-16 div.sk-parallel {display: flex;align-items: stretch;justify-content: center;background-color: white;position: relative;}#sk-container-id-16 div.sk-item::before, #sk-container-id-16 div.sk-parallel-item::before {content: \"\";position: absolute;border-left: 1px solid gray;box-sizing: border-box;top: 0;bottom: 0;left: 50%;z-index: -1;}#sk-container-id-16 div.sk-parallel-item {display: flex;flex-direction: column;z-index: 1;position: relative;background-color: white;}#sk-container-id-16 div.sk-parallel-item:first-child::after {align-self: flex-end;width: 50%;}#sk-container-id-16 div.sk-parallel-item:last-child::after {align-self: flex-start;width: 50%;}#sk-container-id-16 div.sk-parallel-item:only-child::after {width: 0;}#sk-container-id-16 div.sk-dashed-wrapped {border: 1px dashed gray;margin: 0 0.4em 0.5em 0.4em;box-sizing: border-box;padding-bottom: 0.4em;background-color: white;}#sk-container-id-16 div.sk-label label {font-family: monospace;font-weight: bold;display: inline-block;line-height: 1.2em;}#sk-container-id-16 div.sk-label-container {text-align: center;}#sk-container-id-16 div.sk-container {/* jupyter's `normalize.less` sets `[hidden] { display: none; }` but bootstrap.min.css set `[hidden] { display: none !important; }` so we also need the `!important` here to be able to override the default hidden behavior on the sphinx rendered scikit-learn.org. See: https://github.com/scikit-learn/scikit-learn/issues/21755 */display: inline-block !important;position: relative;}#sk-container-id-16 div.sk-text-repr-fallback {display: none;}</style><div id=\"sk-container-id-16\" class=\"sk-top-container\"><div class=\"sk-text-repr-fallback\"><pre>LogisticRegression(C=0.01)</pre><b>In a Jupyter environment, please rerun this cell to show the HTML representation or trust the notebook. <br />On GitHub, the HTML representation is unable to render, please try loading this page with nbviewer.org.</b></div><div class=\"sk-container\" hidden><div class=\"sk-item\"><div class=\"sk-estimator sk-toggleable\"><input class=\"sk-toggleable__control sk-hidden--visually\" id=\"sk-estimator-id-20\" type=\"checkbox\" checked><label for=\"sk-estimator-id-20\" class=\"sk-toggleable__label sk-toggleable__label-arrow\">LogisticRegression</label><div class=\"sk-toggleable__content\"><pre>LogisticRegression(C=0.01)</pre></div></div></div></div></div>"
      ],
      "text/plain": [
       "LogisticRegression(C=0.01)"
      ]
     },
     "execution_count": 207,
     "metadata": {},
     "output_type": "execute_result"
    }
   ],
   "source": [
    "# Train the best logistic regression classifier on the resampled training data\n",
    "best_logistic_regression.fit(X_train_resampled, y_train_resampled)"
   ]
  },
  {
   "cell_type": "code",
   "execution_count": 208,
   "id": "402c82c3",
   "metadata": {},
   "outputs": [
    {
     "name": "stdout",
     "output_type": "stream",
     "text": [
      "GridSearchCV best score: 0.9491640368281539\n",
      "Paramters that give the best results: {'C': 0.01, 'penalty': 'l2'}\n",
      "Estimator that was chosen by the search: LogisticRegression(C=0.01)\n"
     ]
    }
   ],
   "source": [
    "#best score achieved during the GridSearchCV\n",
    "print(f'GridSearchCV best score: {grid_search.best_score_}')\n",
    "\n",
    "#print parameters that give the best results\n",
    "print(f'Paramters that give the best results: {grid_search.best_params_}')\n",
    "\n",
    "#print estimator that was chosen by the GridSearch\n",
    "print(f'Estimator that was chosen by the search: {grid_search.best_estimator_}')"
   ]
  },
  {
   "cell_type": "code",
   "execution_count": 209,
   "id": "ba1f31ca",
   "metadata": {},
   "outputs": [
    {
     "name": "stdout",
     "output_type": "stream",
     "text": [
      "Training score: 0.9473927088140286\n",
      "Test score: 0.9503968253968254\n"
     ]
    }
   ],
   "source": [
    "print(f'Training score: {grid_search.score(X_train_resampled, y_train_resampled)}')\n",
    "print(f'Test score: {grid_search.score(X_test,y_test)}')"
   ]
  },
  {
   "cell_type": "code",
   "execution_count": 210,
   "id": "f3f85544",
   "metadata": {},
   "outputs": [],
   "source": [
    "# Make predictions on the testing data\n",
    "y_pred = best_logistic_regression.predict(X_test)\n"
   ]
  },
  {
   "cell_type": "code",
   "execution_count": 211,
   "id": "ef83056f",
   "metadata": {},
   "outputs": [
    {
     "name": "stdout",
     "output_type": "stream",
     "text": [
      "Classification Report:\n",
      "               precision    recall  f1-score   support\n",
      "\n",
      "           0       0.97      1.00      0.99      6778\n",
      "           1       0.95      0.73      0.83       656\n",
      "\n",
      "    accuracy                           0.97      7434\n",
      "   macro avg       0.96      0.86      0.91      7434\n",
      "weighted avg       0.97      0.97      0.97      7434\n",
      "\n"
     ]
    }
   ],
   "source": [
    "# Generate a classification report\n",
    "report = classification_report(y_test, y_pred)\n",
    "print('Classification Report:\\n', report)\n"
   ]
  },
  {
   "cell_type": "code",
   "execution_count": 212,
   "id": "8ffdb1fa",
   "metadata": {},
   "outputs": [
    {
     "data": {
      "image/png": "[encoded data removed]",
      "text/plain": [
       "<Figure size 600x400 with 2 Axes>"
      ]
     },
     "metadata": {},
     "output_type": "display_data"
    }
   ],
   "source": [
    "sns.heatmap(confusion_matrix(y_test,grid_search.predict(X_test)),annot=True, fmt=\"g\")\n",
    "plt.rcParams['figure.figsize'] = (6, 4) \n",
    "plt.xlabel(\"Predicted\")\n",
    "plt.show(\"Actual\")\n",
    "plt.show()"
   ]
  },
  {
   "cell_type": "code",
   "execution_count": 213,
   "id": "635b3814",
   "metadata": {},
   "outputs": [],
   "source": [
    "# Calculate ROC curve and AUC\n",
    "fpr, tpr, thresholds = roc_curve(y_test, y_pred)\n",
    "roc_auc = auc(fpr, tpr)"
   ]
  },
  {
   "cell_type": "code",
   "execution_count": 214,
   "id": "00ee2587",
   "metadata": {
    "scrolled": true
   },
   "outputs": [
    {
     "data": {
      "image/png": "[encoded data removed]",
      "text/plain": [
       "<Figure size 300x300 with 1 Axes>"
      ]
     },
     "metadata": {},
     "output_type": "display_data"
    }
   ],
   "source": [
    "# Plot ROC curve\n",
    "plt.figure(figsize=(3, 3)) \n",
    "plt.plot(fpr, tpr, color='darkorange', lw=2, label='ROC curve (area = {:.2f})'.format(roc_auc))\n",
    "plt.plot([0, 1], [0, 1], color='navy', lw=2, linestyle='--')\n",
    "plt.xlim([0.0, 1.0])\n",
    "plt.ylim([0.0, 1.05])\n",
    "plt.xlabel('False Positive Rate')\n",
    "plt.ylabel('True Positive Rate')\n",
    "plt.title('Receiver Operating Characteristic (ROC) Curve')\n",
    "plt.legend(loc='lower right')\n",
    "plt.show()"
   ]
  },
  {
   "cell_type": "code",
   "execution_count": 215,
   "id": "cfe98200",
   "metadata": {},
   "outputs": [
    {
     "name": "stdout",
     "output_type": "stream",
     "text": [
      "Specificity: 0.9963115963411036\n"
     ]
    }
   ],
   "source": [
    "# Calculate specificity\n",
    "tn, fp, fn, tp = confusion_matrix(y_test, y_pred).ravel()\n",
    "specificity = tn / (tn + fp)\n",
    "print('Specificity:', specificity)"
   ]
  },
  {
   "cell_type": "markdown",
   "id": "9308c77c",
   "metadata": {},
   "source": [
    "## 4. Support Vector Machine Model"
   ]
  },
  {
   "cell_type": "code",
   "execution_count": 216,
   "id": "5b5668f2",
   "metadata": {},
   "outputs": [],
   "source": [
    "# Import necessary libraries\n",
    "import numpy as np\n",
    "import pandas as pd\n",
    "import matplotlib.pyplot as plt\n",
    "from sklearn.model_selection import train_test_split, GridSearchCV\n",
    "from sklearn.svm import SVC\n",
    "from sklearn.metrics import accuracy_score, confusion_matrix, classification_report, roc_curve, roc_auc_score\n",
    "from sklearn.preprocessing import StandardScaler\n",
    "import scikitplot as skplt"
   ]
  },
  {
   "cell_type": "markdown",
   "id": "f9206186",
   "metadata": {},
   "source": [
    "### No parameter tuning"
   ]
  },
  {
   "cell_type": "code",
   "execution_count": 217,
   "id": "e9d6d8da",
   "metadata": {},
   "outputs": [],
   "source": [
    " #Create a random subset of the training data for faster training since computational time for training SVM model is high\n",
    " #Define the subset size\n",
    " #subset_size = 20000\n",
    "\n",
    " #Generate random indices for the subset\n",
    " #subset_indices = np.random.choice(X_train.shape[0], size=subset_size, replace=False)\n",
    "\n",
    " #Create the subset of training data\n",
    " #X_train = X_train.iloc[subset_indices]\n",
    " #y_train = y_train.iloc[subset_indices]"
   ]
  },
  {
   "cell_type": "code",
   "execution_count": 218,
   "id": "4c744d73",
   "metadata": {},
   "outputs": [],
   "source": [
    "# Standardize the features\n",
    "scaler = StandardScaler()\n",
    "X_train_resampled = scaler.fit_transform(X_train_resampled)\n",
    "X_test = scaler.transform(X_test)"
   ]
  },
  {
   "cell_type": "code",
   "execution_count": 219,
   "id": "8a76b140",
   "metadata": {},
   "outputs": [],
   "source": [
    "# Create an SVM classifier (before hyperparameter tuning)\n",
    "svm_classifier = SVC(random_state=42, class_weight='balanced')"
   ]
  },
  {
   "cell_type": "code",
   "execution_count": 220,
   "id": "60e6cb25",
   "metadata": {},
   "outputs": [
    {
     "data": {
      "text/html": [
       "<style>#sk-container-id-17 {color: black;}#sk-container-id-17 pre{padding: 0;}#sk-container-id-17 div.sk-toggleable {background-color: white;}#sk-container-id-17 label.sk-toggleable__label {cursor: pointer;display: block;width: 100%;margin-bottom: 0;padding: 0.3em;box-sizing: border-box;text-align: center;}#sk-container-id-17 label.sk-toggleable__label-arrow:before {content: \"▸\";float: left;margin-right: 0.25em;color: #696969;}#sk-container-id-17 label.sk-toggleable__label-arrow:hover:before {color: black;}#sk-container-id-17 div.sk-estimator:hover label.sk-toggleable__label-arrow:before {color: black;}#sk-container-id-17 div.sk-toggleable__content {max-height: 0;max-width: 0;overflow: hidden;text-align: left;background-color: #f0f8ff;}#sk-container-id-17 div.sk-toggleable__content pre {margin: 0.2em;color: black;border-radius: 0.25em;background-color: #f0f8ff;}#sk-container-id-17 input.sk-toggleable__control:checked~div.sk-toggleable__content {max-height: 200px;max-width: 100%;overflow: auto;}#sk-container-id-17 input.sk-toggleable__control:checked~label.sk-toggleable__label-arrow:before {content: \"▾\";}#sk-container-id-17 div.sk-estimator input.sk-toggleable__control:checked~label.sk-toggleable__label {background-color: #d4ebff;}#sk-container-id-17 div.sk-label input.sk-toggleable__control:checked~label.sk-toggleable__label {background-color: #d4ebff;}#sk-container-id-17 input.sk-hidden--visually {border: 0;clip: rect(1px 1px 1px 1px);clip: rect(1px, 1px, 1px, 1px);height: 1px;margin: -1px;overflow: hidden;padding: 0;position: absolute;width: 1px;}#sk-container-id-17 div.sk-estimator {font-family: monospace;background-color: #f0f8ff;border: 1px dotted black;border-radius: 0.25em;box-sizing: border-box;margin-bottom: 0.5em;}#sk-container-id-17 div.sk-estimator:hover {background-color: #d4ebff;}#sk-container-id-17 div.sk-parallel-item::after {content: \"\";width: 100%;border-bottom: 1px solid gray;flex-grow: 1;}#sk-container-id-17 div.sk-label:hover label.sk-toggleable__label {background-color: #d4ebff;}#sk-container-id-17 div.sk-serial::before {content: \"\";position: absolute;border-left: 1px solid gray;box-sizing: border-box;top: 0;bottom: 0;left: 50%;z-index: 0;}#sk-container-id-17 div.sk-serial {display: flex;flex-direction: column;align-items: center;background-color: white;padding-right: 0.2em;padding-left: 0.2em;position: relative;}#sk-container-id-17 div.sk-item {position: relative;z-index: 1;}#sk-container-id-17 div.sk-parallel {display: flex;align-items: stretch;justify-content: center;background-color: white;position: relative;}#sk-container-id-17 div.sk-item::before, #sk-container-id-17 div.sk-parallel-item::before {content: \"\";position: absolute;border-left: 1px solid gray;box-sizing: border-box;top: 0;bottom: 0;left: 50%;z-index: -1;}#sk-container-id-17 div.sk-parallel-item {display: flex;flex-direction: column;z-index: 1;position: relative;background-color: white;}#sk-container-id-17 div.sk-parallel-item:first-child::after {align-self: flex-end;width: 50%;}#sk-container-id-17 div.sk-parallel-item:last-child::after {align-self: flex-start;width: 50%;}#sk-container-id-17 div.sk-parallel-item:only-child::after {width: 0;}#sk-container-id-17 div.sk-dashed-wrapped {border: 1px dashed gray;margin: 0 0.4em 0.5em 0.4em;box-sizing: border-box;padding-bottom: 0.4em;background-color: white;}#sk-container-id-17 div.sk-label label {font-family: monospace;font-weight: bold;display: inline-block;line-height: 1.2em;}#sk-container-id-17 div.sk-label-container {text-align: center;}#sk-container-id-17 div.sk-container {/* jupyter's `normalize.less` sets `[hidden] { display: none; }` but bootstrap.min.css set `[hidden] { display: none !important; }` so we also need the `!important` here to be able to override the default hidden behavior on the sphinx rendered scikit-learn.org. See: https://github.com/scikit-learn/scikit-learn/issues/21755 */display: inline-block !important;position: relative;}#sk-container-id-17 div.sk-text-repr-fallback {display: none;}</style><div id=\"sk-container-id-17\" class=\"sk-top-container\"><div class=\"sk-text-repr-fallback\"><pre>SVC(class_weight=&#x27;balanced&#x27;, random_state=42)</pre><b>In a Jupyter environment, please rerun this cell to show the HTML representation or trust the notebook. <br />On GitHub, the HTML representation is unable to render, please try loading this page with nbviewer.org.</b></div><div class=\"sk-container\" hidden><div class=\"sk-item\"><div class=\"sk-estimator sk-toggleable\"><input class=\"sk-toggleable__control sk-hidden--visually\" id=\"sk-estimator-id-21\" type=\"checkbox\" checked><label for=\"sk-estimator-id-21\" class=\"sk-toggleable__label sk-toggleable__label-arrow\">SVC</label><div class=\"sk-toggleable__content\"><pre>SVC(class_weight=&#x27;balanced&#x27;, random_state=42)</pre></div></div></div></div></div>"
      ],
      "text/plain": [
       "SVC(class_weight='balanced', random_state=42)"
      ]
     },
     "execution_count": 220,
     "metadata": {},
     "output_type": "execute_result"
    }
   ],
   "source": [
    "# Train the SVM classifier on the training data\n",
    "svm_classifier.fit(X_train_resampled,y_train_resampled)"
   ]
  },
  {
   "cell_type": "code",
   "execution_count": 221,
   "id": "0a56e10e",
   "metadata": {},
   "outputs": [
    {
     "name": "stdout",
     "output_type": "stream",
     "text": [
      "Training Accuracy: 1.00\n",
      "Testing Accuracy: 0.99\n"
     ]
    }
   ],
   "source": [
    "# Calculate training and testing accuracy\n",
    "train_accuracy = accuracy_score(y_train_resampled, svm_classifier.predict(X_train_resampled))\n",
    "test_accuracy = accuracy_score(y_test, svm_classifier.predict(X_test))\n",
    "print(f'Training Accuracy: {train_accuracy:.2f}')\n",
    "print(f'Testing Accuracy: {test_accuracy:.2f}')"
   ]
  },
  {
   "cell_type": "code",
   "execution_count": 222,
   "id": "cf06f506",
   "metadata": {},
   "outputs": [
    {
     "data": {
      "text/plain": [
       "<Figure size 300x300 with 0 Axes>"
      ]
     },
     "metadata": {},
     "output_type": "display_data"
    },
    {
     "data": {
      "image/png": "[encoded data removed]",
      "text/plain": [
       "<Figure size 600x400 with 2 Axes>"
      ]
     },
     "metadata": {},
     "output_type": "display_data"
    }
   ],
   "source": [
    "# Plot confusion matrix\n",
    "plt.figure(figsize=(3, 3))\n",
    "skplt.metrics.plot_confusion_matrix(y_test, svm_classifier.predict(X_test))\n",
    "plt.show()"
   ]
  },
  {
   "cell_type": "code",
   "execution_count": 223,
   "id": "fba0a8e7",
   "metadata": {},
   "outputs": [
    {
     "name": "stdout",
     "output_type": "stream",
     "text": [
      "Classification Report:\n",
      "               precision    recall  f1-score   support\n",
      "\n",
      "           0       1.00      1.00      1.00      6778\n",
      "           1       0.96      0.97      0.97       656\n",
      "\n",
      "    accuracy                           0.99      7434\n",
      "   macro avg       0.98      0.98      0.98      7434\n",
      "weighted avg       0.99      0.99      0.99      7434\n",
      "\n"
     ]
    }
   ],
   "source": [
    "# Generate classification report with precision, recall, F1-score, and support\n",
    "classification_rep = classification_report(y_test, svm_classifier.predict(X_test))\n",
    "print('Classification Report:\\n', classification_rep)"
   ]
  },
  {
   "cell_type": "markdown",
   "id": "24f4b58f",
   "metadata": {},
   "source": [
    "### Hyperparameter Tuning"
   ]
  },
  {
   "cell_type": "code",
   "execution_count": 224,
   "id": "139fc9e6",
   "metadata": {},
   "outputs": [],
   "source": [
    "# Define a grid of hyperparameters to search\n",
    "param_grid = {\n",
    "    'kernel': ['linear', 'rbf'],  #Possible kernel functions\n",
    "    'C': [0.1, 1, 10]  # Values of C\n",
    "}"
   ]
  },
  {
   "cell_type": "code",
   "execution_count": 225,
   "id": "ecc71d9e",
   "metadata": {},
   "outputs": [],
   "source": [
    "# Create a GridSearchCV object with 5-fold cross-validation\n",
    "grid_search_2 = GridSearchCV(estimator=svm_classifier, param_grid=param_grid, cv=5, scoring='accuracy', n_jobs=-1)"
   ]
  },
  {
   "cell_type": "code",
   "execution_count": null,
   "id": "7e1f2a7d",
   "metadata": {},
   "outputs": [],
   "source": [
    "# Perform grid search to find the best hyperparameters\n",
    "grid_search_2.fit(X_train_resampled,y_train_resampled)"
   ]
  },
  {
   "cell_type": "code",
   "execution_count": null,
   "id": "dd62963d",
   "metadata": {},
   "outputs": [],
   "source": [
    "# Get the best hyperparameters from the grid search\n",
    "best_params = grid_search_2.best_params_\n",
    "best_kernel = best_params['kernel']\n",
    "best_C = best_params['C']\n",
    "print('Best Hyperparameters:')\n",
    "print(f'Kernel: {best_kernel}')\n",
    "print(f'C: {best_C}')"
   ]
  },
  {
   "cell_type": "code",
   "execution_count": null,
   "id": "705b2e5c",
   "metadata": {},
   "outputs": [],
   "source": [
    "# Train the final SVM model with the best hyperparameters on the entire training set\n",
    "final_svm_classifier = SVC(kernel=best_kernel, C=best_C, random_state=42)\n",
    "final_svm_classifier.fit(X_train_resampled,y_train_resampled)"
   ]
  },
  {
   "cell_type": "code",
   "execution_count": null,
   "id": "b2b59f87",
   "metadata": {},
   "outputs": [],
   "source": [
    "# Calculate training and testing accuracy\n",
    "train_accuracy = accuracy_score(y_train_resampled, final_svm_classifier.predict(X_train_resampled))\n",
    "test_accuracy = accuracy_score(y_test, final_svm_classifier.predict(X_test))\n",
    "print(f'Training Accuracy: {train_accuracy:.2f}')\n",
    "print(f'Testing Accuracy: {test_accuracy:.2f}')"
   ]
  },
  {
   "cell_type": "code",
   "execution_count": null,
   "id": "56a1b4ef",
   "metadata": {},
   "outputs": [],
   "source": [
    "# Generate a confusion matrix for the test data - Approach 1\n",
    "cm = confusion_matrix(y_test, final_svm_classifier.predict(X_test))\n",
    "cm\n",
    "\n",
    "# Plot confusion matrix\n",
    "plt.figure(figsize=(3, 3))\n",
    "plt.imshow(cm, interpolation='nearest', cmap=plt.cm.Blues)\n",
    "plt.title('Confusion Matrix')\n",
    "plt.colorbar()\n",
    "plt.xlabel('Predicted')\n",
    "plt.ylabel('Actual')\n",
    "plt.show()"
   ]
  },
  {
   "cell_type": "code",
   "execution_count": null,
   "id": "206d1cae",
   "metadata": {},
   "outputs": [],
   "source": [
    "# Plot confusion matrix - Approach 2\n",
    "plt.figure(figsize=(3, 3))\n",
    "skplt.metrics.plot_confusion_matrix(y_test, final_svm_classifier.predict(X_test))\n",
    "plt.show()"
   ]
  },
  {
   "cell_type": "code",
   "execution_count": null,
   "id": "af0bbc99",
   "metadata": {
    "scrolled": true
   },
   "outputs": [],
   "source": [
    "# Generate classification report with precision, recall, F1-score, and support\n",
    "classification_rep = classification_report(y_test, final_svm_classifier.predict(X_test))\n",
    "print('Classification Report:\\n', classification_rep)"
   ]
  },
  {
   "cell_type": "code",
   "execution_count": null,
   "id": "91c7c42d",
   "metadata": {},
   "outputs": [],
   "source": [
    "# Get the probability scores for the positive class (class 1)\n",
    "y_prob = final_svm_classifier.decision_function(X_test)\n",
    "\n",
    "# Compute the ROC curve\n",
    "fpr, tpr, thresholds = roc_curve(y_test, y_prob)\n",
    "\n",
    "# Calculate the AUC (Area Under the Curve)\n",
    "roc_auc = roc_auc_score(y_test, y_prob)\n",
    "\n",
    "# Plot the ROC curve\n",
    "plt.figure(figsize=(8, 6))\n",
    "plt.plot(fpr, tpr, color='darkorange', lw=2, label=f'ROC curve (AUC = {roc_auc:.2f})')\n",
    "plt.plot([0, 1], [0, 1], color='navy', lw=2, linestyle='--')\n",
    "plt.xlim([0.0, 1.0])\n",
    "plt.ylim([0.0, 1.05])\n",
    "plt.xlabel('False Positive Rate')\n",
    "plt.ylabel('True Positive Rate')\n",
    "plt.title('Receiver Operating Characteristic (ROC) Curve')\n",
    "plt.legend(loc='lower right')\n",
    "plt.show()"
   ]
  },
  {
   "cell_type": "markdown",
   "id": "259671bc",
   "metadata": {},
   "source": [
    "## 5. KNN (K - Nearest Neighbors)"
   ]
  },
  {
   "cell_type": "code",
   "execution_count": null,
   "id": "15af53c9",
   "metadata": {},
   "outputs": [],
   "source": [
    "import numpy as np\n",
    "import matplotlib.pyplot as plt\n",
    "from sklearn.neighbors import KNeighborsClassifier\n",
    "from sklearn.metrics import classification_report, confusion_matrix, accuracy_score, roc_curve, auc, roc_auc_score\n",
    "from sklearn.model_selection import GridSearchCV"
   ]
  },
  {
   "cell_type": "markdown",
   "id": "29b09303",
   "metadata": {},
   "source": [
    "### No parameter tuning"
   ]
  },
  {
   "cell_type": "code",
   "execution_count": null,
   "id": "dd30eca7",
   "metadata": {},
   "outputs": [],
   "source": [
    "#creating a KNN classifier \n",
    "knn_classifier = KNeighborsClassifier()"
   ]
  },
  {
   "cell_type": "code",
   "execution_count": null,
   "id": "3ea1da0e",
   "metadata": {},
   "outputs": [],
   "source": [
    "# Train the KNN classifier on the resampled training data\n",
    "knn_classifier.fit(X_train_resampled, y_train_resampled)"
   ]
  },
  {
   "cell_type": "code",
   "execution_count": null,
   "id": "97e7b651",
   "metadata": {},
   "outputs": [],
   "source": [
    "# Make predictions on the testing data\n",
    "y_pred = knn_classifier.predict(X_test)"
   ]
  },
  {
   "cell_type": "code",
   "execution_count": null,
   "id": "bf2f948c",
   "metadata": {},
   "outputs": [],
   "source": [
    "# Generate a classification report\n",
    "report = classification_report(y_test, y_pred)\n",
    "print('Classification Report:\\n', report)\n"
   ]
  },
  {
   "cell_type": "code",
   "execution_count": null,
   "id": "45fa0c68",
   "metadata": {},
   "outputs": [],
   "source": [
    "sns.heatmap(confusion_matrix(y_test, y_pred), annot=True,fmt=\"g\") \n",
    "plt.xlabel(\"Predicted\")\n",
    "plt.show(\"Actual\")\n",
    "plt.show()"
   ]
  },
  {
   "cell_type": "markdown",
   "id": "a70f16ac",
   "metadata": {},
   "source": [
    "### Hyperparameter Tuning"
   ]
  },
  {
   "cell_type": "code",
   "execution_count": null,
   "id": "f64701a7",
   "metadata": {},
   "outputs": [],
   "source": [
    "# Define a grid of hyperparameters to search\n",
    "param_grid = {\n",
    "    'n_neighbors': [3, 5, 7, 9],  # Experiment with different neighbor values\n",
    "    'weights': ['uniform', 'distance'],\n",
    "    'p': [1, 2]  # 1 for Manhattan distance, 2 for Euclidean distance\n",
    "}"
   ]
  },
  {
   "cell_type": "code",
   "execution_count": null,
   "id": "37b85d25",
   "metadata": {},
   "outputs": [],
   "source": [
    "# Create a KNN classifier\n",
    "knn_classifier = KNeighborsClassifier()\n"
   ]
  },
  {
   "cell_type": "code",
   "execution_count": null,
   "id": "f0df64c9",
   "metadata": {},
   "outputs": [],
   "source": [
    "# Create a GridSearchCV object with cross-validation\n",
    "grid_search = GridSearchCV(estimator=knn_classifier, param_grid=param_grid, cv=5, scoring='accuracy', n_jobs=-1)"
   ]
  },
  {
   "cell_type": "code",
   "execution_count": null,
   "id": "dd65a68c",
   "metadata": {},
   "outputs": [],
   "source": [
    "# Fit the grid search to the resampled training data\n",
    "grid_search.fit(X_train_resampled, y_train_resampled)\n"
   ]
  },
  {
   "cell_type": "code",
   "execution_count": null,
   "id": "b126754d",
   "metadata": {},
   "outputs": [],
   "source": [
    "# Get the best hyperparameters\n",
    "best_params = grid_search.best_params_\n",
    "print('Best Hyperparameters:', best_params)\n"
   ]
  },
  {
   "cell_type": "code",
   "execution_count": null,
   "id": "8f34a59e",
   "metadata": {},
   "outputs": [],
   "source": [
    "# Create the KNN classifier with the best hyperparameters\n",
    "best_knn_classifier = KNeighborsClassifier(n_neighbors=best_params['n_neighbors'],\n",
    "                                           weights=best_params['weights'], p=best_params['p'])\n"
   ]
  },
  {
   "cell_type": "code",
   "execution_count": null,
   "id": "0079c761",
   "metadata": {},
   "outputs": [],
   "source": [
    "# Train the best KNN classifier on the resampled training data\n",
    "best_knn_classifier.fit(X_train_resampled, y_train_resampled)"
   ]
  },
  {
   "cell_type": "code",
   "execution_count": null,
   "id": "b60e7595",
   "metadata": {},
   "outputs": [],
   "source": [
    "# Make predictions on the testing data\n",
    "y_pred = best_knn_classifier.predict(X_test)\n"
   ]
  },
  {
   "cell_type": "code",
   "execution_count": null,
   "id": "b3c5cd27",
   "metadata": {},
   "outputs": [],
   "source": [
    "# Generate a classification report\n",
    "report = classification_report(y_test, y_pred)\n",
    "print('Classification Report:\\n', report)\n"
   ]
  },
  {
   "cell_type": "code",
   "execution_count": null,
   "id": "9ab2cd64",
   "metadata": {},
   "outputs": [],
   "source": [
    "# Create and display a confusion matrix\n",
    "sns.heatmap(confusion_matrix(y_test, y_pred), annot=True,fmt=\"g\") \n",
    "plt.xlabel(\"Predicted\")\n",
    "plt.show(\"Actual\")\n",
    "plt.show()"
   ]
  },
  {
   "cell_type": "code",
   "execution_count": null,
   "id": "29acb765",
   "metadata": {},
   "outputs": [],
   "source": [
    "# Calculate ROC curve and AUC\n",
    "y_prob = best_knn_classifier.predict_proba(X_test)[:, 1]\n",
    "fpr, tpr, thresholds = roc_curve(y_test, y_prob)\n",
    "roc_auc = auc(fpr, tpr)"
   ]
  },
  {
   "cell_type": "code",
   "execution_count": null,
   "id": "134574ad",
   "metadata": {},
   "outputs": [],
   "source": [
    "# Plot ROC curve\n",
    "plt.figure(figsize=(8, 6))\n",
    "plt.plot(fpr, tpr, color='darkorange', lw=2, label=f'ROC curve (AUC = {roc_auc:.2f})')\n",
    "plt.plot([0, 1], [0, 1], color='navy', lw=2, linestyle='--')\n",
    "plt.xlim([0.0, 1.0])\n",
    "plt.ylim([0.0, 1.05])\n",
    "plt.xlabel('False Positive Rate')\n",
    "plt.ylabel('True Positive Rate')\n",
    "plt.title('Receiver Operating Characteristic (ROC) Curve')\n",
    "plt.legend(loc='lower right')\n",
    "plt.show()"
   ]
  },
  {
   "cell_type": "code",
   "execution_count": null,
   "id": "229e4bd0",
   "metadata": {},
   "outputs": [],
   "source": [
    "# Calculate specificity (True Negative Rate)\n",
    "tn, fp, fn, tp = cm.ravel()\n",
    "specificity = tn / (tn + fp)\n",
    "print(f'Specificity: {specificity:.2f}')"
   ]
  },
  {
   "cell_type": "markdown",
   "id": "e37dfa17",
   "metadata": {},
   "source": [
    "# Model Evaluation"
   ]
  },
  {
   "cell_type": "code",
   "execution_count": null,
   "id": "91d8070b",
   "metadata": {},
   "outputs": [],
   "source": [
    "import matplotlib.pyplot as plt\n",
    "import numpy as np\n",
    "\n",
    "\n",
    "\n",
    "\n",
    "# Sample data\n",
    "model_names = ['RFM', 'NB', 'LR', 'SVM', 'KNN']\n",
    "precision_class0 = [1.00, 1.00, 0.99, 1.00, 1.00]\n",
    "recall_class0 = [1.00, 0.99, 1.00, 1.00, 1.00]\n",
    "f1_score_class0 = [1.00, 0.99, 1.00, 1.00, 1.00]\n",
    "precision_class1 = [1.00, 0.23, 0.00, 0.75, 0.00]\n",
    "recall_class1 = [0.10, 0.61, 0.00, 0.39, 0.00]\n",
    "f1_score_class1 = [0.18, 0.34, 0.00, 0.51, 0.00]\n",
    "\n",
    "\n",
    "# Set the width of each bar\n",
    "bar_width = 0.3\n",
    "\n",
    "# Set the x positions of the bars\n",
    "x = np.arange(len(model_names))\n",
    "\n",
    "# Create the bar chart for precision\n",
    "plt.bar(x, precision_class0, width=bar_width, label='Precision')\n",
    "\n",
    "# Create the bar chart for recall, shifted by bar_width\n",
    "plt.bar(x + bar_width, recall_class0, width=bar_width, label='Recall')\n",
    "\n",
    "# Create the bar chart for F1-score, shifted by 2*bar_width\n",
    "plt.bar(x + 2*bar_width, f1_score_class0, width=bar_width, label='F1-Score')\n",
    "\n",
    "# Set labels and legends\n",
    "plt.xlabel('Model Names')\n",
    "plt.ylabel('Values')\n",
    "plt.title('Non-fraudulent')\n",
    "plt.xticks(x + bar_width, model_names)\n",
    "plt.legend()\n",
    "\n",
    "# Show the plot\n",
    "plt.tight_layout()\n",
    "plt.show()"
   ]
  },
  {
   "cell_type": "code",
   "execution_count": null,
   "id": "2f47c7f7",
   "metadata": {},
   "outputs": [],
   "source": [
    "import numpy as np\n",
    "import matplotlib.pyplot as plt\n",
    "\n",
    "# Sample data for Class 1\n",
    "model_names = ['RFM', 'NB', 'LR', 'SVM', 'KNN']\n",
    "precision_class1 = [1.00, 0.23, 0.00, 0.75, 0.00]\n",
    "recall_class1 = [0.10, 0.61, 0.00, 0.39, 0.00]\n",
    "f1_score_class1 = [0.18, 0.34, 0.00, 0.51, 0.00]\n",
    "\n",
    "# Set the width of each bar\n",
    "bar_width = 0.3\n",
    "\n",
    "# Set the x positions of the bars\n",
    "x = np.arange(len(model_names))\n",
    "\n",
    "# Create the bar chart for precision\n",
    "plt.bar(x, precision_class1, width=bar_width, label='Precision')\n",
    "\n",
    "# Create the bar chart for recall, shifted by bar_width\n",
    "plt.bar(x + bar_width, recall_class1, width=bar_width, label='Recall')\n",
    "\n",
    "# Create the bar chart for F1-score, shifted by 2*bar_width\n",
    "plt.bar(x + 2*bar_width, f1_score_class1, width=bar_width, label='F1-Score')\n",
    "\n",
    "# Set labels and legends\n",
    "plt.xlabel('Model Names')\n",
    "plt.ylabel('Values')\n",
    "plt.title('Fraudulant')\n",
    "plt.xticks(x + bar_width, model_names)\n",
    "plt.legend()\n",
    "\n",
    "# Show the plot\n",
    "plt.tight_layout()\n",
    "plt.show()\n"
   ]
  }
 ],
 "metadata": {
  "kernelspec": {
   "display_name": "Python 3 (ipykernel)",
   "language": "python",
   "name": "python3"
  },
  "language_info": {
   "codemirror_mode": {
    "name": "ipython",
    "version": 3
   },
   "file_extension": ".py",
   "mimetype": "text/x-python",
   "name": "python",
   "nbconvert_exporter": "python",
   "pygments_lexer": "ipython3",
   "version": "3.11.4"
  }
 },
 "nbformat": 4,
 "nbformat_minor": 5
}
