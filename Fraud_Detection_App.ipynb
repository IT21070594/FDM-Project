{
 "cells": [
  {
   "cell_type": "code",
   "execution_count": 1,
   "id": "6c282831",
   "metadata": {},
   "outputs": [],
   "source": [
    "\n",
    "#pip install streamlit"
   ]
  },
  {
   "cell_type": "code",
   "execution_count": 2,
   "id": "9aab8298",
   "metadata": {},
   "outputs": [
    {
     "name": "stdout",
     "output_type": "stream",
     "text": [
      "Requirement already satisfied: joblib in c:\\users\\hp\\anaconda3\\lib\\site-packages (1.2.0)\n",
      "Note: you may need to restart the kernel to use updated packages.\n"
     ]
    }
   ],
   "source": [
    "pip install joblib\n"
   ]
  },
  {
   "cell_type": "code",
   "execution_count": 3,
   "id": "ed2a5d00",
   "metadata": {},
   "outputs": [
    {
     "name": "stderr",
     "output_type": "stream",
     "text": [
      "2023-10-17 22:33:13.829 \n",
      "  \u001b[33m\u001b[1mWarning:\u001b[0m to view this Streamlit app on a browser, run it with the following\n",
      "  command:\n",
      "\n",
      "    streamlit run C:\\Users\\HP\\anaconda3\\Lib\\site-packages\\ipykernel_launcher.py [ARGUMENTS]\n"
     ]
    }
   ],
   "source": [
    "import streamlit as st\n",
    "import joblib  # Import joblib to load the model\n",
    "\n",
    "# Load the pre-trained model\n",
    "model = joblib.load(\"random_forest_model.pkl\")  # Replace with the actual filename\n",
    "\n",
    "# Streamlit app title\n",
    "st.title(\"Model-Specific Streamlit App\")\n",
    "\n",
    "# Add user input fields (customize based on your model's input requirements)\n",
    "user_input = st.number_input(\"Input Feature\", value=0.0)\n",
    "\n",
    "# Make predictions using the loaded model\n",
    "if st.button(\"Predict\"):\n",
    "    input_data = [user_input]  # Prepare the input data based on your model's requirements\n",
    "    prediction = model.predict(input_data)\n",
    "    st.write(\"Prediction:\", prediction[0])"
   ]
  },
  {
   "cell_type": "code",
   "execution_count": null,
   "id": "fadf5863",
   "metadata": {},
   "outputs": [],
   "source": []
  }
 ],
 "metadata": {
  "kernelspec": {
   "display_name": "Python 3 (ipykernel)",
   "language": "python",
   "name": "python3"
  },
  "language_info": {
   "codemirror_mode": {
    "name": "ipython",
    "version": 3
   },
   "file_extension": ".py",
   "mimetype": "text/x-python",
   "name": "python",
   "nbconvert_exporter": "python",
   "pygments_lexer": "ipython3",
   "version": "3.11.5"
  }
 },
 "nbformat": 4,
 "nbformat_minor": 5
}
