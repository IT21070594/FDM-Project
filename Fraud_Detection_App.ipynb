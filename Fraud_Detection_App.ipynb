{
 "cells": [
  {
   "cell_type": "code",
   "execution_count": 1,
   "id": "6c282831",
   "metadata": {},
   "outputs": [],
   "source": [
    "\n",
    "#pip install streamlit"
   ]
  },
  {
   "cell_type": "code",
   "execution_count": 2,
   "id": "9aab8298",
   "metadata": {},
   "outputs": [
    {
     "name": "stdout",
     "output_type": "stream",
     "text": [
      "Requirement already satisfied: joblib in c:\\users\\hp\\anaconda3\\lib\\site-packages (1.2.0)\n",
      "Note: you may need to restart the kernel to use updated packages.\n"
     ]
    }
   ],
   "source": [
    "#pip install joblib\n"
   ]
  },
  {
   "cell_type": "code",
   "execution_count": 3,
   "id": "ed2a5d00",
   "metadata": {},
   "outputs": [
    {
     "name": "stderr",
     "output_type": "stream",
     "text": [
      "2023-10-17 22:33:13.829 \n",
      "  \u001b[33m\u001b[1mWarning:\u001b[0m to view this Streamlit app on a browser, run it with the following\n",
      "  command:\n",
      "\n",
      "    streamlit run C:\\Users\\HP\\anaconda3\\Lib\\site-packages\\ipykernel_launcher.py [ARGUMENTS]\n"
     ]
    }
   ],
   "source": [
    "import streamlit as st\n",
    "import joblib  # Import joblib to load the model\n",
    "import pandas as pd\n",
    "\n",
    "# Load the pre-trained model\n",
    "#model = joblib.load(\"random_forest_model.pkl\")  # Replace with the actual filename\n",
    "\n",
    "\n",
    "\n",
    "# Define the background image CSS with a relative path\n",
    "background = \"\"\"\n",
    "<style>\n",
    "body {\n",
    "    background-image: url(\"https://d1m75rqqgidzqn.cloudfront.net/wp-data/2021/09/22153728/iStock-1203763961.jpg\");\n",
    "    background-size: cover;\n",
    "    background-attachment: fixed;\n",
    "}\n",
    "</style>\n",
    "\"\"\"\n",
    "\n",
    "# Set the app title and background\n",
    "st.set_page_config(page_title=\"Credit Card Fraud Detection App\", page_icon=\"🔒\")\n",
    "\n",
    "# Apply the background using st.markdown\n",
    "st.markdown(background, unsafe_allow_html=True)\n",
    "# Streamlit app content\n",
    "st.title(\"Credit Card Fraud Detection App\")\n",
    "\n",
    "\n",
    "\n",
    "\n",
    "# Load your dataset using Pandas (replace 'your_data.csv' with your actual file)\n",
    "dataset = pd.read_csv(\"Dataset/credit_card_subset.csv\")\n",
    "\n",
    "# Extract a specific column from the dataset for the dropdown\n",
    "column_name = 'merchant'  # Replace with the name of the column you want to use\n",
    "data_values_merchant = dataset[column_name].unique()\n",
    "\n",
    "# Create a dropdown using st.selectbox\n",
    "merchant = st.selectbox(\"Merchant\", data_values_merchant)\n",
    "st.write(\"You selected:\", merchant)\n",
    "\n",
    "# Extract a specific column from the dataset for the dropdown\n",
    "column_name = 'category'  # Replace with the name of the column you want to use\n",
    "data_values_category = dataset[column_name].unique()\n",
    "\n",
    "# Create a dropdown using st.selectbox\n",
    "category = st.selectbox(\"Category\", data_values_category)\n",
    "st.write(\"You selected:\", category)\n",
    "\n",
    "# Extract a specific column from the dataset for the dropdown\n",
    "column_name = 'job'  # Replace with the name of the column you want to use\n",
    "data_values_job = dataset[column_name].unique()\n",
    "\n",
    "# Create a dropdown using st.selectbox\n",
    "job = st.selectbox(\"Job\", data_values_job)\n",
    "st.write(\"You selected:\", job)\n",
    "\n",
    "\n",
    "\n",
    "# Extract a specific column from the dataset for the dropdown\n",
    "column_name = 'state'  # Replace with the name of the column you want to use\n",
    "data_values_state = dataset[column_name].unique()\n",
    "\n",
    "# Create a dropdown using st.selectbox\n",
    "state = st.selectbox(\"State\", data_values_state)\n",
    "st.write(\"You selected:\", state)\n",
    "\n",
    "# Extract a specific column from the dataset for the dropdown\n",
    "column_name = 'city'  # Replace with the name of the column you want to use\n",
    "data_values_city = dataset[column_name].unique()\n",
    "\n",
    "# Create a dropdown using st.selectbox\n",
    "city = st.selectbox(\"City\", data_values_city)\n",
    "st.write(\"You selected:\", city)\n",
    "\n",
    "\n",
    "age = st.number_input(\"Age\", min_value=0, max_value=120, value=30, placeholder=\"Type an age...\")\n",
    "st.write('The current age is ', age)\n",
    "\n",
    "amount = st.number_input('Amount')\n",
    "st.write('The current amount is ', amount)\n",
    "\n",
    "# Make predictions using the loaded model\n",
    "if st.button(\"Predict\"):\n",
    "    input_data = [user_input]  # Prepare the input data based on your model's requirements\n",
    "    prediction = model.predict(input_data)\n",
    "    st.write(\"Prediction:\", prediction[0])"
   ]
  },
  {
   "cell_type": "code",
   "execution_count": null,
   "id": "fadf5863",
   "metadata": {},
   "outputs": [],
   "source": []
  }
 ],
 "metadata": {
  "kernelspec": {
   "display_name": "Python 3 (ipykernel)",
   "language": "python",
   "name": "python3"
  },
  "language_info": {
   "codemirror_mode": {
    "name": "ipython",
    "version": 3
   },
   "file_extension": ".py",
   "mimetype": "text/x-python",
   "name": "python",
   "nbconvert_exporter": "python",
   "pygments_lexer": "ipython3",
   "version": "3.11.5"
  }
 },
 "nbformat": 4,
 "nbformat_minor": 5
}
